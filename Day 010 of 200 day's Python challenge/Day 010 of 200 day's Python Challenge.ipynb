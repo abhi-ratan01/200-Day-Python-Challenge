{
 "cells": [
  {
   "cell_type": "markdown",
   "id": "25c7f8a9-dabc-461c-b0e7-6a10c1e81ef3",
   "metadata": {},
   "source": [
    "# INHERITANCE"
   ]
  },
  {
   "cell_type": "markdown",
   "id": "4a533913-71ee-4dcd-81b5-1bb1e4dd302e",
   "metadata": {},
   "source": [
    "## Simple Inheritance"
   ]
  },
  {
   "cell_type": "code",
   "execution_count": 2,
   "id": "2d28ca85-50e0-41f5-8365-98ee37e1b4da",
   "metadata": {},
   "outputs": [],
   "source": [
    "class parent:\n",
    "    \n",
    "    def test_p(self):\n",
    "        print('This is a parent class function')"
   ]
  },
  {
   "cell_type": "code",
   "execution_count": 3,
   "id": "24d5b03e-8848-4caa-a199-4a5ac8cd31fd",
   "metadata": {},
   "outputs": [],
   "source": [
    "class child(parent):\n",
    "    def test_c(self):\n",
    "        print('This is a child class function')"
   ]
  },
  {
   "cell_type": "code",
   "execution_count": 4,
   "id": "822f92c9-ff14-4d4c-b83e-ebb2a5aef48a",
   "metadata": {},
   "outputs": [],
   "source": [
    "c_obj = child()"
   ]
  },
  {
   "cell_type": "code",
   "execution_count": 6,
   "id": "6631289c-a898-4215-bbe2-61c972c72dd7",
   "metadata": {},
   "outputs": [
    {
     "name": "stdout",
     "output_type": "stream",
     "text": [
      "This is a child class function\n"
     ]
    }
   ],
   "source": [
    "c_obj.test_c()"
   ]
  },
  {
   "cell_type": "code",
   "execution_count": 7,
   "id": "e1667fd1-7553-4c63-aff9-11e851c51ab7",
   "metadata": {},
   "outputs": [
    {
     "name": "stdout",
     "output_type": "stream",
     "text": [
      "This is a parent class function\n"
     ]
    }
   ],
   "source": [
    "c_obj.test_p()"
   ]
  },
  {
   "cell_type": "markdown",
   "id": "e0f10bd8-f7b7-4a17-bd6f-b3d5644a3d13",
   "metadata": {},
   "source": [
    "## Multilevel Inheritance"
   ]
  },
  {
   "cell_type": "code",
   "execution_count": 13,
   "id": "4e7cab94-41d5-414b-a4af-e8fe9f948c9c",
   "metadata": {},
   "outputs": [],
   "source": [
    "class class1:\n",
    "    \n",
    "    def fun1(self):\n",
    "        print('this is my first class')"
   ]
  },
  {
   "cell_type": "code",
   "execution_count": 14,
   "id": "40af6f29-d992-4f3e-8de2-53691e5b1399",
   "metadata": {},
   "outputs": [],
   "source": [
    "class class2(class1):\n",
    "    \n",
    "    def fun2(self):\n",
    "        print('This is my second class')"
   ]
  },
  {
   "cell_type": "code",
   "execution_count": 15,
   "id": "8af4ce90-c397-4a23-b668-19e66f50b3ce",
   "metadata": {},
   "outputs": [],
   "source": [
    "class class3(class2):\n",
    "    \n",
    "    def fun3(self):\n",
    "        print('This is my third class')"
   ]
  },
  {
   "cell_type": "code",
   "execution_count": 16,
   "id": "a2116189-ffe6-4590-93d9-e923e9c913ac",
   "metadata": {},
   "outputs": [],
   "source": [
    "obj3 = class3()"
   ]
  },
  {
   "cell_type": "code",
   "execution_count": 17,
   "id": "21b01b26-1e93-48e4-9ba5-f636247eb07e",
   "metadata": {},
   "outputs": [
    {
     "name": "stdout",
     "output_type": "stream",
     "text": [
      "this is my first class\n"
     ]
    }
   ],
   "source": [
    "obj3.fun1()"
   ]
  },
  {
   "cell_type": "code",
   "execution_count": 18,
   "id": "fece3f63-54b7-43ab-b359-3fde05f46bec",
   "metadata": {},
   "outputs": [
    {
     "name": "stdout",
     "output_type": "stream",
     "text": [
      "This is my second class\n"
     ]
    }
   ],
   "source": [
    "obj3.fun2()"
   ]
  },
  {
   "cell_type": "code",
   "execution_count": 19,
   "id": "1fd658ad-3432-4fc2-8069-23002f5de633",
   "metadata": {},
   "outputs": [
    {
     "name": "stdout",
     "output_type": "stream",
     "text": [
      "This is my third class\n"
     ]
    }
   ],
   "source": [
    "obj3.fun3()"
   ]
  },
  {
   "cell_type": "code",
   "execution_count": 20,
   "id": "daa0fb07-0e58-44c8-a5bd-d6cb6c8e8778",
   "metadata": {},
   "outputs": [],
   "source": [
    "obj2 = class2()"
   ]
  },
  {
   "cell_type": "code",
   "execution_count": 21,
   "id": "156b99d1-50fc-4a2d-ac9f-27e8bf7193c0",
   "metadata": {},
   "outputs": [
    {
     "name": "stdout",
     "output_type": "stream",
     "text": [
      "This is my second class\n"
     ]
    }
   ],
   "source": [
    "obj2.fun2()"
   ]
  },
  {
   "cell_type": "code",
   "execution_count": 22,
   "id": "6e22f833-bc0a-492f-8259-2cec1d706138",
   "metadata": {},
   "outputs": [
    {
     "name": "stdout",
     "output_type": "stream",
     "text": [
      "this is my first class\n"
     ]
    }
   ],
   "source": [
    "obj2.fun1()"
   ]
  },
  {
   "cell_type": "markdown",
   "id": "603fb6f7-e7b9-4db5-ba71-7ab36422101e",
   "metadata": {},
   "source": [
    "## Multiple Inheritance"
   ]
  },
  {
   "cell_type": "code",
   "execution_count": 23,
   "id": "3f8f4fd4-a44f-4689-b2e9-f64bd6edb016",
   "metadata": {},
   "outputs": [],
   "source": [
    "class father:\n",
    "    \n",
    "    def fat(self):\n",
    "        print('This is a Father class')"
   ]
  },
  {
   "cell_type": "code",
   "execution_count": 24,
   "id": "74376ae0-1883-40a7-beb1-21ce5200f894",
   "metadata": {},
   "outputs": [],
   "source": [
    "class mother:\n",
    "    \n",
    "    def mot(self):\n",
    "        print(\"This is a Mother class\")"
   ]
  },
  {
   "cell_type": "code",
   "execution_count": 25,
   "id": "f2c03e5b-b3c5-46c6-86b2-f63f68644798",
   "metadata": {},
   "outputs": [],
   "source": [
    "class son(father,mother):\n",
    "    \n",
    "    def child(self):\n",
    "        print('this is a son class')"
   ]
  },
  {
   "cell_type": "code",
   "execution_count": 26,
   "id": "f4df2f57-525a-48c9-9b9e-54a384ca0ccc",
   "metadata": {},
   "outputs": [],
   "source": [
    "son_obj = son()"
   ]
  },
  {
   "cell_type": "code",
   "execution_count": 27,
   "id": "32d4fa29-1380-4f06-87d3-e0f5d5c8582a",
   "metadata": {},
   "outputs": [
    {
     "name": "stdout",
     "output_type": "stream",
     "text": [
      "This is a Father class\n"
     ]
    }
   ],
   "source": [
    "son_obj.fat()"
   ]
  },
  {
   "cell_type": "code",
   "execution_count": 28,
   "id": "b7ceff71-7990-435c-aeef-1699bf2620f6",
   "metadata": {},
   "outputs": [
    {
     "name": "stdout",
     "output_type": "stream",
     "text": [
      "This is a Mother class\n"
     ]
    }
   ],
   "source": [
    "son_obj.mot()"
   ]
  },
  {
   "cell_type": "code",
   "execution_count": 29,
   "id": "d39a0b5b-5984-4538-b695-703b3aa12b1d",
   "metadata": {},
   "outputs": [
    {
     "name": "stdout",
     "output_type": "stream",
     "text": [
      "this is a son class\n"
     ]
    }
   ],
   "source": [
    "son_obj.child()"
   ]
  },
  {
   "cell_type": "markdown",
   "id": "24511dcc-3759-447e-a5f1-4b5be32c565c",
   "metadata": {},
   "source": [
    "## Hierarchical Inheritance"
   ]
  },
  {
   "cell_type": "code",
   "execution_count": 30,
   "id": "5dfe7499-86ce-43fc-be7b-8e6bfc7a83b9",
   "metadata": {},
   "outputs": [],
   "source": [
    "class parent:\n",
    "    \n",
    "    def par(self):\n",
    "        print('This is a parent class ')"
   ]
  },
  {
   "cell_type": "code",
   "execution_count": 32,
   "id": "8c5afb24-29d4-46d0-95fe-b84482244e50",
   "metadata": {},
   "outputs": [],
   "source": [
    "class brother(parent):\n",
    "    \n",
    "    def bro(self):\n",
    "        print('This is a brother class')"
   ]
  },
  {
   "cell_type": "code",
   "execution_count": 33,
   "id": "eaaf05c9-bf8d-45b6-8ecc-9cf4b315e3a3",
   "metadata": {},
   "outputs": [],
   "source": [
    "class sister(parent):\n",
    "    \n",
    "    def sis(self):\n",
    "        print('This is a Sister class')"
   ]
  },
  {
   "cell_type": "code",
   "execution_count": 34,
   "id": "847ac47c-c3e0-468d-af94-7af23dded333",
   "metadata": {},
   "outputs": [],
   "source": [
    "sis_obj = sister()"
   ]
  },
  {
   "cell_type": "code",
   "execution_count": 35,
   "id": "aa422030-a2c2-4218-bf35-7fb2619a652e",
   "metadata": {},
   "outputs": [
    {
     "name": "stdout",
     "output_type": "stream",
     "text": [
      "This is a parent class \n"
     ]
    }
   ],
   "source": [
    "sis_obj.par()"
   ]
  },
  {
   "cell_type": "code",
   "execution_count": 36,
   "id": "459e265a-f5fa-4b72-9f06-103cfdd3b3e7",
   "metadata": {},
   "outputs": [],
   "source": [
    "bro_obj = brother()"
   ]
  },
  {
   "cell_type": "code",
   "execution_count": 37,
   "id": "a17a8f1f-ee78-40a0-9fd5-12e59e09af01",
   "metadata": {},
   "outputs": [
    {
     "name": "stdout",
     "output_type": "stream",
     "text": [
      "This is a parent class \n"
     ]
    }
   ],
   "source": [
    "bro_obj.par()"
   ]
  },
  {
   "cell_type": "markdown",
   "id": "0179fa87-e370-49dc-af73-cd5847cb16b6",
   "metadata": {},
   "source": [
    "## Hybrid Inheritance"
   ]
  },
  {
   "cell_type": "code",
   "execution_count": null,
   "id": "daf7484f-3cf3-4d9e-9f77-df4503772f54",
   "metadata": {},
   "outputs": [],
   "source": []
  },
  {
   "cell_type": "markdown",
   "id": "560d646f-42d6-4f83-8960-c15751c57c36",
   "metadata": {},
   "source": [
    "# ABSTRACTION"
   ]
  },
  {
   "cell_type": "code",
   "execution_count": 38,
   "id": "97e86b3b-587a-4184-884c-3886a4ebc38e",
   "metadata": {},
   "outputs": [],
   "source": [
    "import abc"
   ]
  },
  {
   "cell_type": "code",
   "execution_count": 47,
   "id": "f4ef9b5e-77fc-47f4-aa37-96e8ef5e7323",
   "metadata": {},
   "outputs": [],
   "source": [
    "class pwskills:\n",
    "    \n",
    "    @abc.abstractmethod\n",
    "    def student_details(self):\n",
    "        pass\n",
    "    \n",
    "    @abc.abstractmethod\n",
    "    def student_assignment(self):\n",
    "        pass\n"
   ]
  },
  {
   "cell_type": "code",
   "execution_count": 48,
   "id": "7c5efbb2-1924-4182-a942-f916a1126064",
   "metadata": {},
   "outputs": [],
   "source": [
    "class st_details(pwskills):\n",
    "    def student_details(self):\n",
    "        return 'This is a section of student details'\n",
    "    \n",
    "    def student_assignment(self):\n",
    "        return 'This is a assignment details section'"
   ]
  },
  {
   "cell_type": "code",
   "execution_count": 49,
   "id": "35c69815-31a5-4ffc-ac81-2e93494b983c",
   "metadata": {},
   "outputs": [],
   "source": [
    "class data_science(pwskills):\n",
    "    \n",
    "    def student_details(self):\n",
    "        return 'This is a details of data science students'\n",
    "    \n",
    "    def student_assignment(self):\n",
    "        return 'This is a assignment details of data science student'"
   ]
  },
  {
   "cell_type": "code",
   "execution_count": 50,
   "id": "1dcd81d4-27b3-4ccc-9158-ce0c96e61aa9",
   "metadata": {},
   "outputs": [],
   "source": [
    "ds = data_science()"
   ]
  },
  {
   "cell_type": "code",
   "execution_count": 51,
   "id": "85e858c3-57ed-4ad9-a6d1-61f7ceb043b0",
   "metadata": {},
   "outputs": [
    {
     "data": {
      "text/plain": [
       "'This is a assignment details of data science student'"
      ]
     },
     "execution_count": 51,
     "metadata": {},
     "output_type": "execute_result"
    }
   ],
   "source": [
    "ds.student_assignment()"
   ]
  },
  {
   "cell_type": "code",
   "execution_count": 52,
   "id": "3717fe5b-191b-466c-8b6d-82d669181f2f",
   "metadata": {},
   "outputs": [
    {
     "data": {
      "text/plain": [
       "'This is a details of data science students'"
      ]
     },
     "execution_count": 52,
     "metadata": {},
     "output_type": "execute_result"
    }
   ],
   "source": [
    "ds.student_details()"
   ]
  },
  {
   "cell_type": "code",
   "execution_count": 53,
   "id": "9dfde95d-161c-47f5-b77d-c668a0e97881",
   "metadata": {},
   "outputs": [],
   "source": [
    "sd = st_details()"
   ]
  },
  {
   "cell_type": "code",
   "execution_count": 54,
   "id": "1d7e1ae4-5d21-4baf-b756-6848981d680b",
   "metadata": {},
   "outputs": [
    {
     "data": {
      "text/plain": [
       "'This is a assignment details section'"
      ]
     },
     "execution_count": 54,
     "metadata": {},
     "output_type": "execute_result"
    }
   ],
   "source": [
    "sd.student_assignment()"
   ]
  },
  {
   "cell_type": "code",
   "execution_count": 55,
   "id": "b4daf783-57c9-4f0e-bef1-852d2c956ee9",
   "metadata": {},
   "outputs": [
    {
     "data": {
      "text/plain": [
       "'This is a section of student details'"
      ]
     },
     "execution_count": 55,
     "metadata": {},
     "output_type": "execute_result"
    }
   ],
   "source": [
    "sd.student_details()"
   ]
  },
  {
   "cell_type": "code",
   "execution_count": null,
   "id": "8cafaa3d-b552-4319-bf9a-da13208558a4",
   "metadata": {},
   "outputs": [],
   "source": []
  }
 ],
 "metadata": {
  "kernelspec": {
   "display_name": "Python 3 (ipykernel)",
   "language": "python",
   "name": "python3"
  },
  "language_info": {
   "codemirror_mode": {
    "name": "ipython",
    "version": 3
   },
   "file_extension": ".py",
   "mimetype": "text/x-python",
   "name": "python",
   "nbconvert_exporter": "python",
   "pygments_lexer": "ipython3",
   "version": "3.10.8"
  }
 },
 "nbformat": 4,
 "nbformat_minor": 5
}
