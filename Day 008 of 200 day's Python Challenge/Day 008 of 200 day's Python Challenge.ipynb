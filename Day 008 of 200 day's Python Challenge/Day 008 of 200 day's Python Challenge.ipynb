{
 "cells": [
  {
   "cell_type": "markdown",
   "id": "cc5aad60-bb2d-40ee-91c4-858a4dde13b8",
   "metadata": {},
   "source": [
    "# \"Oops\" Stand for Object-Oriented Programming System"
   ]
  },
  {
   "cell_type": "code",
   "execution_count": 1,
   "id": "051de880-1277-4565-8680-0ee23c767731",
   "metadata": {},
   "outputs": [],
   "source": [
    "a = 1"
   ]
  },
  {
   "cell_type": "code",
   "execution_count": 2,
   "id": "e26c20b9-d82f-49dd-a648-decc37db40be",
   "metadata": {},
   "outputs": [
    {
     "name": "stdout",
     "output_type": "stream",
     "text": [
      "<class 'int'>\n"
     ]
    }
   ],
   "source": [
    "print(type(a))"
   ]
  },
  {
   "cell_type": "code",
   "execution_count": 3,
   "id": "4fb1c56c-2fe4-4652-be8d-abc3c639b6bc",
   "metadata": {},
   "outputs": [
    {
     "name": "stdout",
     "output_type": "stream",
     "text": [
      "<class 'str'>\n"
     ]
    }
   ],
   "source": [
    "print(type(\"Tech1.abhi\"))"
   ]
  },
  {
   "cell_type": "code",
   "execution_count": 4,
   "id": "ed5ffb7f-0716-4f98-b597-c7bed5328d4b",
   "metadata": {},
   "outputs": [],
   "source": [
    "class test:\n",
    "    pass"
   ]
  },
  {
   "cell_type": "code",
   "execution_count": 5,
   "id": "b7ee008c-a793-4f49-ae30-13b30f808976",
   "metadata": {},
   "outputs": [],
   "source": [
    "a = test()"
   ]
  },
  {
   "cell_type": "code",
   "execution_count": 6,
   "id": "54c1a1b0-c5bc-4fa1-8117-a53a04243a17",
   "metadata": {},
   "outputs": [
    {
     "name": "stdout",
     "output_type": "stream",
     "text": [
      "<class '__main__.test'>\n"
     ]
    }
   ],
   "source": [
    "print(type(a))"
   ]
  },
  {
   "cell_type": "code",
   "execution_count": 16,
   "id": "800e46f7-3e22-4ad7-b2b1-df48e6b12449",
   "metadata": {},
   "outputs": [],
   "source": [
    "class Practice:\n",
    "    def welcome_msg(self):\n",
    "        print(\"Welcome to 200 day's Challenge\")"
   ]
  },
  {
   "cell_type": "code",
   "execution_count": 17,
   "id": "2944fbe9-5d32-4472-82c2-5e6b8b2aa8e3",
   "metadata": {},
   "outputs": [],
   "source": [
    "abhi = Practice()"
   ]
  },
  {
   "cell_type": "code",
   "execution_count": 18,
   "id": "c0b32c4d-f3df-4e99-b644-f7f1219a5aaa",
   "metadata": {},
   "outputs": [
    {
     "name": "stdout",
     "output_type": "stream",
     "text": [
      "<class '__main__.Practice'>\n"
     ]
    }
   ],
   "source": [
    "print(type(abhi))"
   ]
  },
  {
   "cell_type": "code",
   "execution_count": 19,
   "id": "a9ef2f2e-cb3a-49ed-8db5-58077c18d397",
   "metadata": {},
   "outputs": [
    {
     "name": "stdout",
     "output_type": "stream",
     "text": [
      "Welcome to 200 day's Challenge\n"
     ]
    }
   ],
   "source": [
    "abhi.welcome_msg()"
   ]
  },
  {
   "cell_type": "code",
   "execution_count": 20,
   "id": "7d2ec379-8df8-4747-9362-fe4d6a8b867f",
   "metadata": {},
   "outputs": [],
   "source": [
    "ratan = Practice()"
   ]
  },
  {
   "cell_type": "code",
   "execution_count": 21,
   "id": "0b8025a1-2259-4505-ad20-f4518a955e1e",
   "metadata": {},
   "outputs": [
    {
     "name": "stdout",
     "output_type": "stream",
     "text": [
      "Welcome to 200 day's Challenge\n"
     ]
    }
   ],
   "source": [
    "ratan.welcome_msg()"
   ]
  },
  {
   "cell_type": "code",
   "execution_count": 10,
   "id": "204e2077-2d17-46e8-a36e-9dce750dec4e",
   "metadata": {},
   "outputs": [],
   "source": [
    "class accademy:\n",
    "    \n",
    "    def __init__(self, Ph_no, email_id, st_id): # self keyword is bounding any variable into the class\n",
    "        self.Ph_no = Ph_no\n",
    "        self.email_id = email_id\n",
    "        self.st_id = st_id\n",
    "        \n",
    "        \n",
    "    def return_msg(self):\n",
    "        return self.Ph_no, self.email_id, self.st_id"
   ]
  },
  {
   "cell_type": "code",
   "execution_count": 3,
   "id": "c512ecc1-7015-401a-9ea3-129265af34ba",
   "metadata": {},
   "outputs": [],
   "source": [
    "rohan = accademy(3454532, 'rohan@gmail.com', 460)"
   ]
  },
  {
   "cell_type": "code",
   "execution_count": 4,
   "id": "77dc3012-8074-460e-8f78-22088c5540a9",
   "metadata": {},
   "outputs": [
    {
     "data": {
      "text/plain": [
       "(3454532, 'rohan@gmail.com', 460)"
      ]
     },
     "execution_count": 4,
     "metadata": {},
     "output_type": "execute_result"
    }
   ],
   "source": [
    "rohan.return_msg()"
   ]
  },
  {
   "cell_type": "code",
   "execution_count": 6,
   "id": "914d00b0-f876-4a8d-ba0a-77abec27722c",
   "metadata": {},
   "outputs": [],
   "source": [
    "satyam = accademy(8932993844, 'sg234@gmail.com',43 )"
   ]
  },
  {
   "cell_type": "code",
   "execution_count": 7,
   "id": "06e8c6f5-5254-4e97-8d56-e6c9cb77f4aa",
   "metadata": {},
   "outputs": [
    {
     "data": {
      "text/plain": [
       "(8932993844, 'sg234@gmail.com', 43)"
      ]
     },
     "execution_count": 7,
     "metadata": {},
     "output_type": "execute_result"
    }
   ],
   "source": [
    "satyam.return_msg()"
   ]
  },
  {
   "cell_type": "code",
   "execution_count": 8,
   "id": "6f9f1f28-9f57-4116-92f8-6c54c291fd33",
   "metadata": {},
   "outputs": [
    {
     "data": {
      "text/plain": [
       "3454532"
      ]
     },
     "execution_count": 8,
     "metadata": {},
     "output_type": "execute_result"
    }
   ],
   "source": [
    "rohan.Ph_no"
   ]
  },
  {
   "cell_type": "code",
   "execution_count": 9,
   "id": "bd0233e4-94d0-4a21-8b07-0ba85902dc15",
   "metadata": {},
   "outputs": [
    {
     "data": {
      "text/plain": [
       "'sg234@gmail.com'"
      ]
     },
     "execution_count": 9,
     "metadata": {},
     "output_type": "execute_result"
    }
   ],
   "source": [
    "satyam.email_id"
   ]
  },
  {
   "cell_type": "code",
   "execution_count": 10,
   "id": "d72daf09-8e22-4b3c-a842-6013868c848b",
   "metadata": {},
   "outputs": [
    {
     "data": {
      "text/plain": [
       "43"
      ]
     },
     "execution_count": 10,
     "metadata": {},
     "output_type": "execute_result"
    }
   ],
   "source": [
    "satyam.st_id"
   ]
  },
  {
   "cell_type": "code",
   "execution_count": 6,
   "id": "8a41e09f-c5a7-4ae7-bead-db2c70e212c3",
   "metadata": {},
   "outputs": [],
   "source": [
    "class university:\n",
    "    \n",
    "    def __init__(abhi, ph_no, email, st_id): # It means self is not a preserve keyword we can replace self of anything of instance\n",
    "        abhi.ph_no = ph_no\n",
    "        abhi.email = email\n",
    "        abhi.st_id = st_id\n",
    "        \n",
    "    def return_new_msg(abhi):\n",
    "        return abhi.ph_no, abhi.st_id, abhi.email"
   ]
  },
  {
   "cell_type": "code",
   "execution_count": 7,
   "id": "738e9ada-062a-4441-91e4-4e0f73c5785a",
   "metadata": {},
   "outputs": [],
   "source": [
    "pradeep = university(76452343, 'gprspradeep432@gmail.com', 69)"
   ]
  },
  {
   "cell_type": "code",
   "execution_count": 8,
   "id": "ce5738da-d63e-488a-bcbd-b1797d86f817",
   "metadata": {},
   "outputs": [
    {
     "data": {
      "text/plain": [
       "(76452343, 69, 'gprspradeep432@gmail.com')"
      ]
     },
     "execution_count": 8,
     "metadata": {},
     "output_type": "execute_result"
    }
   ],
   "source": [
    "pradeep.return_new_msg()"
   ]
  },
  {
   "cell_type": "code",
   "execution_count": 9,
   "id": "d82550d4-c132-4c1e-a94d-a4c3624ecafb",
   "metadata": {},
   "outputs": [
    {
     "data": {
      "text/plain": [
       "69"
      ]
     },
     "execution_count": 9,
     "metadata": {},
     "output_type": "execute_result"
    }
   ],
   "source": [
    "pradeep.st_id"
   ]
  },
  {
   "cell_type": "markdown",
   "id": "2f570a7b-68f6-4c5a-a079-6ee8e5dedd3e",
   "metadata": {},
   "source": [
    "# Polymorphism"
   ]
  },
  {
   "cell_type": "code",
   "execution_count": 11,
   "id": "3440a5c2-3a38-4ffb-9991-dfd7d5b320c7",
   "metadata": {},
   "outputs": [],
   "source": [
    "def test(a,b):\n",
    "    return a+b"
   ]
  },
  {
   "cell_type": "code",
   "execution_count": 13,
   "id": "d41fbbf4-4483-4b99-b6f4-c8b2d0bf39a6",
   "metadata": {},
   "outputs": [
    {
     "data": {
      "text/plain": [
       "6078"
      ]
     },
     "execution_count": 13,
     "metadata": {},
     "output_type": "execute_result"
    }
   ],
   "source": [
    "test(5544, 534)"
   ]
  },
  {
   "cell_type": "code",
   "execution_count": 14,
   "id": "bf16379f-32b3-4e87-ac84-e8a4a3718f66",
   "metadata": {},
   "outputs": [
    {
     "data": {
      "text/plain": [
       "'Tech1abhi'"
      ]
     },
     "execution_count": 14,
     "metadata": {},
     "output_type": "execute_result"
    }
   ],
   "source": [
    "test('Tech1', 'abhi')"
   ]
  },
  {
   "cell_type": "code",
   "execution_count": 15,
   "id": "29c866be-da80-4c81-8f2c-27ff30f57905",
   "metadata": {},
   "outputs": [
    {
     "data": {
      "text/plain": [
       "[43, 5, 4545, 34, 45, 54, 67, 43, 65]"
      ]
     },
     "execution_count": 15,
     "metadata": {},
     "output_type": "execute_result"
    }
   ],
   "source": [
    "test([43,5,4545,34], [45,54,67,43,65])"
   ]
  },
  {
   "cell_type": "code",
   "execution_count": 19,
   "id": "ed7bc214-ac22-4188-93d6-fd68ee91b792",
   "metadata": {},
   "outputs": [],
   "source": [
    "class data_science:\n",
    "    \n",
    "    def syllabus(self):\n",
    "        print(\"This is my syllabus for data science masters\")"
   ]
  },
  {
   "cell_type": "code",
   "execution_count": 20,
   "id": "5634b496-4933-4ec5-8010-af1a067443fa",
   "metadata": {},
   "outputs": [],
   "source": [
    "class web_dev:\n",
    "    \n",
    "    def syllabus(self):\n",
    "        print(\"This is my syllabus for web dev\")"
   ]
  },
  {
   "cell_type": "code",
   "execution_count": 21,
   "id": "5c59801d-5908-4749-a2af-6eacb8b6b0bc",
   "metadata": {},
   "outputs": [],
   "source": [
    "def class_parcer(class_obj):\n",
    "    for i in class_obj:\n",
    "        i.syllabus()"
   ]
  },
  {
   "cell_type": "code",
   "execution_count": 22,
   "id": "22f455bb-b45b-43fa-b294-fb047a0cc231",
   "metadata": {},
   "outputs": [],
   "source": [
    "data_science = data_science()"
   ]
  },
  {
   "cell_type": "code",
   "execution_count": 23,
   "id": "bd1c6e16-3078-4f67-a098-b9ea219378c2",
   "metadata": {},
   "outputs": [],
   "source": [
    "web_dev = web_dev()"
   ]
  },
  {
   "cell_type": "code",
   "execution_count": 24,
   "id": "7e2b0180-b58c-426b-b03b-b0bd2823b5c8",
   "metadata": {},
   "outputs": [],
   "source": [
    "class_obj = [data_science,web_dev]"
   ]
  },
  {
   "cell_type": "code",
   "execution_count": 25,
   "id": "0a315957-db0e-4fcf-9861-e9444ea08aca",
   "metadata": {},
   "outputs": [
    {
     "name": "stdout",
     "output_type": "stream",
     "text": [
      "This is my syllabus for data science masters\n",
      "This is my syllabus for web dev\n"
     ]
    }
   ],
   "source": [
    "class_parcer(class_obj)"
   ]
  },
  {
   "cell_type": "markdown",
   "id": "5f3bb235-18dc-4eef-8fba-77c7eaf6d581",
   "metadata": {},
   "source": [
    "# Encapsulation"
   ]
  },
  {
   "cell_type": "code",
   "execution_count": 26,
   "id": "96bc9582-0eff-4615-adc5-0145273ba336",
   "metadata": {},
   "outputs": [],
   "source": [
    "class test:\n",
    "    \n",
    "    def __init__(self,a, b):\n",
    "        self.a = a\n",
    "        self.b = b"
   ]
  },
  {
   "cell_type": "code",
   "execution_count": 27,
   "id": "14d60eff-bc29-46f1-ac29-cba874009594",
   "metadata": {},
   "outputs": [],
   "source": [
    "t = test(54,3)"
   ]
  },
  {
   "cell_type": "code",
   "execution_count": 29,
   "id": "7df62f9b-c6e5-4526-8056-68a6b6447eb8",
   "metadata": {},
   "outputs": [
    {
     "data": {
      "text/plain": [
       "54"
      ]
     },
     "execution_count": 29,
     "metadata": {},
     "output_type": "execute_result"
    }
   ],
   "source": [
    "t.a"
   ]
  },
  {
   "cell_type": "code",
   "execution_count": 30,
   "id": "01c2da4c-d665-4b12-9a51-476ff135e7ea",
   "metadata": {},
   "outputs": [
    {
     "data": {
      "text/plain": [
       "3"
      ]
     },
     "execution_count": 30,
     "metadata": {},
     "output_type": "execute_result"
    }
   ],
   "source": [
    "t.b"
   ]
  },
  {
   "cell_type": "code",
   "execution_count": 63,
   "id": "af862c3c-834f-4587-9c22-db0172b9d762",
   "metadata": {},
   "outputs": [],
   "source": [
    "class car: \n",
    "    \n",
    "    def __init__(self, year, make, model, speed):\n",
    "        self.__year = year\n",
    "        self.__make = make\n",
    "        self.__model = model\n",
    "        self.__speed = 0\n",
    "    \n",
    "#     def set_speed(self, speed):\n",
    "#         self.__speed = 0 if speed <0 else speed\n",
    "        \n",
    "    def get_speed(self):\n",
    "        return self.__speed"
   ]
  },
  {
   "cell_type": "code",
   "execution_count": 64,
   "id": "53e01fcb-013e-4f25-82c8-1091f32f8215",
   "metadata": {},
   "outputs": [],
   "source": [
    "c = car(2021, 'thar', 'innova', 12)"
   ]
  },
  {
   "cell_type": "code",
   "execution_count": 65,
   "id": "0505a8b0-dfd9-4b6d-a1d9-0cd5851577da",
   "metadata": {},
   "outputs": [
    {
     "ename": "AttributeError",
     "evalue": "'car' object has no attribute 'year'",
     "output_type": "error",
     "traceback": [
      "\u001b[0;31m---------------------------------------------------------------------------\u001b[0m",
      "\u001b[0;31mAttributeError\u001b[0m                            Traceback (most recent call last)",
      "Cell \u001b[0;32mIn[65], line 1\u001b[0m\n\u001b[0;32m----> 1\u001b[0m \u001b[43mc\u001b[49m\u001b[38;5;241;43m.\u001b[39;49m\u001b[43myear\u001b[49m\n",
      "\u001b[0;31mAttributeError\u001b[0m: 'car' object has no attribute 'year'"
     ]
    }
   ],
   "source": [
    "c.year"
   ]
  },
  {
   "cell_type": "code",
   "execution_count": 66,
   "id": "cceee152-1089-4bd1-9980-677b1483e706",
   "metadata": {},
   "outputs": [
    {
     "ename": "AttributeError",
     "evalue": "'car' object has no attribute '__year'",
     "output_type": "error",
     "traceback": [
      "\u001b[0;31m---------------------------------------------------------------------------\u001b[0m",
      "\u001b[0;31mAttributeError\u001b[0m                            Traceback (most recent call last)",
      "Cell \u001b[0;32mIn[66], line 1\u001b[0m\n\u001b[0;32m----> 1\u001b[0m \u001b[43mc\u001b[49m\u001b[38;5;241;43m.\u001b[39;49m\u001b[43m__year\u001b[49m\n",
      "\u001b[0;31mAttributeError\u001b[0m: 'car' object has no attribute '__year'"
     ]
    }
   ],
   "source": [
    "c.__year"
   ]
  },
  {
   "cell_type": "code",
   "execution_count": 67,
   "id": "fcc95247-0032-4fc7-b5c8-442f0fd55eb6",
   "metadata": {},
   "outputs": [
    {
     "data": {
      "text/plain": [
       "2021"
      ]
     },
     "execution_count": 67,
     "metadata": {},
     "output_type": "execute_result"
    }
   ],
   "source": [
    "c._car__year"
   ]
  },
  {
   "cell_type": "code",
   "execution_count": 68,
   "id": "bca36cf7-e618-46de-a077-974b370e192e",
   "metadata": {},
   "outputs": [
    {
     "ename": "AttributeError",
     "evalue": "'car' object has no attribute 'set_speed'",
     "output_type": "error",
     "traceback": [
      "\u001b[0;31m---------------------------------------------------------------------------\u001b[0m",
      "\u001b[0;31mAttributeError\u001b[0m                            Traceback (most recent call last)",
      "Cell \u001b[0;32mIn[68], line 1\u001b[0m\n\u001b[0;32m----> 1\u001b[0m \u001b[43mc\u001b[49m\u001b[38;5;241;43m.\u001b[39;49m\u001b[43mset_speed\u001b[49m(\u001b[38;5;241m34\u001b[39m)\n",
      "\u001b[0;31mAttributeError\u001b[0m: 'car' object has no attribute 'set_speed'"
     ]
    }
   ],
   "source": [
    "c.set_speed(34)"
   ]
  },
  {
   "cell_type": "code",
   "execution_count": 69,
   "id": "e0b46467-6874-4b13-af76-ce8f28913a77",
   "metadata": {},
   "outputs": [
    {
     "data": {
      "text/plain": [
       "0"
      ]
     },
     "execution_count": 69,
     "metadata": {},
     "output_type": "execute_result"
    }
   ],
   "source": [
    "c.get_speed()"
   ]
  },
  {
   "cell_type": "code",
   "execution_count": 70,
   "id": "f56e523f-9158-48ae-b803-b57ca11bc529",
   "metadata": {},
   "outputs": [],
   "source": [
    "class bank_account:\n",
    "    \n",
    "    def __init__(self, balance):\n",
    "        self.__balance = balance\n",
    "        \n",
    "    def deposit(self, amount):\n",
    "        self.__balance = self.__balance + amount\n",
    "        \n",
    "    def withdraw(self, amount):\n",
    "        if self.__balance >= amount:\n",
    "            self.__balance = self.__balance - amount\n",
    "            return True\n",
    "        else: \n",
    "            return False\n",
    "        \n",
    "    def get_balance(self):\n",
    "        return self.__balance"
   ]
  },
  {
   "cell_type": "code",
   "execution_count": 72,
   "id": "b0e5e6a0-6e18-4222-bd8d-e24bfd07ee4e",
   "metadata": {},
   "outputs": [],
   "source": [
    "abhi = bank_account(25000)"
   ]
  },
  {
   "cell_type": "code",
   "execution_count": 73,
   "id": "222a7018-ed52-4306-83cf-947025cb270f",
   "metadata": {},
   "outputs": [
    {
     "data": {
      "text/plain": [
       "25000"
      ]
     },
     "execution_count": 73,
     "metadata": {},
     "output_type": "execute_result"
    }
   ],
   "source": [
    "abhi.get_balance()"
   ]
  },
  {
   "cell_type": "code",
   "execution_count": 74,
   "id": "4e6b2312-9d21-4b00-bf13-576c9b9421dd",
   "metadata": {},
   "outputs": [],
   "source": [
    "abhi.deposit(5000)"
   ]
  },
  {
   "cell_type": "code",
   "execution_count": 75,
   "id": "1ce2ca79-9150-4771-9de7-9f838af893e6",
   "metadata": {},
   "outputs": [
    {
     "data": {
      "text/plain": [
       "30000"
      ]
     },
     "execution_count": 75,
     "metadata": {},
     "output_type": "execute_result"
    }
   ],
   "source": [
    "abhi.get_balance()"
   ]
  },
  {
   "cell_type": "code",
   "execution_count": 76,
   "id": "0b78115b-6304-4348-8e37-7119564eac59",
   "metadata": {},
   "outputs": [
    {
     "data": {
      "text/plain": [
       "True"
      ]
     },
     "execution_count": 76,
     "metadata": {},
     "output_type": "execute_result"
    }
   ],
   "source": [
    "abhi.withdraw(4000)"
   ]
  },
  {
   "cell_type": "code",
   "execution_count": 77,
   "id": "2949966e-e820-4a61-97fc-382f29333690",
   "metadata": {},
   "outputs": [
    {
     "data": {
      "text/plain": [
       "26000"
      ]
     },
     "execution_count": 77,
     "metadata": {},
     "output_type": "execute_result"
    }
   ],
   "source": [
    "abhi.get_balance()"
   ]
  },
  {
   "cell_type": "code",
   "execution_count": null,
   "id": "f9023b31-fc17-4a7c-b501-bf56ca63b7b1",
   "metadata": {},
   "outputs": [],
   "source": []
  }
 ],
 "metadata": {
  "kernelspec": {
   "display_name": "Python 3 (ipykernel)",
   "language": "python",
   "name": "python3"
  },
  "language_info": {
   "codemirror_mode": {
    "name": "ipython",
    "version": 3
   },
   "file_extension": ".py",
   "mimetype": "text/x-python",
   "name": "python",
   "nbconvert_exporter": "python",
   "pygments_lexer": "ipython3",
   "version": "3.10.8"
  }
 },
 "nbformat": 4,
 "nbformat_minor": 5
}
