{
 "cells": [
  {
   "cell_type": "markdown",
   "id": "4adbf736-5ef0-48a4-9bba-b265a45f3ba2",
   "metadata": {},
   "source": [
    "# Day 4 of 200 day's Python Challenge"
   ]
  },
  {
   "cell_type": "markdown",
   "id": "1003bdaf-6144-418a-9406-4f8ac5187829",
   "metadata": {},
   "source": [
    "### Input Fuction"
   ]
  },
  {
   "cell_type": "code",
   "execution_count": 3,
   "id": "3cef7f7b-72f0-4ca6-bc86-40341fcd3cf6",
   "metadata": {},
   "outputs": [
    {
     "name": "stdin",
     "output_type": "stream",
     "text": [
      "Enter a input: \n",
      " Tech\n"
     ]
    }
   ],
   "source": [
    "s = input('Enter a input: \\n')"
   ]
  },
  {
   "cell_type": "code",
   "execution_count": 4,
   "id": "4d2b8c88-6574-42af-8bf4-4f2684671c58",
   "metadata": {},
   "outputs": [
    {
     "data": {
      "text/plain": [
       "str"
      ]
     },
     "execution_count": 4,
     "metadata": {},
     "output_type": "execute_result"
    }
   ],
   "source": [
    "type(s)"
   ]
  },
  {
   "cell_type": "code",
   "execution_count": 5,
   "id": "43141a7a-c898-4ff8-8255-7c75fcfdc621",
   "metadata": {},
   "outputs": [
    {
     "name": "stdin",
     "output_type": "stream",
     "text": [
      "Enter a input : \n",
      " 34\n"
     ]
    }
   ],
   "source": [
    "s1 = input('Enter a input : \\n')"
   ]
  },
  {
   "cell_type": "code",
   "execution_count": 6,
   "id": "c4f59308-cf8a-4981-97da-14ce43beb04e",
   "metadata": {},
   "outputs": [
    {
     "data": {
      "text/plain": [
       "str"
      ]
     },
     "execution_count": 6,
     "metadata": {},
     "output_type": "execute_result"
    }
   ],
   "source": [
    "type(s1)"
   ]
  },
  {
   "cell_type": "code",
   "execution_count": 7,
   "id": "2d1a0a46-8848-4e1a-ba0d-b506d72bb575",
   "metadata": {},
   "outputs": [
    {
     "name": "stdin",
     "output_type": "stream",
     "text": [
      " 23\n"
     ]
    }
   ],
   "source": [
    "s2 = input()"
   ]
  },
  {
   "cell_type": "code",
   "execution_count": 8,
   "id": "f5dea188-32a3-4521-87fb-9c88b3546714",
   "metadata": {},
   "outputs": [
    {
     "data": {
      "text/plain": [
       "str"
      ]
     },
     "execution_count": 8,
     "metadata": {},
     "output_type": "execute_result"
    }
   ],
   "source": [
    "type(s2)"
   ]
  },
  {
   "cell_type": "code",
   "execution_count": 11,
   "id": "d1054914-375a-4685-bafe-d1925e206207",
   "metadata": {},
   "outputs": [
    {
     "name": "stdin",
     "output_type": "stream",
     "text": [
      "Enter a number : \n",
      " 43\n"
     ]
    }
   ],
   "source": [
    "s3 = int(input('Enter a number : \\n'))"
   ]
  },
  {
   "cell_type": "code",
   "execution_count": 12,
   "id": "72300d1f-3a32-4fd5-bd1a-37e77be2e9b9",
   "metadata": {},
   "outputs": [
    {
     "data": {
      "text/plain": [
       "int"
      ]
     },
     "execution_count": 12,
     "metadata": {},
     "output_type": "execute_result"
    }
   ],
   "source": [
    "type(s3)"
   ]
  },
  {
   "cell_type": "code",
   "execution_count": 13,
   "id": "83fc1248-9462-4954-963b-d8d735828eb7",
   "metadata": {},
   "outputs": [
    {
     "name": "stdin",
     "output_type": "stream",
     "text": [
      "Enter a number: \n",
      " abhi\n"
     ]
    },
    {
     "ename": "ValueError",
     "evalue": "invalid literal for int() with base 10: 'abhi'",
     "output_type": "error",
     "traceback": [
      "\u001b[0;31m---------------------------------------------------------------------------\u001b[0m",
      "\u001b[0;31mValueError\u001b[0m                                Traceback (most recent call last)",
      "Cell \u001b[0;32mIn[13], line 1\u001b[0m\n\u001b[0;32m----> 1\u001b[0m s4 \u001b[38;5;241m=\u001b[39m \u001b[38;5;28;43mint\u001b[39;49m\u001b[43m(\u001b[49m\u001b[38;5;28;43minput\u001b[39;49m\u001b[43m(\u001b[49m\u001b[38;5;124;43m'\u001b[39;49m\u001b[38;5;124;43mEnter a number: \u001b[39;49m\u001b[38;5;130;43;01m\\n\u001b[39;49;00m\u001b[38;5;124;43m'\u001b[39;49m\u001b[43m)\u001b[49m\u001b[43m)\u001b[49m\n",
      "\u001b[0;31mValueError\u001b[0m: invalid literal for int() with base 10: 'abhi'"
     ]
    }
   ],
   "source": [
    "s4 = int(input('Enter a number: \\n'))"
   ]
  },
  {
   "cell_type": "code",
   "execution_count": 14,
   "id": "05976c4f-8846-4514-97bc-6230f3d9a18a",
   "metadata": {},
   "outputs": [
    {
     "name": "stdin",
     "output_type": "stream",
     "text": [
      " 34\n"
     ]
    }
   ],
   "source": [
    "s5 = float(input())"
   ]
  },
  {
   "cell_type": "code",
   "execution_count": 15,
   "id": "febb5c2d-dfca-483b-9717-f8ff1edb9154",
   "metadata": {},
   "outputs": [
    {
     "data": {
      "text/plain": [
       "float"
      ]
     },
     "execution_count": 15,
     "metadata": {},
     "output_type": "execute_result"
    }
   ],
   "source": [
    "type(s5)"
   ]
  },
  {
   "cell_type": "code",
   "execution_count": 16,
   "id": "23f0eec3-b7c9-4af6-b112-3b162a831395",
   "metadata": {},
   "outputs": [
    {
     "data": {
      "text/plain": [
       "34.0"
      ]
     },
     "execution_count": 16,
     "metadata": {},
     "output_type": "execute_result"
    }
   ],
   "source": [
    "s5"
   ]
  },
  {
   "cell_type": "markdown",
   "id": "1985fc1e-f09e-4ebf-bd9b-fc5d58e49f60",
   "metadata": {},
   "source": [
    "# Conditional Statement and basic Loops"
   ]
  },
  {
   "cell_type": "code",
   "execution_count": 32,
   "id": "a3cb4bb6-b8d9-44af-a63a-97dbb8da4c49",
   "metadata": {},
   "outputs": [
    {
     "name": "stdin",
     "output_type": "stream",
     "text": [
      "Enter a marks : \n",
      " 65\n"
     ]
    }
   ],
   "source": [
    "marks = int(input('Enter a marks : \\n'))"
   ]
  },
  {
   "cell_type": "markdown",
   "id": "36fa6551-4c21-4acc-b05b-703ab2724e7e",
   "metadata": {},
   "source": [
    "### If Statement"
   ]
  },
  {
   "cell_type": "code",
   "execution_count": 33,
   "id": "bac388b9-2687-4f4f-bf93-91b22ed1ee51",
   "metadata": {},
   "outputs": [
    {
     "name": "stdout",
     "output_type": "stream",
     "text": [
      "65\n"
     ]
    }
   ],
   "source": [
    "if marks >= 80:\n",
    "    print(\"I'm very happy!\")\n",
    "print( marks)"
   ]
  },
  {
   "cell_type": "markdown",
   "id": "dc865446-12f2-4388-a389-847fc1dc1735",
   "metadata": {},
   "source": [
    "### IF - ELSE Statement"
   ]
  },
  {
   "cell_type": "code",
   "execution_count": 32,
   "id": "35454db1-2718-4032-9b12-e41979d1c8e8",
   "metadata": {},
   "outputs": [
    {
     "name": "stdin",
     "output_type": "stream",
     "text": [
      "Enter a marks : \n",
      " 65\n"
     ]
    }
   ],
   "source": [
    "marks = int(input('Enter a marks : \\n'))"
   ]
  },
  {
   "cell_type": "code",
   "execution_count": 34,
   "id": "31c32875-5700-4f43-b849-14cf022fa0de",
   "metadata": {},
   "outputs": [
    {
     "name": "stdout",
     "output_type": "stream",
     "text": [
      "I'm not happy!\n"
     ]
    }
   ],
   "source": [
    "if marks >= 80:\n",
    "    print(\"I'm very happy!\")\n",
    "else:\n",
    "    print(\"I'm not happy!\")"
   ]
  },
  {
   "cell_type": "markdown",
   "id": "71090fd6-e9bd-451e-af96-e0ea0c43442a",
   "metadata": {},
   "source": [
    "### ELIF Statement"
   ]
  },
  {
   "cell_type": "code",
   "execution_count": null,
   "id": "b9d14cf9-aca1-4c13-813e-dfecd03a0ec0",
   "metadata": {},
   "outputs": [],
   "source": []
  },
  {
   "cell_type": "code",
   "execution_count": 1,
   "id": "8db82afd-ba11-4210-a5c4-8b7ca4bd1f61",
   "metadata": {},
   "outputs": [
    {
     "name": "stdin",
     "output_type": "stream",
     "text": [
      "Enter a marks : \n",
      " 34\n"
     ]
    },
    {
     "name": "stdout",
     "output_type": "stream",
     "text": [
      "I'm not happy!\n"
     ]
    }
   ],
   "source": [
    "marks = int(input('Enter a marks : \\n'))\n",
    "if marks >= 80:\n",
    "    print(\"I'm very happy!\")\n",
    "elif marks >= 60:\n",
    "    print(\"I'm happy!\")\n",
    "elif marks >= 50:\n",
    "    print(\"I'm good!\")\n",
    "else:\n",
    "    print(\"I'm not happy!\")"
   ]
  },
  {
   "cell_type": "markdown",
   "id": "201ade70-9ab8-4297-baaf-1a248b515d3d",
   "metadata": {},
   "source": [
    "# Loops"
   ]
  },
  {
   "cell_type": "code",
   "execution_count": 36,
   "id": "a9238764-0120-4728-a965-fbbe47c97db1",
   "metadata": {},
   "outputs": [],
   "source": [
    "l = [1,2,3,4,5,6,7,8,9]"
   ]
  },
  {
   "cell_type": "code",
   "execution_count": 37,
   "id": "2a1dcc0f-5105-4bab-a6e4-b642d9c6dc94",
   "metadata": {},
   "outputs": [
    {
     "data": {
      "text/plain": [
       "2"
      ]
     },
     "execution_count": 37,
     "metadata": {},
     "output_type": "execute_result"
    }
   ],
   "source": [
    "l[0] + 1"
   ]
  },
  {
   "cell_type": "code",
   "execution_count": null,
   "id": "102d0ee1-3dab-4543-84f1-4c2e8d6f2755",
   "metadata": {},
   "outputs": [],
   "source": [
    "If we want a "
   ]
  },
  {
   "cell_type": "code",
   "execution_count": null,
   "id": "d40ab1d3-51f5-4340-a8fb-84349d7608e1",
   "metadata": {},
   "outputs": [],
   "source": []
  },
  {
   "cell_type": "code",
   "execution_count": null,
   "id": "18bb1b88-b545-4d21-8a82-b91393251cd4",
   "metadata": {},
   "outputs": [],
   "source": []
  },
  {
   "cell_type": "code",
   "execution_count": null,
   "id": "0ac96a34-4029-49c0-91ff-a0dd6e4138ff",
   "metadata": {},
   "outputs": [],
   "source": []
  }
 ],
 "metadata": {
  "kernelspec": {
   "display_name": "Python 3 (ipykernel)",
   "language": "python",
   "name": "python3"
  },
  "language_info": {
   "codemirror_mode": {
    "name": "ipython",
    "version": 3
   },
   "file_extension": ".py",
   "mimetype": "text/x-python",
   "name": "python",
   "nbconvert_exporter": "python",
   "pygments_lexer": "ipython3",
   "version": "3.10.8"
  }
 },
 "nbformat": 4,
 "nbformat_minor": 5
}
