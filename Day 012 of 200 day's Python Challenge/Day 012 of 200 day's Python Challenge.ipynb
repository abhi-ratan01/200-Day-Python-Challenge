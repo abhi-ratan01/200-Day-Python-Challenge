{
 "cells": [
  {
   "cell_type": "markdown",
   "id": "bc41efba-b248-4c3a-ae18-fb41ee9f88aa",
   "metadata": {},
   "source": [
    "# Static Method"
   ]
  },
  {
   "cell_type": "code",
   "execution_count": 1,
   "id": "10e139a6-76a2-49fb-968c-b19947a72525",
   "metadata": {},
   "outputs": [],
   "source": [
    "class pwskills:\n",
    "    \n",
    "    def student_details(self, name, mail_id, number):\n",
    "        print(name, mail_id, number)"
   ]
  },
  {
   "cell_type": "code",
   "execution_count": 2,
   "id": "9b7af4e9-9526-4a0f-86f9-c7181f680a35",
   "metadata": {},
   "outputs": [],
   "source": [
    "pw = pwskills()"
   ]
  },
  {
   "cell_type": "code",
   "execution_count": 3,
   "id": "e690533e-86fb-4f6e-b128-48147c8a8015",
   "metadata": {},
   "outputs": [
    {
     "name": "stdout",
     "output_type": "stream",
     "text": [
      "Abhi abhi@gmail.com 934949345\n"
     ]
    }
   ],
   "source": [
    "pw.student_details('Abhi', 'abhi@gmail.com', 934949345)"
   ]
  },
  {
   "cell_type": "code",
   "execution_count": 1,
   "id": "9bab0841-9fc6-4322-b305-917af0a0ae3b",
   "metadata": {},
   "outputs": [],
   "source": [
    "class pwskills1:\n",
    "    \n",
    "    def student_details(self, name , mail_id, number):\n",
    "        print(name, mail_id, number)\n",
    "        \n",
    "    @staticmethod\n",
    "    def mentor_class(list_mentor):\n",
    "        print(list_mentor)\n",
    "        \n",
    "    def mentor(self, mentor_list):\n",
    "        print(mentor_list)"
   ]
  },
  {
   "cell_type": "code",
   "execution_count": 2,
   "id": "c048bb3c-79fb-4b3c-8628-cae02bef6173",
   "metadata": {},
   "outputs": [
    {
     "name": "stdout",
     "output_type": "stream",
     "text": [
      "['abhi', 'ratan']\n"
     ]
    }
   ],
   "source": [
    "pwskills1.mentor_class(['abhi', 'ratan'])"
   ]
  },
  {
   "cell_type": "code",
   "execution_count": 3,
   "id": "8920688b-387c-467e-bfe4-7d098b663010",
   "metadata": {},
   "outputs": [],
   "source": [
    "stu1 = pwskills1()"
   ]
  },
  {
   "cell_type": "code",
   "execution_count": 4,
   "id": "f46faea1-423b-4915-b1b8-9d5a6e9087ba",
   "metadata": {},
   "outputs": [],
   "source": [
    "stu2 = pwskills1()"
   ]
  },
  {
   "cell_type": "code",
   "execution_count": 5,
   "id": "39ecd9eb-3530-40df-9b2a-116c8f861caf",
   "metadata": {},
   "outputs": [],
   "source": [
    "stu3 = pwskills1()"
   ]
  },
  {
   "cell_type": "code",
   "execution_count": 6,
   "id": "bc1612d0-1cd7-4934-a455-d94a281401fe",
   "metadata": {},
   "outputs": [
    {
     "name": "stdout",
     "output_type": "stream",
     "text": [
      "['abhi', 'sudh', 'krish']\n"
     ]
    }
   ],
   "source": [
    "stu1.mentor(['abhi', 'sudh', 'krish'])"
   ]
  },
  {
   "cell_type": "code",
   "execution_count": 19,
   "id": "8d2cb1c2-dcf5-4c84-b18e-37516a591025",
   "metadata": {},
   "outputs": [],
   "source": [
    "class pwskills2:\n",
    "    \n",
    "    def student_details(self, name , mail_id, number):\n",
    "        print(name, mail_id, number)\n",
    "        \n",
    "    @staticmethod\n",
    "    def mentor_class(list_mentor):\n",
    "        print(list_mentor)\n",
    "        \n",
    "    @staticmethod\n",
    "    def mentor_mail_id(mail_id_mentor):\n",
    "        print(mail_id_mentor)\n",
    "        \n",
    "    @classmethod\n",
    "    def class_name(cls):\n",
    "        pwskills2.mentor_mail_id(['abhi@gmail.com', 'sudh@gmail.com', 'krish@gmail.com'])\n",
    "        cls.mentor_class(['abhi', 'sudh', 'krish'])\n",
    "        \n",
    "    def mentor(self, mentor_list):\n",
    "        self.mentor_class(['abhi', 'sudh', 'krish'])\n",
    "        print(mentor_list)"
   ]
  },
  {
   "cell_type": "code",
   "execution_count": 20,
   "id": "315b9209-3033-4a8a-b964-504d792d8189",
   "metadata": {},
   "outputs": [
    {
     "name": "stdout",
     "output_type": "stream",
     "text": [
      "['abhi@gmail.com', 'sudh@gmail.com', 'krish@gmail.com']\n",
      "['abhi', 'sudh', 'krish']\n"
     ]
    }
   ],
   "source": [
    "pwskills2.class_name()"
   ]
  },
  {
   "cell_type": "code",
   "execution_count": 21,
   "id": "ac6e6a9f-87af-4227-897e-977aa03c900e",
   "metadata": {},
   "outputs": [],
   "source": [
    "pw2 = pwskills2()"
   ]
  },
  {
   "cell_type": "code",
   "execution_count": 23,
   "id": "13ec3e51-efbe-47d1-9312-6d6639b622bf",
   "metadata": {},
   "outputs": [
    {
     "name": "stdout",
     "output_type": "stream",
     "text": [
      "['abhi', 'sudh', 'krish']\n",
      "['abhi', 'sudh', 'krish']\n"
     ]
    }
   ],
   "source": [
    "pw2.mentor(['abhi', 'sudh', 'krish'])"
   ]
  },
  {
   "cell_type": "markdown",
   "id": "31d2bd3a-2d0c-4f8a-ba72-6ac4ce0c493f",
   "metadata": {},
   "source": [
    "# Special (Magic or Dunder) Functions"
   ]
  },
  {
   "cell_type": "code",
   "execution_count": 25,
   "id": "b2781c8d-d775-42fd-85d5-db7721267a77",
   "metadata": {},
   "outputs": [
    {
     "data": {
      "text/plain": [
       "['__abs__',\n",
       " '__add__',\n",
       " '__and__',\n",
       " '__bool__',\n",
       " '__ceil__',\n",
       " '__class__',\n",
       " '__delattr__',\n",
       " '__dir__',\n",
       " '__divmod__',\n",
       " '__doc__',\n",
       " '__eq__',\n",
       " '__float__',\n",
       " '__floor__',\n",
       " '__floordiv__',\n",
       " '__format__',\n",
       " '__ge__',\n",
       " '__getattribute__',\n",
       " '__getnewargs__',\n",
       " '__gt__',\n",
       " '__hash__',\n",
       " '__index__',\n",
       " '__init__',\n",
       " '__init_subclass__',\n",
       " '__int__',\n",
       " '__invert__',\n",
       " '__le__',\n",
       " '__lshift__',\n",
       " '__lt__',\n",
       " '__mod__',\n",
       " '__mul__',\n",
       " '__ne__',\n",
       " '__neg__',\n",
       " '__new__',\n",
       " '__or__',\n",
       " '__pos__',\n",
       " '__pow__',\n",
       " '__radd__',\n",
       " '__rand__',\n",
       " '__rdivmod__',\n",
       " '__reduce__',\n",
       " '__reduce_ex__',\n",
       " '__repr__',\n",
       " '__rfloordiv__',\n",
       " '__rlshift__',\n",
       " '__rmod__',\n",
       " '__rmul__',\n",
       " '__ror__',\n",
       " '__round__',\n",
       " '__rpow__',\n",
       " '__rrshift__',\n",
       " '__rshift__',\n",
       " '__rsub__',\n",
       " '__rtruediv__',\n",
       " '__rxor__',\n",
       " '__setattr__',\n",
       " '__sizeof__',\n",
       " '__str__',\n",
       " '__sub__',\n",
       " '__subclasshook__',\n",
       " '__truediv__',\n",
       " '__trunc__',\n",
       " '__xor__',\n",
       " 'as_integer_ratio',\n",
       " 'bit_count',\n",
       " 'bit_length',\n",
       " 'conjugate',\n",
       " 'denominator',\n",
       " 'from_bytes',\n",
       " 'imag',\n",
       " 'numerator',\n",
       " 'real',\n",
       " 'to_bytes']"
      ]
     },
     "execution_count": 25,
     "metadata": {},
     "output_type": "execute_result"
    }
   ],
   "source": [
    "dir(int)"
   ]
  },
  {
   "cell_type": "code",
   "execution_count": 26,
   "id": "e62c13ec-602c-4344-88d3-b29d299ca26b",
   "metadata": {},
   "outputs": [
    {
     "data": {
      "text/plain": [
       "['__add__',\n",
       " '__class__',\n",
       " '__contains__',\n",
       " '__delattr__',\n",
       " '__dir__',\n",
       " '__doc__',\n",
       " '__eq__',\n",
       " '__format__',\n",
       " '__ge__',\n",
       " '__getattribute__',\n",
       " '__getitem__',\n",
       " '__getnewargs__',\n",
       " '__gt__',\n",
       " '__hash__',\n",
       " '__init__',\n",
       " '__init_subclass__',\n",
       " '__iter__',\n",
       " '__le__',\n",
       " '__len__',\n",
       " '__lt__',\n",
       " '__mod__',\n",
       " '__mul__',\n",
       " '__ne__',\n",
       " '__new__',\n",
       " '__reduce__',\n",
       " '__reduce_ex__',\n",
       " '__repr__',\n",
       " '__rmod__',\n",
       " '__rmul__',\n",
       " '__setattr__',\n",
       " '__sizeof__',\n",
       " '__str__',\n",
       " '__subclasshook__',\n",
       " 'capitalize',\n",
       " 'casefold',\n",
       " 'center',\n",
       " 'count',\n",
       " 'encode',\n",
       " 'endswith',\n",
       " 'expandtabs',\n",
       " 'find',\n",
       " 'format',\n",
       " 'format_map',\n",
       " 'index',\n",
       " 'isalnum',\n",
       " 'isalpha',\n",
       " 'isascii',\n",
       " 'isdecimal',\n",
       " 'isdigit',\n",
       " 'isidentifier',\n",
       " 'islower',\n",
       " 'isnumeric',\n",
       " 'isprintable',\n",
       " 'isspace',\n",
       " 'istitle',\n",
       " 'isupper',\n",
       " 'join',\n",
       " 'ljust',\n",
       " 'lower',\n",
       " 'lstrip',\n",
       " 'maketrans',\n",
       " 'partition',\n",
       " 'removeprefix',\n",
       " 'removesuffix',\n",
       " 'replace',\n",
       " 'rfind',\n",
       " 'rindex',\n",
       " 'rjust',\n",
       " 'rpartition',\n",
       " 'rsplit',\n",
       " 'rstrip',\n",
       " 'split',\n",
       " 'splitlines',\n",
       " 'startswith',\n",
       " 'strip',\n",
       " 'swapcase',\n",
       " 'title',\n",
       " 'translate',\n",
       " 'upper',\n",
       " 'zfill']"
      ]
     },
     "execution_count": 26,
     "metadata": {},
     "output_type": "execute_result"
    }
   ],
   "source": [
    "dir(str)"
   ]
  },
  {
   "cell_type": "code",
   "execution_count": 27,
   "id": "3a09dc0e-eee3-432b-b9bc-8070e6db889c",
   "metadata": {},
   "outputs": [],
   "source": [
    "a = 100"
   ]
  },
  {
   "cell_type": "code",
   "execution_count": 28,
   "id": "2a2b17f8-d061-4c15-bfc1-a475bba83593",
   "metadata": {},
   "outputs": [
    {
     "data": {
      "text/plain": [
       "153"
      ]
     },
     "execution_count": 28,
     "metadata": {},
     "output_type": "execute_result"
    }
   ],
   "source": [
    "a + 53"
   ]
  },
  {
   "cell_type": "code",
   "execution_count": 29,
   "id": "e65d846a-9f97-4ee8-8922-e16ed7c32810",
   "metadata": {},
   "outputs": [
    {
     "data": {
      "text/plain": [
       "145"
      ]
     },
     "execution_count": 29,
     "metadata": {},
     "output_type": "execute_result"
    }
   ],
   "source": [
    "a.__add__(45)"
   ]
  },
  {
   "cell_type": "code",
   "execution_count": 45,
   "id": "e7055ac0-48d7-4842-89d8-17c8463eb8d7",
   "metadata": {},
   "outputs": [],
   "source": [
    "class tech:\n",
    "    \n",
    "    def __new__(cls):\n",
    "        print('this is my new object')\n",
    "    \n",
    "    def __init__(self):\n",
    "        print('this is my init')\n",
    "        self.number = 93442634"
   ]
  },
  {
   "cell_type": "code",
   "execution_count": 46,
   "id": "7c073e02-cffa-44df-bd44-ac1a81e4c470",
   "metadata": {},
   "outputs": [
    {
     "name": "stdout",
     "output_type": "stream",
     "text": [
      "this is my new object\n"
     ]
    }
   ],
   "source": [
    "obj = tech()"
   ]
  },
  {
   "cell_type": "code",
   "execution_count": 47,
   "id": "e6d9dff2-37c7-4c8b-a305-0c39fcddf350",
   "metadata": {},
   "outputs": [
    {
     "ename": "AttributeError",
     "evalue": "'NoneType' object has no attribute 'number'",
     "output_type": "error",
     "traceback": [
      "\u001b[0;31m---------------------------------------------------------------------------\u001b[0m",
      "\u001b[0;31mAttributeError\u001b[0m                            Traceback (most recent call last)",
      "Cell \u001b[0;32mIn[47], line 1\u001b[0m\n\u001b[0;32m----> 1\u001b[0m \u001b[43mobj\u001b[49m\u001b[38;5;241;43m.\u001b[39;49m\u001b[43mnumber\u001b[49m\n",
      "\u001b[0;31mAttributeError\u001b[0m: 'NoneType' object has no attribute 'number'"
     ]
    }
   ],
   "source": [
    "obj.number"
   ]
  },
  {
   "cell_type": "code",
   "execution_count": 48,
   "id": "7e34cb79-61e9-4818-9786-8ec9e1e4a6f9",
   "metadata": {},
   "outputs": [],
   "source": [
    "obj"
   ]
  },
  {
   "cell_type": "code",
   "execution_count": 65,
   "id": "1ec17b3a-139d-4329-8f6a-991e12ec440f",
   "metadata": {},
   "outputs": [],
   "source": [
    "class test:\n",
    "    \n",
    "    def __init__(self):\n",
    "        self.number = 96452343\n",
    "        \n",
    "    def __str__(self):\n",
    "        return 'this is my magic call of str'"
   ]
  },
  {
   "cell_type": "code",
   "execution_count": 66,
   "id": "496b5459-b6aa-4219-bc09-1ca022fe5c32",
   "metadata": {},
   "outputs": [],
   "source": [
    "t = test()"
   ]
  },
  {
   "cell_type": "code",
   "execution_count": 67,
   "id": "e541e32f-a8a5-4045-abf7-e521908ca22d",
   "metadata": {},
   "outputs": [
    {
     "data": {
      "text/plain": [
       "<__main__.test at 0x7fb89e618250>"
      ]
     },
     "execution_count": 67,
     "metadata": {},
     "output_type": "execute_result"
    }
   ],
   "source": [
    "t"
   ]
  },
  {
   "cell_type": "code",
   "execution_count": 68,
   "id": "663a4fd8-b7fa-4b97-9a59-d181beffd281",
   "metadata": {},
   "outputs": [
    {
     "data": {
      "text/plain": [
       "96452343"
      ]
     },
     "execution_count": 68,
     "metadata": {},
     "output_type": "execute_result"
    }
   ],
   "source": [
    "t.number"
   ]
  },
  {
   "cell_type": "code",
   "execution_count": 69,
   "id": "736f4853-3369-4665-a8b8-838c7e86f91c",
   "metadata": {},
   "outputs": [
    {
     "name": "stdout",
     "output_type": "stream",
     "text": [
      "this is my magic call of str\n"
     ]
    }
   ],
   "source": [
    "print(t)"
   ]
  },
  {
   "cell_type": "markdown",
   "id": "ca6d66da-a25b-4b93-8f8c-1f40c7f7d408",
   "metadata": {},
   "source": [
    "# Property Decorator"
   ]
  },
  {
   "cell_type": "code",
   "execution_count": 124,
   "id": "e178e752-c581-4278-ac46-57f3e750983b",
   "metadata": {},
   "outputs": [],
   "source": [
    "class test2:\n",
    "    \n",
    "    def __init__(self, course_price, course_name):\n",
    "        self.course_name = course_name\n",
    "        self.__course_price = course_price\n",
    "        \n",
    "    @property\n",
    "    def course_price_access(self):\n",
    "        return self.__course_price\n",
    "    \n",
    "    @course_price_access.setter\n",
    "    def course_price_set(self, price):\n",
    "        if price <= 3500:\n",
    "            pass\n",
    "        else:\n",
    "            self.__course_price = price\n",
    "            \n",
    "    @course_price_access.deleter\n",
    "    def delete_course_price(self):\n",
    "        del self.__course_price"
   ]
  },
  {
   "cell_type": "code",
   "execution_count": 125,
   "id": "85a7315e-630a-4e62-922f-6df6d6c8777f",
   "metadata": {},
   "outputs": [],
   "source": [
    "t2 = test2(34545, 'data science')"
   ]
  },
  {
   "cell_type": "code",
   "execution_count": 126,
   "id": "527954b1-b25e-4a41-adf9-4e38087d4e89",
   "metadata": {},
   "outputs": [
    {
     "data": {
      "text/plain": [
       "'data science'"
      ]
     },
     "execution_count": 126,
     "metadata": {},
     "output_type": "execute_result"
    }
   ],
   "source": [
    "t2.course_name"
   ]
  },
  {
   "cell_type": "code",
   "execution_count": 127,
   "id": "0d75f366-4bb8-4686-935c-07f006fb4dda",
   "metadata": {},
   "outputs": [
    {
     "data": {
      "text/plain": [
       "34545"
      ]
     },
     "execution_count": 127,
     "metadata": {},
     "output_type": "execute_result"
    }
   ],
   "source": [
    "t2.course_price_access"
   ]
  },
  {
   "cell_type": "code",
   "execution_count": 128,
   "id": "3c03f806-d659-479b-919f-79faff0201fa",
   "metadata": {},
   "outputs": [],
   "source": [
    "t2.course_price_set = 3600"
   ]
  },
  {
   "cell_type": "code",
   "execution_count": 129,
   "id": "a2ca673b-5a13-4341-8b93-052c36490993",
   "metadata": {},
   "outputs": [
    {
     "data": {
      "text/plain": [
       "3600"
      ]
     },
     "execution_count": 129,
     "metadata": {},
     "output_type": "execute_result"
    }
   ],
   "source": [
    "t2.course_price_access"
   ]
  },
  {
   "cell_type": "code",
   "execution_count": 130,
   "id": "37ebef2a-c62e-4e25-b113-221e7f86840e",
   "metadata": {},
   "outputs": [
    {
     "ename": "AttributeError",
     "evalue": "telete_course_price",
     "output_type": "error",
     "traceback": [
      "\u001b[0;31m---------------------------------------------------------------------------\u001b[0m",
      "\u001b[0;31mAttributeError\u001b[0m                            Traceback (most recent call last)",
      "Cell \u001b[0;32mIn[130], line 1\u001b[0m\n\u001b[0;32m----> 1\u001b[0m \u001b[38;5;28;01mdel\u001b[39;00m t2\u001b[38;5;241m.\u001b[39mtelete_course_price\n",
      "\u001b[0;31mAttributeError\u001b[0m: telete_course_price"
     ]
    }
   ],
   "source": [
    "del t2.telete_course_price"
   ]
  },
  {
   "cell_type": "code",
   "execution_count": 131,
   "id": "711def70-23de-4efc-93ee-8752c2003621",
   "metadata": {},
   "outputs": [
    {
     "data": {
      "text/plain": [
       "3600"
      ]
     },
     "execution_count": 131,
     "metadata": {},
     "output_type": "execute_result"
    }
   ],
   "source": [
    "t2.course_price_access"
   ]
  },
  {
   "cell_type": "code",
   "execution_count": null,
   "id": "3305e951-bee7-4a53-be13-ec8f2fef5dd6",
   "metadata": {},
   "outputs": [],
   "source": []
  },
  {
   "cell_type": "code",
   "execution_count": null,
   "id": "79797f3f-2490-4938-bb2e-3e2ca0efd3f6",
   "metadata": {},
   "outputs": [],
   "source": []
  }
 ],
 "metadata": {
  "kernelspec": {
   "display_name": "Python 3 (ipykernel)",
   "language": "python",
   "name": "python3"
  },
  "language_info": {
   "codemirror_mode": {
    "name": "ipython",
    "version": 3
   },
   "file_extension": ".py",
   "mimetype": "text/x-python",
   "name": "python",
   "nbconvert_exporter": "python",
   "pygments_lexer": "ipython3",
   "version": "3.10.8"
  }
 },
 "nbformat": 4,
 "nbformat_minor": 5
}
