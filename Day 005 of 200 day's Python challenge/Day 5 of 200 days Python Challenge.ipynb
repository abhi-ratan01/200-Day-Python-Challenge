{
 "cells": [
  {
   "cell_type": "code",
   "execution_count": 1,
   "id": "9b77e93d-1e47-4e42-87d6-b63efd31b3e6",
   "metadata": {},
   "outputs": [
    {
     "name": "stdin",
     "output_type": "stream",
     "text": [
      " 5\n"
     ]
    },
    {
     "data": {
      "text/plain": [
       "15"
      ]
     },
     "execution_count": 1,
     "metadata": {},
     "output_type": "execute_result"
    }
   ],
   "source": [
    "n = int(input())\n",
    "count = 1\n",
    "result = 0\n",
    "while count <= n:\n",
    "    result = result + count\n",
    "    count = count + 1\n",
    "result"
   ]
  },
  {
   "cell_type": "code",
   "execution_count": 2,
   "id": "0b2cde3b-4c17-4f27-ba19-607acfe26e7a",
   "metadata": {},
   "outputs": [
    {
     "name": "stdin",
     "output_type": "stream",
     "text": [
      " 6\n"
     ]
    },
    {
     "data": {
      "text/plain": [
       "720"
      ]
     },
     "execution_count": 2,
     "metadata": {},
     "output_type": "execute_result"
    }
   ],
   "source": [
    "n = int(input())\n",
    "fact = 1\n",
    "while n > 0:\n",
    "    fact = fact * n\n",
    "    n = n-1\n",
    "fact"
   ]
  },
  {
   "cell_type": "code",
   "execution_count": 3,
   "id": "70030268-9ec1-4967-9a99-2e30de407085",
   "metadata": {},
   "outputs": [
    {
     "name": "stdin",
     "output_type": "stream",
     "text": [
      " 6\n"
     ]
    },
    {
     "name": "stdout",
     "output_type": "stream",
     "text": [
      "8\n"
     ]
    }
   ],
   "source": [
    "n = int(input())\n",
    "a = 0\n",
    "b = 1\n",
    "counter = 0 \n",
    "while counter < n:\n",
    "    c = a + b\n",
    "    a = b\n",
    "    b = c\n",
    "    counter = counter + 1\n",
    "print(a)\n"
   ]
  },
  {
   "cell_type": "code",
   "execution_count": 4,
   "id": "18bf8224-5ef8-40cd-9978-679d9916f73b",
   "metadata": {},
   "outputs": [
    {
     "name": "stdin",
     "output_type": "stream",
     "text": [
      " 5\n"
     ]
    },
    {
     "name": "stdout",
     "output_type": "stream",
     "text": [
      "0\n",
      "1\n",
      "1\n",
      "2\n",
      "3\n"
     ]
    }
   ],
   "source": [
    "n = int(input())\n",
    "a = 0\n",
    "b = 1\n",
    "for i in range(n):\n",
    "    print(a)\n",
    "    c = a + b\n",
    "    a = b\n",
    "    b = c"
   ]
  },
  {
   "cell_type": "code",
   "execution_count": 5,
   "id": "a330fda6-ee8f-4bc1-9577-7c648e1c2c28",
   "metadata": {},
   "outputs": [
    {
     "name": "stdin",
     "output_type": "stream",
     "text": [
      "Enter a string abhi\n"
     ]
    },
    {
     "data": {
      "text/plain": [
       "'ihba'"
      ]
     },
     "execution_count": 5,
     "metadata": {},
     "output_type": "execute_result"
    }
   ],
   "source": [
    "s = input(\"Enter a string\")\n",
    "reverse = \"\"\n",
    "length = len(s)\n",
    "while length > 0:\n",
    "    reverse = reverse + s[length-1]\n",
    "    length = length -1\n",
    "reverse"
   ]
  },
  {
   "cell_type": "code",
   "execution_count": 6,
   "id": "35fbdbf6-7323-405c-9e2c-f054e48ff4bf",
   "metadata": {},
   "outputs": [
    {
     "name": "stdin",
     "output_type": "stream",
     "text": [
      "Enter a string Tech\n"
     ]
    },
    {
     "data": {
      "text/plain": [
       "'hceT'"
      ]
     },
     "execution_count": 6,
     "metadata": {},
     "output_type": "execute_result"
    }
   ],
   "source": [
    "s = input(\"Enter a string\")\n",
    "reverse = \"\"\n",
    "length = len(s)\n",
    "for i in range(length-1,-1,-1):\n",
    "    reverse = reverse + s[i]\n",
    "reverse"
   ]
  },
  {
   "cell_type": "code",
   "execution_count": 7,
   "id": "50d672ae-1161-4d3e-8390-2569adfdeed8",
   "metadata": {},
   "outputs": [
    {
     "name": "stdin",
     "output_type": "stream",
     "text": [
      "Enter a number for printing a table 12\n"
     ]
    },
    {
     "name": "stdout",
     "output_type": "stream",
     "text": [
      "12\n",
      "24\n",
      "36\n",
      "48\n",
      "60\n",
      "72\n",
      "84\n",
      "96\n",
      "108\n",
      "120\n"
     ]
    }
   ],
   "source": [
    "n = int(input('Enter a number for printing a table'))\n",
    "i = 1\n",
    "while i <= 10:\n",
    "    print(n*i)\n",
    "    i = i+1"
   ]
  },
  {
   "cell_type": "code",
   "execution_count": 2,
   "id": "4168caba-d7f0-4971-adcc-1a94716b344f",
   "metadata": {},
   "outputs": [
    {
     "name": "stdin",
     "output_type": "stream",
     "text": [
      "Table of :  12\n"
     ]
    },
    {
     "name": "stdout",
     "output_type": "stream",
     "text": [
      "12\n",
      "24\n",
      "36\n",
      "48\n",
      "60\n",
      "72\n",
      "84\n",
      "96\n",
      "108\n",
      "120\n"
     ]
    }
   ],
   "source": [
    "n = int(input('Table of : '))\n",
    "i = 1\n",
    "while i <=10:\n",
    "    print(i*n)\n",
    "    i = i + 1"
   ]
  },
  {
   "cell_type": "code",
   "execution_count": 8,
   "id": "35d42ad0-2670-4773-9d9a-7d55facc7c50",
   "metadata": {},
   "outputs": [
    {
     "name": "stdin",
     "output_type": "stream",
     "text": [
      " 23\n"
     ]
    },
    {
     "name": "stdout",
     "output_type": "stream",
     "text": [
      "23\n",
      "46\n",
      "69\n",
      "92\n",
      "115\n",
      "138\n",
      "161\n",
      "184\n",
      "207\n",
      "230\n"
     ]
    }
   ],
   "source": [
    "n = int(input())\n",
    "for i in range(1,11):\n",
    "    print(n*i)"
   ]
  },
  {
   "cell_type": "markdown",
   "id": "df6b77af-5ff8-4be6-9864-d48fb2829d9f",
   "metadata": {},
   "source": [
    "# List Comprehention"
   ]
  },
  {
   "cell_type": "code",
   "execution_count": 13,
   "id": "5ea1e101-a81f-4600-bbb1-9b714af11754",
   "metadata": {},
   "outputs": [],
   "source": [
    "l = [1,2,3,4,5,6,7]\n",
    "l1 = []\n",
    "for i in l:\n",
    "    l1.append(i**2)"
   ]
  },
  {
   "cell_type": "code",
   "execution_count": 14,
   "id": "48f2302d-5df0-4d6e-a81a-ca8593edc82c",
   "metadata": {},
   "outputs": [
    {
     "data": {
      "text/plain": [
       "[1, 4, 9, 16, 25, 36, 49]"
      ]
     },
     "execution_count": 14,
     "metadata": {},
     "output_type": "execute_result"
    }
   ],
   "source": [
    "l1"
   ]
  },
  {
   "cell_type": "code",
   "execution_count": 15,
   "id": "2c9aba2c-8cfe-4bef-aa13-03d65a386724",
   "metadata": {},
   "outputs": [
    {
     "data": {
      "text/plain": [
       "[1, 4, 9, 16, 25, 36, 49]"
      ]
     },
     "execution_count": 15,
     "metadata": {},
     "output_type": "execute_result"
    }
   ],
   "source": [
    "[i**2 for i in l]"
   ]
  },
  {
   "cell_type": "code",
   "execution_count": 16,
   "id": "87fc788a-585a-499c-a17c-0cca785f015f",
   "metadata": {},
   "outputs": [
    {
     "data": {
      "text/plain": [
       "[2, 4, 6]"
      ]
     },
     "execution_count": 16,
     "metadata": {},
     "output_type": "execute_result"
    }
   ],
   "source": [
    "[i for i in l if i%2==0]"
   ]
  },
  {
   "cell_type": "code",
   "execution_count": 1,
   "id": "58a7776c-2118-444b-a4e2-1ffc644ef507",
   "metadata": {},
   "outputs": [],
   "source": [
    "l = ['Abhi','Tech','Ratan','prajapati']"
   ]
  },
  {
   "cell_type": "code",
   "execution_count": 2,
   "id": "67456a0c-6fd3-4823-a8d7-c2815d623336",
   "metadata": {},
   "outputs": [
    {
     "data": {
      "text/plain": [
       "['ABHI', 'TECH', 'RATAN', 'PRAJAPATI']"
      ]
     },
     "execution_count": 2,
     "metadata": {},
     "output_type": "execute_result"
    }
   ],
   "source": [
    "[i.upper() for i in l]"
   ]
  },
  {
   "cell_type": "code",
   "execution_count": 6,
   "id": "227eda8e-1319-454a-8c07-701a4e9a18db",
   "metadata": {},
   "outputs": [
    {
     "data": {
      "text/plain": [
       "('ABHI', 'TECH', 'RATAN', 'PRAJAPATI')"
      ]
     },
     "execution_count": 6,
     "metadata": {},
     "output_type": "execute_result"
    }
   ],
   "source": [
    "tuple(i.upper() for i in l)"
   ]
  },
  {
   "cell_type": "markdown",
   "id": "b671b4b2-ea2c-42e8-8cec-6ea03dd154da",
   "metadata": {},
   "source": [
    "# Dictionary Comprehension"
   ]
  },
  {
   "cell_type": "code",
   "execution_count": 1,
   "id": "51be5878-a041-49f4-920e-6246a080696f",
   "metadata": {},
   "outputs": [],
   "source": [
    "d = {'key1':1, 'key2':2, 'key3':3, 'key4':4}"
   ]
  },
  {
   "cell_type": "code",
   "execution_count": 11,
   "id": "c8ee3498-c224-45e2-aea2-736b7f98d129",
   "metadata": {},
   "outputs": [
    {
     "data": {
      "text/plain": [
       "{'key2': 2, 'key3': 3, 'key4': 4}"
      ]
     },
     "execution_count": 11,
     "metadata": {},
     "output_type": "execute_result"
    }
   ],
   "source": [
    "{k:v for k,v in d.items() if v>1}"
   ]
  },
  {
   "cell_type": "code",
   "execution_count": null,
   "id": "af376728-7070-4f62-ac8a-f05cee658973",
   "metadata": {},
   "outputs": [],
   "source": []
  }
 ],
 "metadata": {
  "kernelspec": {
   "display_name": "Python 3 (ipykernel)",
   "language": "python",
   "name": "python3"
  },
  "language_info": {
   "codemirror_mode": {
    "name": "ipython",
    "version": 3
   },
   "file_extension": ".py",
   "mimetype": "text/x-python",
   "name": "python",
   "nbconvert_exporter": "python",
   "pygments_lexer": "ipython3",
   "version": "3.10.8"
  }
 },
 "nbformat": 4,
 "nbformat_minor": 5
}
