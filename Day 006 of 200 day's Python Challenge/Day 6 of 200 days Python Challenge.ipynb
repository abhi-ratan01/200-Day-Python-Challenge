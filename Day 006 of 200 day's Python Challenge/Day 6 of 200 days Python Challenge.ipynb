{
 "cells": [
  {
   "cell_type": "code",
   "execution_count": 4,
   "id": "0f9cc093-b416-457c-84d2-66efe8e5a059",
   "metadata": {},
   "outputs": [
    {
     "name": "stdout",
     "output_type": "stream",
     "text": [
      "Hey There! Tech1.abhi here; \n"
     ]
    }
   ],
   "source": [
    "print('Hey There! Tech1.abhi here; ')"
   ]
  },
  {
   "cell_type": "code",
   "execution_count": 7,
   "id": "98d62b1d-1332-4d7e-a97d-a6ce5ed5bc35",
   "metadata": {},
   "outputs": [],
   "source": [
    "w = 'Hey There! Tech1.abhi here; '"
   ]
  },
  {
   "cell_type": "code",
   "execution_count": 8,
   "id": "ba4871fe-9f0a-48d9-8951-c3f3b62335fd",
   "metadata": {},
   "outputs": [
    {
     "data": {
      "text/plain": [
       "28"
      ]
     },
     "execution_count": 8,
     "metadata": {},
     "output_type": "execute_result"
    }
   ],
   "source": [
    "len(w)"
   ]
  },
  {
   "cell_type": "code",
   "execution_count": 9,
   "id": "0a667ea5-f8e4-49b9-948a-60d5b124f6ae",
   "metadata": {},
   "outputs": [
    {
     "data": {
      "text/plain": [
       "str"
      ]
     },
     "execution_count": 9,
     "metadata": {},
     "output_type": "execute_result"
    }
   ],
   "source": [
    "type(w)"
   ]
  },
  {
   "cell_type": "code",
   "execution_count": 10,
   "id": "4115eaf7-e6ca-402d-b598-a2eae19bd57e",
   "metadata": {},
   "outputs": [
    {
     "name": "stdout",
     "output_type": "stream",
     "text": [
      "Hey There! Tech1.abhi here; \n"
     ]
    }
   ],
   "source": [
    "w1 = print('Hey There! Tech1.abhi here; ')"
   ]
  },
  {
   "cell_type": "code",
   "execution_count": 11,
   "id": "011af0d8-4c53-4231-8ee5-b622c73eb57d",
   "metadata": {},
   "outputs": [
    {
     "data": {
      "text/plain": [
       "NoneType"
      ]
     },
     "execution_count": 11,
     "metadata": {},
     "output_type": "execute_result"
    }
   ],
   "source": [
    "type(w1)"
   ]
  },
  {
   "cell_type": "markdown",
   "id": "3fcfdaf8-726f-422c-ad47-af8b5bc0109c",
   "metadata": {},
   "source": [
    "# Function "
   ]
  },
  {
   "cell_type": "markdown",
   "id": "247c2fa4-6880-469d-85ac-2337d59f9333",
   "metadata": {},
   "source": [
    "### A function is a block of code which only runs when it is called.\n",
    "### In Python a function is defined using the def keyword.\n",
    "### And call function by using function name followed by parenthesis."
   ]
  },
  {
   "cell_type": "code",
   "execution_count": 12,
   "id": "38b7d34f-aa92-49c3-b7a0-8b6b390e2323",
   "metadata": {},
   "outputs": [
    {
     "ename": "SyntaxError",
     "evalue": "incomplete input (279181302.py, line 1)",
     "output_type": "error",
     "traceback": [
      "\u001b[0;36m  Cell \u001b[0;32mIn[12], line 1\u001b[0;36m\u001b[0m\n\u001b[0;31m    def test():      # We can't define empty function\u001b[0m\n\u001b[0m                                                      ^\u001b[0m\n\u001b[0;31mSyntaxError\u001b[0m\u001b[0;31m:\u001b[0m incomplete input\n"
     ]
    }
   ],
   "source": [
    "def test():      # We can't define empty function "
   ]
  },
  {
   "cell_type": "code",
   "execution_count": 13,
   "id": "42d488af-98b3-4670-a56b-4504a2ee3921",
   "metadata": {},
   "outputs": [],
   "source": [
    "# For defining a empty function we can use a pass keyword \n",
    "def test():\n",
    "    pass"
   ]
  },
  {
   "cell_type": "code",
   "execution_count": 14,
   "id": "da302300-bb42-466b-a67f-1f489dda02de",
   "metadata": {},
   "outputs": [],
   "source": [
    "def test1():\n",
    "    print('This is my first function !')"
   ]
  },
  {
   "cell_type": "code",
   "execution_count": 15,
   "id": "a93dfbd0-6294-420e-a692-3aa37140defe",
   "metadata": {},
   "outputs": [
    {
     "name": "stdout",
     "output_type": "stream",
     "text": [
      "This is my first function !\n"
     ]
    }
   ],
   "source": [
    "test1()"
   ]
  },
  {
   "cell_type": "code",
   "execution_count": 16,
   "id": "6f063f92-ebe9-4b5b-8691-767341ce39a7",
   "metadata": {},
   "outputs": [
    {
     "name": "stdout",
     "output_type": "stream",
     "text": [
      "This is my first function !\n"
     ]
    },
    {
     "ename": "TypeError",
     "evalue": "unsupported operand type(s) for +: 'NoneType' and 'str'",
     "output_type": "error",
     "traceback": [
      "\u001b[0;31m---------------------------------------------------------------------------\u001b[0m",
      "\u001b[0;31mTypeError\u001b[0m                                 Traceback (most recent call last)",
      "Cell \u001b[0;32mIn[16], line 1\u001b[0m\n\u001b[0;32m----> 1\u001b[0m \u001b[43mtest1\u001b[49m\u001b[43m(\u001b[49m\u001b[43m)\u001b[49m\u001b[43m \u001b[49m\u001b[38;5;241;43m+\u001b[39;49m\u001b[43m \u001b[49m\u001b[38;5;124;43m\"\u001b[39;49m\u001b[38;5;124;43mby Tech1.abhi\u001b[39;49m\u001b[38;5;124;43m\"\u001b[39;49m\n",
      "\u001b[0;31mTypeError\u001b[0m: unsupported operand type(s) for +: 'NoneType' and 'str'"
     ]
    }
   ],
   "source": [
    "test1() + \"by Tech1.abhi\""
   ]
  },
  {
   "cell_type": "code",
   "execution_count": 17,
   "id": "2e0cfb3d-661a-4575-bfa5-7027df085117",
   "metadata": {},
   "outputs": [
    {
     "name": "stdout",
     "output_type": "stream",
     "text": [
      "This is my first function !\n"
     ]
    },
    {
     "data": {
      "text/plain": [
       "NoneType"
      ]
     },
     "execution_count": 17,
     "metadata": {},
     "output_type": "execute_result"
    }
   ],
   "source": [
    "type(test1())"
   ]
  },
  {
   "cell_type": "code",
   "execution_count": 18,
   "id": "2d18fd30-cb34-48b8-a08f-afad1bd9c0b7",
   "metadata": {},
   "outputs": [],
   "source": [
    "# so we can use a return function in behalf of print function\n",
    "def test2():\n",
    "    return \"This is my first function \""
   ]
  },
  {
   "cell_type": "code",
   "execution_count": 19,
   "id": "72098965-4727-4c3d-88df-e3b5f50d8079",
   "metadata": {},
   "outputs": [
    {
     "data": {
      "text/plain": [
       "'This is my first function by Sudhanshu sir'"
      ]
     },
     "execution_count": 19,
     "metadata": {},
     "output_type": "execute_result"
    }
   ],
   "source": [
    "test2() + 'by Sudhanshu sir'"
   ]
  },
  {
   "cell_type": "code",
   "execution_count": 20,
   "id": "66b95e37-fedd-44f4-9969-2217e15ec505",
   "metadata": {},
   "outputs": [],
   "source": [
    "def test3():\n",
    "    return 'Abhi', 23,5.34,[23,54,5,43,3]"
   ]
  },
  {
   "cell_type": "code",
   "execution_count": 21,
   "id": "a7e4370e-2f37-488c-84ac-2fdc878498b6",
   "metadata": {},
   "outputs": [
    {
     "data": {
      "text/plain": [
       "('Abhi', 23, 5.34, [23, 54, 5, 43, 3])"
      ]
     },
     "execution_count": 21,
     "metadata": {},
     "output_type": "execute_result"
    }
   ],
   "source": [
    "test3()"
   ]
  },
  {
   "cell_type": "code",
   "execution_count": 22,
   "id": "08ace63f-d9b2-41f0-9484-aa7adbc4dd84",
   "metadata": {},
   "outputs": [],
   "source": [
    "a,b,c,d = test3()"
   ]
  },
  {
   "cell_type": "code",
   "execution_count": 23,
   "id": "b5cf5b88-f4e1-415a-bcda-8f383f9bf0e0",
   "metadata": {},
   "outputs": [
    {
     "data": {
      "text/plain": [
       "'Abhi'"
      ]
     },
     "execution_count": 23,
     "metadata": {},
     "output_type": "execute_result"
    }
   ],
   "source": [
    "a"
   ]
  },
  {
   "cell_type": "code",
   "execution_count": 24,
   "id": "337db7e4-e31a-40e5-aa66-5b0c4610e914",
   "metadata": {},
   "outputs": [
    {
     "data": {
      "text/plain": [
       "23"
      ]
     },
     "execution_count": 24,
     "metadata": {},
     "output_type": "execute_result"
    }
   ],
   "source": [
    "b"
   ]
  },
  {
   "cell_type": "code",
   "execution_count": 25,
   "id": "ade2598b-afb1-49f4-885a-6e8b508f617e",
   "metadata": {},
   "outputs": [
    {
     "data": {
      "text/plain": [
       "5.34"
      ]
     },
     "execution_count": 25,
     "metadata": {},
     "output_type": "execute_result"
    }
   ],
   "source": [
    "c"
   ]
  },
  {
   "cell_type": "code",
   "execution_count": 26,
   "id": "0628f964-f2e4-4c60-a30e-41c12ad67eb3",
   "metadata": {},
   "outputs": [
    {
     "data": {
      "text/plain": [
       "[23, 54, 5, 43, 3]"
      ]
     },
     "execution_count": 26,
     "metadata": {},
     "output_type": "execute_result"
    }
   ],
   "source": [
    "d"
   ]
  },
  {
   "cell_type": "code",
   "execution_count": 27,
   "id": "3901b129-898a-4a59-bad3-88f212403263",
   "metadata": {},
   "outputs": [],
   "source": [
    "def test4():\n",
    "    a = 5+6/7\n",
    "    return a"
   ]
  },
  {
   "cell_type": "code",
   "execution_count": 28,
   "id": "c2d067b2-d140-4e8a-8249-ba706f6e201a",
   "metadata": {},
   "outputs": [
    {
     "data": {
      "text/plain": [
       "5.857142857142857"
      ]
     },
     "execution_count": 28,
     "metadata": {},
     "output_type": "execute_result"
    }
   ],
   "source": [
    "test4()"
   ]
  },
  {
   "cell_type": "code",
   "execution_count": 32,
   "id": "08fa0eb2-291b-402c-97cf-009ed61c4ce7",
   "metadata": {},
   "outputs": [],
   "source": [
    "def test5(a,b,c):\n",
    "    d = a+b/c\n",
    "    return d"
   ]
  },
  {
   "cell_type": "code",
   "execution_count": 33,
   "id": "1dd72db9-aefe-4d11-ac11-24aebec9a3c4",
   "metadata": {},
   "outputs": [
    {
     "ename": "TypeError",
     "evalue": "test5() missing 3 required positional arguments: 'a', 'b', and 'c'",
     "output_type": "error",
     "traceback": [
      "\u001b[0;31m---------------------------------------------------------------------------\u001b[0m",
      "\u001b[0;31mTypeError\u001b[0m                                 Traceback (most recent call last)",
      "Cell \u001b[0;32mIn[33], line 1\u001b[0m\n\u001b[0;32m----> 1\u001b[0m \u001b[43mtest5\u001b[49m\u001b[43m(\u001b[49m\u001b[43m)\u001b[49m\n",
      "\u001b[0;31mTypeError\u001b[0m: test5() missing 3 required positional arguments: 'a', 'b', and 'c'"
     ]
    }
   ],
   "source": [
    "test5()"
   ]
  },
  {
   "cell_type": "code",
   "execution_count": 34,
   "id": "5b208993-0551-4fe2-9ccf-34600cc7da7b",
   "metadata": {},
   "outputs": [
    {
     "data": {
      "text/plain": [
       "5.857142857142857"
      ]
     },
     "execution_count": 34,
     "metadata": {},
     "output_type": "execute_result"
    }
   ],
   "source": [
    "test5(5,6,7)"
   ]
  },
  {
   "cell_type": "code",
   "execution_count": 35,
   "id": "9ef174bb-873f-4b2c-a2f1-eb7d5a218541",
   "metadata": {},
   "outputs": [],
   "source": [
    "def test6(a,b):\n",
    "    return a+b"
   ]
  },
  {
   "cell_type": "code",
   "execution_count": 36,
   "id": "e5ec341d-6aed-4bc1-bacb-de51e5f5d045",
   "metadata": {},
   "outputs": [
    {
     "data": {
      "text/plain": [
       "9"
      ]
     },
     "execution_count": 36,
     "metadata": {},
     "output_type": "execute_result"
    }
   ],
   "source": [
    "test6(4,5)"
   ]
  },
  {
   "cell_type": "code",
   "execution_count": 38,
   "id": "5ff94fd2-49be-4708-bad3-6f0dd6ae636a",
   "metadata": {},
   "outputs": [
    {
     "data": {
      "text/plain": [
       "'Tech1.abhi'"
      ]
     },
     "execution_count": 38,
     "metadata": {},
     "output_type": "execute_result"
    }
   ],
   "source": [
    "test6('Tech1','.abhi')"
   ]
  },
  {
   "cell_type": "code",
   "execution_count": 39,
   "id": "18339873-36d1-499a-8d02-ec364340a775",
   "metadata": {},
   "outputs": [
    {
     "data": {
      "text/plain": [
       "[2, 53, 4, 6, 54, 2]"
      ]
     },
     "execution_count": 39,
     "metadata": {},
     "output_type": "execute_result"
    }
   ],
   "source": [
    "test6([2,53,4],[6,54,2])"
   ]
  },
  {
   "cell_type": "code",
   "execution_count": 40,
   "id": "09ce4845-6f35-4af1-8dd6-99a1bb74dca8",
   "metadata": {},
   "outputs": [],
   "source": [
    "l = [34,543,234,'tech','abhi',[5,3,7,6,4,3]]"
   ]
  },
  {
   "cell_type": "code",
   "execution_count": 42,
   "id": "40f6e576-8e05-4239-a69c-f5ddf7b9efd2",
   "metadata": {},
   "outputs": [],
   "source": [
    "l1 = []\n",
    "for i in l:\n",
    "    if type(i) == int or type(i) == float:\n",
    "        l1.append(i)"
   ]
  },
  {
   "cell_type": "code",
   "execution_count": 43,
   "id": "b39be384-1d0e-484d-bbdb-dc86c2f746bc",
   "metadata": {},
   "outputs": [
    {
     "data": {
      "text/plain": [
       "[34, 543, 234]"
      ]
     },
     "execution_count": 43,
     "metadata": {},
     "output_type": "execute_result"
    }
   ],
   "source": [
    "l1"
   ]
  },
  {
   "cell_type": "code",
   "execution_count": 56,
   "id": "00662fb3-0a79-42fe-b3a1-57d235788a05",
   "metadata": {},
   "outputs": [],
   "source": [
    "def number(l):\n",
    "    l1 = []\n",
    "    for i in l:\n",
    "        if type(i) == int or type(i) == float:\n",
    "            l1.append(i)\n",
    "    return l1"
   ]
  },
  {
   "cell_type": "code",
   "execution_count": 57,
   "id": "b59fe906-a1a6-4fe6-a62b-51a428f2f7f5",
   "metadata": {},
   "outputs": [
    {
     "data": {
      "text/plain": [
       "[34, 543, 234]"
      ]
     },
     "execution_count": 57,
     "metadata": {},
     "output_type": "execute_result"
    }
   ],
   "source": [
    "number(l)"
   ]
  },
  {
   "cell_type": "code",
   "execution_count": 58,
   "id": "d013d3d6-db4d-48fa-91ca-a137df748dfe",
   "metadata": {},
   "outputs": [],
   "source": [
    "def number(l):\n",
    "    l2 = []\n",
    "    for i in l:\n",
    "        if type(i) == int or type(i) == float:\n",
    "            l2.append(i)\n",
    "        elif type(i) == list:\n",
    "            for j in i:\n",
    "                if type(j) == int or type(j) == float:\n",
    "                    l2.append(j)\n",
    "    return l2"
   ]
  },
  {
   "cell_type": "code",
   "execution_count": 59,
   "id": "e2b37548-4b14-4802-9698-bbc6c4b941a2",
   "metadata": {},
   "outputs": [
    {
     "data": {
      "text/plain": [
       "[34, 543, 234, 5, 3, 7, 6, 4, 3]"
      ]
     },
     "execution_count": 59,
     "metadata": {},
     "output_type": "execute_result"
    }
   ],
   "source": [
    "number(l)"
   ]
  },
  {
   "cell_type": "markdown",
   "id": "fbb65fb1-3b29-4543-b618-7b08c3502f2c",
   "metadata": {},
   "source": [
    "len()  # when we are written a pre-define funtion then we can see a documentation part of function by using shift and tab button but in user define function we can't see that part for showing that part we can do. This:"
   ]
  },
  {
   "cell_type": "code",
   "execution_count": 61,
   "id": "c2e2d71d-8b2c-4ec6-8b69-164bc61153e6",
   "metadata": {},
   "outputs": [],
   "source": [
    "def addition(a,b):\n",
    "    '''This function use for addition of two data types'''\n",
    "    return a+b"
   ]
  },
  {
   "cell_type": "code",
   "execution_count": 63,
   "id": "b528b276-faa7-46db-887c-2b81a755cb2d",
   "metadata": {},
   "outputs": [
    {
     "data": {
      "text/plain": [
       "46"
      ]
     },
     "execution_count": 63,
     "metadata": {},
     "output_type": "execute_result"
    }
   ],
   "source": [
    "addition(3,43)"
   ]
  },
  {
   "cell_type": "code",
   "execution_count": 69,
   "id": "d19dfa49-1511-42b9-bf17-62e6899a613c",
   "metadata": {},
   "outputs": [
    {
     "data": {
      "text/plain": [
       "3"
      ]
     },
     "execution_count": 69,
     "metadata": {},
     "output_type": "execute_result"
    }
   ],
   "source": [
    "addition(1,2)"
   ]
  },
  {
   "cell_type": "code",
   "execution_count": 1,
   "id": "27ee1d8b-cd33-456a-853f-e09fb6c88044",
   "metadata": {},
   "outputs": [],
   "source": [
    "def test12(*args):      # args can be any this like replace *args to *abhi and args to abhi\n",
    "    return args"
   ]
  },
  {
   "cell_type": "code",
   "execution_count": 2,
   "id": "6747ec09-13f1-4a57-bf7b-2101718f266e",
   "metadata": {},
   "outputs": [
    {
     "data": {
      "text/plain": [
       "(2, 4, 4, 3, 2, 4)"
      ]
     },
     "execution_count": 2,
     "metadata": {},
     "output_type": "execute_result"
    }
   ],
   "source": [
    "test12(2,4,4,3,2,4)"
   ]
  },
  {
   "cell_type": "code",
   "execution_count": 3,
   "id": "974325c9-7dc8-4ac1-b6b0-595fe16ba5bc",
   "metadata": {},
   "outputs": [],
   "source": [
    "def test13(*abhi):\n",
    "    return abhi"
   ]
  },
  {
   "cell_type": "code",
   "execution_count": 4,
   "id": "d22b25b0-5bdb-4f20-bf9c-2b0a00765859",
   "metadata": {},
   "outputs": [
    {
     "data": {
      "text/plain": [
       "(3, 634.4, 'tech', 3, 5, 34, 4, 3, [2, 65, 3, 5, 433])"
      ]
     },
     "execution_count": 4,
     "metadata": {},
     "output_type": "execute_result"
    }
   ],
   "source": [
    "test13(3,634.4,'tech',3,5,34,4,3,[2,65,3,5,433])"
   ]
  },
  {
   "cell_type": "code",
   "execution_count": 1,
   "id": "158e3edb-f573-4328-bd40-27a5e6596aa5",
   "metadata": {},
   "outputs": [],
   "source": [
    "### For Dictionary"
   ]
  },
  {
   "cell_type": "code",
   "execution_count": null,
   "id": "5afd67c3-da36-4846-b994-2846bb50bdff",
   "metadata": {},
   "outputs": [],
   "source": [
    "def dictargs(**kwargs):     # again **kwargs can be any thing\n",
    "    return kwargs"
   ]
  },
  {
   "cell_type": "code",
   "execution_count": null,
   "id": "ffd25b03-68b5-4a5d-9968-8614d431e32d",
   "metadata": {},
   "outputs": [],
   "source": [
    "dictargs(a = 34,b = 2434, c = 234, d = \"tech\", f = 'abhi')"
   ]
  },
  {
   "cell_type": "code",
   "execution_count": null,
   "id": "35a731d0-55ed-48c7-8b98-820feaa9303d",
   "metadata": {},
   "outputs": [],
   "source": [
    "dictargs(a='abhi',b = 'shubhi')"
   ]
  },
  {
   "cell_type": "code",
   "execution_count": null,
   "id": "bf6e44fd-9f98-4774-b148-b6f9aa7d6365",
   "metadata": {},
   "outputs": [],
   "source": []
  },
  {
   "cell_type": "markdown",
   "id": "d9af439f-fd0f-4c9c-a7dd-516b03f28378",
   "metadata": {},
   "source": [
    "## Default Parameter"
   ]
  },
  {
   "cell_type": "code",
   "execution_count": null,
   "id": "bd2757af-5317-49ba-b237-f0e451d8d433",
   "metadata": {},
   "outputs": [],
   "source": [
    "def test15(a,b,c =23,d=3):\n",
    "    return a,b,c,d"
   ]
  },
  {
   "cell_type": "code",
   "execution_count": 2,
   "id": "fd79922d-aede-4c9f-9138-a560e81a520b",
   "metadata": {},
   "outputs": [
    {
     "data": {
      "text/plain": [
       "(4, 5, 23, 3)"
      ]
     },
     "execution_count": 2,
     "metadata": {},
     "output_type": "execute_result"
    }
   ],
   "source": [
    "test15(4,5)"
   ]
  },
  {
   "cell_type": "code",
   "execution_count": 3,
   "id": "3d8eb05e-677c-477d-9145-773226f507f5",
   "metadata": {},
   "outputs": [
    {
     "data": {
      "text/plain": [
       "(4, 6, 2, 3)"
      ]
     },
     "execution_count": 3,
     "metadata": {},
     "output_type": "execute_result"
    }
   ],
   "source": [
    "test15(4,6,2,3)"
   ]
  },
  {
   "cell_type": "code",
   "execution_count": 4,
   "id": "215e6e9e-038a-45b9-aa84-0c3597bba79b",
   "metadata": {},
   "outputs": [],
   "source": []
  },
  {
   "cell_type": "code",
   "execution_count": null,
   "id": "18569c68-9ee2-4d66-bd26-2654cc83a58f",
   "metadata": {},
   "outputs": [],
   "source": []
  },
  {
   "cell_type": "markdown",
   "id": "8ccf03b5-0b16-49fc-bcee-70e0b78576a6",
   "metadata": {},
   "source": [
    "## Generator Function"
   ]
  },
  {
   "cell_type": "code",
   "execution_count": 1,
   "id": "50635208-b174-41c6-a730-54455498174e",
   "metadata": {},
   "outputs": [
    {
     "data": {
      "text/plain": [
       "range(0, 10)"
      ]
     },
     "execution_count": 1,
     "metadata": {},
     "output_type": "execute_result"
    }
   ],
   "source": [
    "range(10)"
   ]
  },
  {
   "cell_type": "code",
   "execution_count": 2,
   "id": "d29c5b07-837d-43ac-9865-33e091031ccc",
   "metadata": {},
   "outputs": [
    {
     "name": "stdout",
     "output_type": "stream",
     "text": [
      "0\n",
      "1\n",
      "2\n",
      "3\n",
      "4\n",
      "5\n",
      "6\n",
      "7\n",
      "8\n",
      "9\n"
     ]
    }
   ],
   "source": [
    "for i in range(10):\n",
    "    print(i)"
   ]
  },
  {
   "cell_type": "markdown",
   "id": "d9e054fa-da12-4db8-92af-6c4f93c98e40",
   "metadata": {},
   "source": [
    "### We use a yield keyword for making a generator function. In replace of return keyword but return is only work for a single time and yield keyword is used to work as multi-time."
   ]
  },
  {
   "cell_type": "code",
   "execution_count": 31,
   "id": "2eaaa266-2cd6-48a4-805a-a2750c79d904",
   "metadata": {},
   "outputs": [],
   "source": [
    "def test_fab(n):\n",
    "    a,b = 0,1\n",
    "    for i in range(n):\n",
    "        yield a    # yield keyword for generator function \n",
    "        a,b=b, a+b"
   ]
  },
  {
   "cell_type": "code",
   "execution_count": 4,
   "id": "f4f0c876-c800-445c-8dec-a4de68f7fb74",
   "metadata": {},
   "outputs": [
    {
     "data": {
      "text/plain": [
       "<generator object test_fab at 0x7f39b2025070>"
      ]
     },
     "execution_count": 4,
     "metadata": {},
     "output_type": "execute_result"
    }
   ],
   "source": [
    "test_fab(10)"
   ]
  },
  {
   "cell_type": "code",
   "execution_count": 5,
   "id": "0e04b0f6-2018-41ad-b0b6-ef49da99fce8",
   "metadata": {},
   "outputs": [
    {
     "name": "stdout",
     "output_type": "stream",
     "text": [
      "0\n",
      "1\n",
      "1\n",
      "2\n",
      "3\n",
      "5\n",
      "8\n",
      "13\n",
      "21\n",
      "34\n"
     ]
    }
   ],
   "source": [
    "for i in test_fab(10):\n",
    "    print(i)"
   ]
  },
  {
   "cell_type": "code",
   "execution_count": 6,
   "id": "47771292-c0e8-49ee-af28-02553fe264df",
   "metadata": {},
   "outputs": [],
   "source": [
    "def test_fev():\n",
    "    a,b=0,1\n",
    "    while True:\n",
    "        yield a\n",
    "        a,b = b, a+b"
   ]
  },
  {
   "cell_type": "code",
   "execution_count": 7,
   "id": "7b515234-a0ba-43e8-a923-c78b49aea4f0",
   "metadata": {},
   "outputs": [],
   "source": [
    "feb = test_fev()"
   ]
  },
  {
   "cell_type": "code",
   "execution_count": 8,
   "id": "7ce12f7e-eda5-4898-a7dc-ed7f9fe78cc2",
   "metadata": {},
   "outputs": [
    {
     "name": "stdout",
     "output_type": "stream",
     "text": [
      "0\n",
      "1\n",
      "1\n",
      "2\n",
      "3\n",
      "5\n",
      "8\n",
      "13\n",
      "21\n",
      "34\n"
     ]
    }
   ],
   "source": [
    "for i in range(10):\n",
    "    print(next(feb))\n",
    "    "
   ]
  },
  {
   "cell_type": "code",
   "execution_count": 9,
   "id": "ca6f7a11-a1e6-490f-a0f3-666259cceb09",
   "metadata": {},
   "outputs": [],
   "source": [
    "l = [34,65,34,56,34,65,3]"
   ]
  },
  {
   "cell_type": "code",
   "execution_count": 11,
   "id": "59f11f2d-22fa-47d5-b07a-847950c0eb08",
   "metadata": {},
   "outputs": [],
   "source": [
    "l2 = iter(l)"
   ]
  },
  {
   "cell_type": "code",
   "execution_count": 22,
   "id": "591f1dad-6af2-485e-a0cb-3c2e72e9aee8",
   "metadata": {},
   "outputs": [
    {
     "data": {
      "text/plain": [
       "list"
      ]
     },
     "execution_count": 22,
     "metadata": {},
     "output_type": "execute_result"
    }
   ],
   "source": [
    "type(l)   # It is a iterable but not iterator"
   ]
  },
  {
   "cell_type": "code",
   "execution_count": 21,
   "id": "bc3d4a97-88f4-42e9-9bb8-e6e810325987",
   "metadata": {},
   "outputs": [
    {
     "data": {
      "text/plain": [
       "list_iterator"
      ]
     },
     "execution_count": 21,
     "metadata": {},
     "output_type": "execute_result"
    }
   ],
   "source": [
    "type(l2)"
   ]
  },
  {
   "cell_type": "code",
   "execution_count": 12,
   "id": "72c163a4-bb8c-43c0-972f-10178ea26740",
   "metadata": {},
   "outputs": [
    {
     "data": {
      "text/plain": [
       "34"
      ]
     },
     "execution_count": 12,
     "metadata": {},
     "output_type": "execute_result"
    }
   ],
   "source": [
    "next(l2)"
   ]
  },
  {
   "cell_type": "code",
   "execution_count": 13,
   "id": "7a6c5403-5a45-4918-9172-aba15cd2bdd1",
   "metadata": {},
   "outputs": [
    {
     "data": {
      "text/plain": [
       "65"
      ]
     },
     "execution_count": 13,
     "metadata": {},
     "output_type": "execute_result"
    }
   ],
   "source": [
    "next(l2)"
   ]
  },
  {
   "cell_type": "code",
   "execution_count": 14,
   "id": "da2e63e0-94e1-42af-99d2-d387d2a4da81",
   "metadata": {},
   "outputs": [
    {
     "data": {
      "text/plain": [
       "34"
      ]
     },
     "execution_count": 14,
     "metadata": {},
     "output_type": "execute_result"
    }
   ],
   "source": [
    "next(l2)"
   ]
  },
  {
   "cell_type": "code",
   "execution_count": 15,
   "id": "0b06e8ad-29d9-4e3c-835a-227ecfc8b24d",
   "metadata": {},
   "outputs": [
    {
     "data": {
      "text/plain": [
       "56"
      ]
     },
     "execution_count": 15,
     "metadata": {},
     "output_type": "execute_result"
    }
   ],
   "source": [
    "next(l2)"
   ]
  },
  {
   "cell_type": "code",
   "execution_count": 16,
   "id": "baaf97e2-47cf-47ac-a804-f1e25a9cae60",
   "metadata": {},
   "outputs": [
    {
     "data": {
      "text/plain": [
       "34"
      ]
     },
     "execution_count": 16,
     "metadata": {},
     "output_type": "execute_result"
    }
   ],
   "source": [
    "next(l2)"
   ]
  },
  {
   "cell_type": "code",
   "execution_count": 17,
   "id": "b7646468-b146-45ff-9131-72b1e4609766",
   "metadata": {},
   "outputs": [
    {
     "data": {
      "text/plain": [
       "65"
      ]
     },
     "execution_count": 17,
     "metadata": {},
     "output_type": "execute_result"
    }
   ],
   "source": [
    "next(l2)"
   ]
  },
  {
   "cell_type": "code",
   "execution_count": 18,
   "id": "302ad61b-9047-4db1-972a-3245a9aa3253",
   "metadata": {},
   "outputs": [
    {
     "data": {
      "text/plain": [
       "3"
      ]
     },
     "execution_count": 18,
     "metadata": {},
     "output_type": "execute_result"
    }
   ],
   "source": [
    "next(l2)"
   ]
  },
  {
   "cell_type": "code",
   "execution_count": 19,
   "id": "534d8987-21eb-42a3-9306-2b33734e24c3",
   "metadata": {},
   "outputs": [
    {
     "ename": "StopIteration",
     "evalue": "",
     "output_type": "error",
     "traceback": [
      "\u001b[0;31m---------------------------------------------------------------------------\u001b[0m",
      "\u001b[0;31mStopIteration\u001b[0m                             Traceback (most recent call last)",
      "Cell \u001b[0;32mIn[19], line 1\u001b[0m\n\u001b[0;32m----> 1\u001b[0m \u001b[38;5;28;43mnext\u001b[39;49m\u001b[43m(\u001b[49m\u001b[43ml2\u001b[49m\u001b[43m)\u001b[49m\n",
      "\u001b[0;31mStopIteration\u001b[0m: "
     ]
    }
   ],
   "source": [
    "next(l2)"
   ]
  },
  {
   "cell_type": "code",
   "execution_count": 28,
   "id": "178010f2-daf2-4c8e-ab68-55dffeb82ce3",
   "metadata": {},
   "outputs": [],
   "source": [
    "def count_test(n):\n",
    "    count = 1\n",
    "    while count < n:\n",
    "        yield count\n",
    "        count = count + 1"
   ]
  },
  {
   "cell_type": "code",
   "execution_count": 29,
   "id": "af15e491-d1ce-4c37-87ba-74bc9da96962",
   "metadata": {},
   "outputs": [],
   "source": [
    "c = count_test(5)"
   ]
  },
  {
   "cell_type": "code",
   "execution_count": 30,
   "id": "bbebb015-a41d-4265-aa14-ad7bc86677c6",
   "metadata": {},
   "outputs": [
    {
     "name": "stdout",
     "output_type": "stream",
     "text": [
      "1\n",
      "2\n",
      "3\n",
      "4\n"
     ]
    }
   ],
   "source": [
    "for i in c:\n",
    "    print(i)"
   ]
  },
  {
   "cell_type": "markdown",
   "id": "189cca56-74dd-474a-9810-a5246a72329d",
   "metadata": {},
   "source": [
    "## Lambda Function"
   ]
  },
  {
   "cell_type": "code",
   "execution_count": 32,
   "id": "f1aa40a6-7209-42b8-b344-9b0347e9fa5e",
   "metadata": {},
   "outputs": [],
   "source": [
    "n = 3\n",
    "p = 2"
   ]
  },
  {
   "cell_type": "code",
   "execution_count": 33,
   "id": "7add3393-33eb-4d5a-84c6-936eac4aa29e",
   "metadata": {},
   "outputs": [],
   "source": [
    "def fun(n,p):\n",
    "    return n**p"
   ]
  },
  {
   "cell_type": "code",
   "execution_count": 38,
   "id": "987ceed5-ea22-4398-b0f8-a7e235626a1b",
   "metadata": {},
   "outputs": [
    {
     "data": {
      "text/plain": [
       "81"
      ]
     },
     "execution_count": 38,
     "metadata": {},
     "output_type": "execute_result"
    }
   ],
   "source": [
    "fun(3,4)"
   ]
  },
  {
   "cell_type": "code",
   "execution_count": 39,
   "id": "c2e98970-dfa2-4555-9c10-6ff290acf1a7",
   "metadata": {},
   "outputs": [],
   "source": [
    "a = lambda n,p:n**p # one liner function or lambda function or anounymous function "
   ]
  },
  {
   "cell_type": "code",
   "execution_count": 40,
   "id": "1e4c6271-9a0e-44eb-bd87-9d780b1fa2dc",
   "metadata": {},
   "outputs": [
    {
     "data": {
      "text/plain": [
       "81"
      ]
     },
     "execution_count": 40,
     "metadata": {},
     "output_type": "execute_result"
    }
   ],
   "source": [
    "a(3,4)"
   ]
  },
  {
   "cell_type": "code",
   "execution_count": 42,
   "id": "a569b674-f97d-46b3-82bf-58c892056c8b",
   "metadata": {},
   "outputs": [
    {
     "name": "stdin",
     "output_type": "stream",
     "text": [
      " 4\n",
      " 6\n"
     ]
    }
   ],
   "source": []
  },
  {
   "cell_type": "code",
   "execution_count": 4,
   "id": "53148914-6287-4933-9edb-f37defde3e70",
   "metadata": {},
   "outputs": [],
   "source": [
    "add = lambda a,b: a+b"
   ]
  },
  {
   "cell_type": "code",
   "execution_count": 5,
   "id": "08805d3a-3558-484c-adc5-96a6c664f5c9",
   "metadata": {},
   "outputs": [
    {
     "data": {
      "text/plain": [
       "7"
      ]
     },
     "execution_count": 5,
     "metadata": {},
     "output_type": "execute_result"
    }
   ],
   "source": [
    "add(3,4)"
   ]
  },
  {
   "cell_type": "code",
   "execution_count": 9,
   "id": "abd62720-cdd4-4b64-a801-8b82d3948737",
   "metadata": {},
   "outputs": [],
   "source": [
    "c_to_f = lambda c: (c*9/5)+32"
   ]
  },
  {
   "cell_type": "code",
   "execution_count": 10,
   "id": "41ab9b9f-c1ca-4429-91b3-fbed9b4f85ca",
   "metadata": {},
   "outputs": [
    {
     "data": {
      "text/plain": [
       "113.0"
      ]
     },
     "execution_count": 10,
     "metadata": {},
     "output_type": "execute_result"
    }
   ],
   "source": [
    "c_to_f(45)"
   ]
  },
  {
   "cell_type": "code",
   "execution_count": 14,
   "id": "5d4cb3e8-db26-4f8c-b6de-dcea2a4a9d47",
   "metadata": {},
   "outputs": [],
   "source": [
    "greater_nu = lambda a,b:max(a,b)"
   ]
  },
  {
   "cell_type": "code",
   "execution_count": 15,
   "id": "79415e53-ae9e-4e0f-9928-21524a16d18d",
   "metadata": {},
   "outputs": [
    {
     "data": {
      "text/plain": [
       "8430"
      ]
     },
     "execution_count": 15,
     "metadata": {},
     "output_type": "execute_result"
    }
   ],
   "source": [
    "greater_nu(543,8430)"
   ]
  },
  {
   "cell_type": "code",
   "execution_count": 1,
   "id": "fc3f2f17-a284-4c0b-abeb-ba75f7cdb2ef",
   "metadata": {},
   "outputs": [],
   "source": [
    "gt_no = lambda x,y : x if x>y else y"
   ]
  },
  {
   "cell_type": "code",
   "execution_count": 2,
   "id": "a0cb92c7-1fef-4720-b736-5604b2de3a3e",
   "metadata": {},
   "outputs": [
    {
     "data": {
      "text/plain": [
       "76"
      ]
     },
     "execution_count": 2,
     "metadata": {},
     "output_type": "execute_result"
    }
   ],
   "source": [
    "gt_no(54,76)"
   ]
  },
  {
   "cell_type": "code",
   "execution_count": 18,
   "id": "8b4f10c0-7786-4d2d-bb11-39bf13d4cb87",
   "metadata": {},
   "outputs": [],
   "source": [
    "s = 'pwskills'"
   ]
  },
  {
   "cell_type": "code",
   "execution_count": 21,
   "id": "0d412f27-d527-4bcb-a880-e80534ab25ab",
   "metadata": {},
   "outputs": [],
   "source": [
    "len_fun = lambda obj:len(obj) "
   ]
  },
  {
   "cell_type": "code",
   "execution_count": 22,
   "id": "50c1f0a3-c64b-46d0-91eb-99196a3d23dd",
   "metadata": {},
   "outputs": [
    {
     "data": {
      "text/plain": [
       "8"
      ]
     },
     "execution_count": 22,
     "metadata": {},
     "output_type": "execute_result"
    }
   ],
   "source": [
    "len_fun(s)"
   ]
  },
  {
   "cell_type": "code",
   "execution_count": null,
   "id": "bf40eb5b-b400-4e40-819b-54f759ff3b27",
   "metadata": {},
   "outputs": [],
   "source": []
  }
 ],
 "metadata": {
  "kernelspec": {
   "display_name": "Python 3 (ipykernel)",
   "language": "python",
   "name": "python3"
  },
  "language_info": {
   "codemirror_mode": {
    "name": "ipython",
    "version": 3
   },
   "file_extension": ".py",
   "mimetype": "text/x-python",
   "name": "python",
   "nbconvert_exporter": "python",
   "pygments_lexer": "ipython3",
   "version": "3.10.8"
  }
 },
 "nbformat": 4,
 "nbformat_minor": 5
}
