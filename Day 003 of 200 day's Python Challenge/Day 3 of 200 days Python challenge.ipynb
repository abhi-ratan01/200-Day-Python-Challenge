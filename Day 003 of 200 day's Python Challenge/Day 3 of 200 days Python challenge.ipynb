{
 "cells": [
  {
   "cell_type": "markdown",
   "id": "683ce22f-46ee-417c-be7a-51fa696655c9",
   "metadata": {},
   "source": [
    "# Day 3 of 200 day's Python Challenge"
   ]
  },
  {
   "cell_type": "markdown",
   "id": "5560b79f-20a2-40a1-a5d5-bd10eb316296",
   "metadata": {},
   "source": [
    "# Sets and Dictionary "
   ]
  },
  {
   "cell_type": "code",
   "execution_count": 1,
   "id": "e063d8b0-66da-4ade-8e82-e2fe41cbcf55",
   "metadata": {},
   "outputs": [],
   "source": [
    "s = {43,564.54,'abhi',(435,6,67)}"
   ]
  },
  {
   "cell_type": "code",
   "execution_count": 2,
   "id": "fc3d0c42-4e98-41bb-ab82-8f59fdde8574",
   "metadata": {},
   "outputs": [
    {
     "data": {
      "text/plain": [
       "{(435, 6, 67), 43, 564.54, 'abhi'}"
      ]
     },
     "execution_count": 2,
     "metadata": {},
     "output_type": "execute_result"
    }
   ],
   "source": [
    "s"
   ]
  },
  {
   "cell_type": "code",
   "execution_count": 3,
   "id": "b689fb11-0e02-49d5-b5b8-15c5579893d5",
   "metadata": {},
   "outputs": [
    {
     "data": {
      "text/plain": [
       "set"
      ]
     },
     "execution_count": 3,
     "metadata": {},
     "output_type": "execute_result"
    }
   ],
   "source": [
    "type(s)"
   ]
  },
  {
   "cell_type": "code",
   "execution_count": 4,
   "id": "18341d15-2bec-4d3f-b024-b09682c2e9ad",
   "metadata": {},
   "outputs": [],
   "source": [
    "s_check = {}"
   ]
  },
  {
   "cell_type": "code",
   "execution_count": 5,
   "id": "918e3891-ecde-42fd-ba8c-0998eed82a9c",
   "metadata": {},
   "outputs": [
    {
     "data": {
      "text/plain": [
       "dict"
      ]
     },
     "execution_count": 5,
     "metadata": {},
     "output_type": "execute_result"
    }
   ],
   "source": [
    "type(s_check)"
   ]
  },
  {
   "cell_type": "code",
   "execution_count": 6,
   "id": "0c88ac2c-a9c7-4032-a1d8-0675d98c764c",
   "metadata": {
    "jupyter": {
     "source_hidden": true
    },
    "tags": []
   },
   "outputs": [],
   "source": [
    "s1 = {3,53,3,54,23,3,6}"
   ]
  },
  {
   "cell_type": "code",
   "execution_count": 7,
   "id": "3f837c3d-4d6f-416e-9450-5dbbf6196e6d",
   "metadata": {},
   "outputs": [
    {
     "data": {
      "text/plain": [
       "{3, 6, 23, 53, 54}"
      ]
     },
     "execution_count": 7,
     "metadata": {},
     "output_type": "execute_result"
    }
   ],
   "source": [
    "s1"
   ]
  },
  {
   "cell_type": "code",
   "execution_count": 8,
   "id": "35d968b6-90b7-4fc6-aedb-c01c619d77a0",
   "metadata": {},
   "outputs": [
    {
     "data": {
      "text/plain": [
       "{(435, 6, 67), 43, 564.54, 'abhi'}"
      ]
     },
     "execution_count": 8,
     "metadata": {},
     "output_type": "execute_result"
    }
   ],
   "source": [
    "s"
   ]
  },
  {
   "cell_type": "code",
   "execution_count": 9,
   "id": "56765a2a-1ea0-436d-a76a-f8dfa89bb271",
   "metadata": {},
   "outputs": [],
   "source": [
    "s.add(True)"
   ]
  },
  {
   "cell_type": "code",
   "execution_count": 10,
   "id": "285fb50e-549f-435d-8283-21fc038f2a58",
   "metadata": {},
   "outputs": [
    {
     "data": {
      "text/plain": [
       "{(435, 6, 67), 43, 564.54, True, 'abhi'}"
      ]
     },
     "execution_count": 10,
     "metadata": {},
     "output_type": "execute_result"
    }
   ],
   "source": [
    "s"
   ]
  },
  {
   "cell_type": "code",
   "execution_count": 11,
   "id": "397aa093-7ab5-486d-a7ef-382dd6914d13",
   "metadata": {},
   "outputs": [],
   "source": [
    "s.add(1)"
   ]
  },
  {
   "cell_type": "code",
   "execution_count": 12,
   "id": "905de5b0-711e-4b6e-9644-569356e5c946",
   "metadata": {},
   "outputs": [
    {
     "data": {
      "text/plain": [
       "{(435, 6, 67), 43, 564.54, True, 'abhi'}"
      ]
     },
     "execution_count": 12,
     "metadata": {},
     "output_type": "execute_result"
    }
   ],
   "source": [
    "s"
   ]
  },
  {
   "cell_type": "code",
   "execution_count": 13,
   "id": "ec66e12e-0c3c-4d3b-a10d-97064eea2994",
   "metadata": {},
   "outputs": [
    {
     "data": {
      "text/plain": [
       "True"
      ]
     },
     "execution_count": 13,
     "metadata": {},
     "output_type": "execute_result"
    }
   ],
   "source": [
    "s.pop()"
   ]
  },
  {
   "cell_type": "code",
   "execution_count": 14,
   "id": "53f384de-b3d1-4695-a768-44c8ab7cad2b",
   "metadata": {},
   "outputs": [],
   "source": [
    "s.add(1)"
   ]
  },
  {
   "cell_type": "code",
   "execution_count": 15,
   "id": "89c13e68-1b32-4051-a34b-4641d6c18bf1",
   "metadata": {},
   "outputs": [
    {
     "data": {
      "text/plain": [
       "{(435, 6, 67), 1, 43, 564.54, 'abhi'}"
      ]
     },
     "execution_count": 15,
     "metadata": {},
     "output_type": "execute_result"
    }
   ],
   "source": [
    "s"
   ]
  },
  {
   "cell_type": "code",
   "execution_count": 16,
   "id": "636d344c-d825-49d5-990f-c43cb4d404f7",
   "metadata": {},
   "outputs": [],
   "source": [
    "s.add(True)"
   ]
  },
  {
   "cell_type": "code",
   "execution_count": 17,
   "id": "18805952-d4b6-4664-a234-5b1658d4e359",
   "metadata": {},
   "outputs": [
    {
     "data": {
      "text/plain": [
       "{(435, 6, 67), 1, 43, 564.54, 'abhi'}"
      ]
     },
     "execution_count": 17,
     "metadata": {},
     "output_type": "execute_result"
    }
   ],
   "source": [
    "s"
   ]
  },
  {
   "cell_type": "code",
   "execution_count": 18,
   "id": "d427ebee-eacf-4177-af87-c57f355cdb56",
   "metadata": {},
   "outputs": [],
   "source": [
    "s2 = {True, 342,'Tech'}"
   ]
  },
  {
   "cell_type": "code",
   "execution_count": 20,
   "id": "746344c2-f1f4-4e61-95e2-be3203d57f26",
   "metadata": {},
   "outputs": [],
   "source": [
    "s.remove(43)"
   ]
  },
  {
   "cell_type": "code",
   "execution_count": 21,
   "id": "8b4960b2-e033-4853-a8a0-6b175e5e7ee7",
   "metadata": {},
   "outputs": [
    {
     "data": {
      "text/plain": [
       "{(435, 6, 67), 1, 564.54, 'abhi'}"
      ]
     },
     "execution_count": 21,
     "metadata": {},
     "output_type": "execute_result"
    }
   ],
   "source": [
    "s"
   ]
  },
  {
   "cell_type": "code",
   "execution_count": 22,
   "id": "0356ea27-2d97-42fa-8a6f-2b48cbc4541d",
   "metadata": {},
   "outputs": [
    {
     "data": {
      "text/plain": [
       "4"
      ]
     },
     "execution_count": 22,
     "metadata": {},
     "output_type": "execute_result"
    }
   ],
   "source": [
    "len(s)"
   ]
  },
  {
   "cell_type": "markdown",
   "id": "f851538b-1809-4a86-a076-9d48abe6601a",
   "metadata": {},
   "source": [
    "# Dictionary"
   ]
  },
  {
   "cell_type": "code",
   "execution_count": 23,
   "id": "44a57172-ce83-48e5-8383-2dea523882f7",
   "metadata": {},
   "outputs": [],
   "source": [
    "s ={}"
   ]
  },
  {
   "cell_type": "code",
   "execution_count": 24,
   "id": "7884a48b-47d3-40e7-b951-2308f10a4d17",
   "metadata": {},
   "outputs": [
    {
     "data": {
      "text/plain": [
       "dict"
      ]
     },
     "execution_count": 24,
     "metadata": {},
     "output_type": "execute_result"
    }
   ],
   "source": [
    "type(s)"
   ]
  },
  {
   "cell_type": "code",
   "execution_count": 66,
   "id": "da441b5a-5906-401b-b93d-0cc497c29640",
   "metadata": {},
   "outputs": [],
   "source": [
    "d = {'name':'abhi', 'id': 'Tech1.Abhi', 1:True}"
   ]
  },
  {
   "cell_type": "code",
   "execution_count": 67,
   "id": "3ba4961a-272c-46ea-8516-74eba6b6adfb",
   "metadata": {},
   "outputs": [
    {
     "data": {
      "text/plain": [
       "dict_items([('name', 'abhi'), ('id', 'Tech1.Abhi'), (1, True)])"
      ]
     },
     "execution_count": 67,
     "metadata": {},
     "output_type": "execute_result"
    }
   ],
   "source": [
    "d.items()"
   ]
  },
  {
   "cell_type": "code",
   "execution_count": 68,
   "id": "c045df61-6955-4609-80d6-5963aafb4c66",
   "metadata": {},
   "outputs": [
    {
     "data": {
      "text/plain": [
       "dict_keys(['name', 'id', 1])"
      ]
     },
     "execution_count": 68,
     "metadata": {},
     "output_type": "execute_result"
    }
   ],
   "source": [
    "d.keys()"
   ]
  },
  {
   "cell_type": "code",
   "execution_count": 69,
   "id": "4c7620a2-8066-4e8c-8fda-1763a92c3459",
   "metadata": {},
   "outputs": [
    {
     "data": {
      "text/plain": [
       "dict_values(['abhi', 'Tech1.Abhi', True])"
      ]
     },
     "execution_count": 69,
     "metadata": {},
     "output_type": "execute_result"
    }
   ],
   "source": [
    "d.values()"
   ]
  },
  {
   "cell_type": "code",
   "execution_count": 55,
   "id": "f6569ddb-ff84-42a0-a3f8-585a8f8f8793",
   "metadata": {},
   "outputs": [],
   "source": [
    "d = {'name' : \"Abhi\", 'id' : 'Tech1.Abhi', 'Day' : \"Day 3 of 200 Day's Python Challenge\",\n",
    "     'course': ['web dev', 'data science ', 'java with dsa system design'], True:'Smile with learning'}"
   ]
  },
  {
   "cell_type": "code",
   "execution_count": 56,
   "id": "3b854e42-caa7-409f-9323-0b50066426a7",
   "metadata": {},
   "outputs": [
    {
     "data": {
      "text/plain": [
       "{'name': 'Abhi',\n",
       " 'id': 'Tech1.Abhi',\n",
       " 'Day': \"Day 3 of 200 Day's Python Challenge\",\n",
       " 'course': ['web dev', 'data science ', 'java with dsa system design'],\n",
       " True: 'Smile with learning'}"
      ]
     },
     "execution_count": 56,
     "metadata": {},
     "output_type": "execute_result"
    }
   ],
   "source": [
    "d"
   ]
  },
  {
   "cell_type": "code",
   "execution_count": 57,
   "id": "f0a91f74-045c-4615-9f3b-23f8456da1bf",
   "metadata": {},
   "outputs": [
    {
     "data": {
      "text/plain": [
       "(('name', 'Abhi'),\n",
       " ('id', 'Tech1.Abhi'),\n",
       " ('Day', \"Day 3 of 200 Day's Python Challenge\"),\n",
       " ('course', ['web dev', 'data science ', 'java with dsa system design']),\n",
       " (True, 'Smile with learning'))"
      ]
     },
     "execution_count": 57,
     "metadata": {},
     "output_type": "execute_result"
    }
   ],
   "source": [
    "tuple(d.items())"
   ]
  },
  {
   "cell_type": "code",
   "execution_count": 58,
   "id": "e9c3fd52-e3a3-41d0-96ce-88bc46e924a2",
   "metadata": {},
   "outputs": [
    {
     "data": {
      "text/plain": [
       "['name', 'id', 'Day', 'course', True]"
      ]
     },
     "execution_count": 58,
     "metadata": {},
     "output_type": "execute_result"
    }
   ],
   "source": [
    "list(d.keys())"
   ]
  },
  {
   "cell_type": "code",
   "execution_count": 59,
   "id": "0e6a143c-a48a-41b4-98f5-b280283933e9",
   "metadata": {},
   "outputs": [
    {
     "data": {
      "text/plain": [
       "dict_values(['Abhi', 'Tech1.Abhi', \"Day 3 of 200 Day's Python Challenge\", ['web dev', 'data science ', 'java with dsa system design'], 'Smile with learning'])"
      ]
     },
     "execution_count": 59,
     "metadata": {},
     "output_type": "execute_result"
    }
   ],
   "source": [
    "d.values()"
   ]
  },
  {
   "cell_type": "code",
   "execution_count": 60,
   "id": "eeb0501d-8c3c-4d3f-bb11-f57ddeed0495",
   "metadata": {},
   "outputs": [
    {
     "data": {
      "text/plain": [
       "'Smile with learning'"
      ]
     },
     "execution_count": 60,
     "metadata": {},
     "output_type": "execute_result"
    }
   ],
   "source": [
    "d[1]"
   ]
  },
  {
   "cell_type": "code",
   "execution_count": 64,
   "id": "21cca3c9-0693-465c-a591-bc008ff4f11f",
   "metadata": {},
   "outputs": [
    {
     "data": {
      "text/plain": [
       "\"Day 3 of 200 Day's Python Challenge\""
      ]
     },
     "execution_count": 64,
     "metadata": {},
     "output_type": "execute_result"
    }
   ],
   "source": [
    "d.pop('Day')"
   ]
  },
  {
   "cell_type": "code",
   "execution_count": 65,
   "id": "3b9051ff-75a6-483c-b5bb-c6fc819349c4",
   "metadata": {},
   "outputs": [
    {
     "data": {
      "text/plain": [
       "{'name': 'Abhi',\n",
       " 'id': 'Tech1.Abhi',\n",
       " 'course': ['web dev', 'data science ', 'java with dsa system design'],\n",
       " True: 'Smile with learning'}"
      ]
     },
     "execution_count": 65,
     "metadata": {},
     "output_type": "execute_result"
    }
   ],
   "source": [
    "d"
   ]
  },
  {
   "cell_type": "code",
   "execution_count": null,
   "id": "a7d23702-753e-486b-b107-b07e4716013c",
   "metadata": {},
   "outputs": [],
   "source": []
  }
 ],
 "metadata": {
  "kernelspec": {
   "display_name": "Python 3 (ipykernel)",
   "language": "python",
   "name": "python3"
  },
  "language_info": {
   "codemirror_mode": {
    "name": "ipython",
    "version": 3
   },
   "file_extension": ".py",
   "mimetype": "text/x-python",
   "name": "python",
   "nbconvert_exporter": "python",
   "pygments_lexer": "ipython3",
   "version": "3.10.8"
  }
 },
 "nbformat": 4,
 "nbformat_minor": 5
}
