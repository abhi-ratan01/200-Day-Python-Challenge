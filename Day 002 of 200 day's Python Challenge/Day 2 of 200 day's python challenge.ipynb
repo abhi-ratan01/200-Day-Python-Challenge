{
 "cells": [
  {
   "cell_type": "markdown",
   "id": "48176275-7c02-4e35-b2f6-944c6f9a4aca",
   "metadata": {},
   "source": [
    "# Day 2 of 200 day's Python Challenge"
   ]
  },
  {
   "cell_type": "markdown",
   "id": "67a329a0-a665-4cef-8d9d-4769b69cb03d",
   "metadata": {},
   "source": [
    "# List and Tuples "
   ]
  },
  {
   "cell_type": "code",
   "execution_count": 2,
   "id": "153c2530-3993-4126-adb2-be115f43d19c",
   "metadata": {},
   "outputs": [],
   "source": [
    "l = [1,234,54,'abhi', True , 5+2j, 345.42]"
   ]
  },
  {
   "cell_type": "code",
   "execution_count": 3,
   "id": "604189d1-cbbf-46aa-bd27-ab0cf1c052b4",
   "metadata": {},
   "outputs": [
    {
     "data": {
      "text/plain": [
       "True"
      ]
     },
     "execution_count": 3,
     "metadata": {},
     "output_type": "execute_result"
    }
   ],
   "source": [
    "l[4]"
   ]
  },
  {
   "cell_type": "code",
   "execution_count": 4,
   "id": "4f5c3ac2-7a38-4934-aa18-c43741812526",
   "metadata": {},
   "outputs": [
    {
     "data": {
      "text/plain": [
       "345.42"
      ]
     },
     "execution_count": 4,
     "metadata": {},
     "output_type": "execute_result"
    }
   ],
   "source": [
    "l[-1]"
   ]
  },
  {
   "cell_type": "code",
   "execution_count": 5,
   "id": "4074a0c1-3a67-4c07-af14-21b0ea58abb9",
   "metadata": {},
   "outputs": [
    {
     "data": {
      "text/plain": [
       "345.42"
      ]
     },
     "execution_count": 5,
     "metadata": {},
     "output_type": "execute_result"
    }
   ],
   "source": [
    "l[-1].real"
   ]
  },
  {
   "cell_type": "code",
   "execution_count": 6,
   "id": "fb46a576-26e3-48ef-a02e-eeb82753f7e1",
   "metadata": {},
   "outputs": [
    {
     "data": {
      "text/plain": [
       "list"
      ]
     },
     "execution_count": 6,
     "metadata": {},
     "output_type": "execute_result"
    }
   ],
   "source": [
    "type(l)"
   ]
  },
  {
   "cell_type": "code",
   "execution_count": 7,
   "id": "907c74e4-4e1f-4734-8311-600e66a94b48",
   "metadata": {},
   "outputs": [
    {
     "ename": "IndexError",
     "evalue": "list index out of range",
     "output_type": "error",
     "traceback": [
      "\u001b[0;31m---------------------------------------------------------------------------\u001b[0m",
      "\u001b[0;31mIndexError\u001b[0m                                Traceback (most recent call last)",
      "Cell \u001b[0;32mIn[7], line 1\u001b[0m\n\u001b[0;32m----> 1\u001b[0m \u001b[43ml\u001b[49m\u001b[43m[\u001b[49m\u001b[38;5;241;43m90\u001b[39;49m\u001b[43m]\u001b[49m\n",
      "\u001b[0;31mIndexError\u001b[0m: list index out of range"
     ]
    }
   ],
   "source": [
    "l[90]"
   ]
  },
  {
   "cell_type": "code",
   "execution_count": 8,
   "id": "ace41f95-ed72-4f2d-8795-b032bf901334",
   "metadata": {},
   "outputs": [
    {
     "data": {
      "text/plain": [
       "[1, 234, 54, 'abhi', True, (5+2j), 345.42]"
      ]
     },
     "execution_count": 8,
     "metadata": {},
     "output_type": "execute_result"
    }
   ],
   "source": [
    "l"
   ]
  },
  {
   "cell_type": "code",
   "execution_count": 9,
   "id": "9d249931-f70a-45fd-bbf2-21de184f798e",
   "metadata": {},
   "outputs": [
    {
     "data": {
      "text/plain": [
       "[1, 234, 54, 'abhi', True, (5+2j), 345.42]"
      ]
     },
     "execution_count": 9,
     "metadata": {},
     "output_type": "execute_result"
    }
   ],
   "source": [
    "l[:]"
   ]
  },
  {
   "cell_type": "code",
   "execution_count": 10,
   "id": "5e4c9f55-830e-4d3b-bed3-2677a2bc408d",
   "metadata": {},
   "outputs": [
    {
     "data": {
      "text/plain": [
       "[1, 234, 54, 'abhi']"
      ]
     },
     "execution_count": 10,
     "metadata": {},
     "output_type": "execute_result"
    }
   ],
   "source": [
    "l[0:4]"
   ]
  },
  {
   "cell_type": "code",
   "execution_count": 11,
   "id": "79d73398-1f94-431b-8141-82cc7a013a40",
   "metadata": {},
   "outputs": [
    {
     "data": {
      "text/plain": [
       "[54, 'abhi', True, (5+2j), 345.42]"
      ]
     },
     "execution_count": 11,
     "metadata": {},
     "output_type": "execute_result"
    }
   ],
   "source": [
    "l[2:]"
   ]
  },
  {
   "cell_type": "code",
   "execution_count": 12,
   "id": "c1da11d8-4abb-4fcc-9851-fbeadf159a55",
   "metadata": {},
   "outputs": [
    {
     "data": {
      "text/plain": [
       "[1, 234, 54, 'abhi']"
      ]
     },
     "execution_count": 12,
     "metadata": {},
     "output_type": "execute_result"
    }
   ],
   "source": [
    "l[:4]"
   ]
  },
  {
   "cell_type": "code",
   "execution_count": 13,
   "id": "3b4d27f6-f001-4af0-a654-cec561fa190a",
   "metadata": {},
   "outputs": [
    {
     "data": {
      "text/plain": [
       "['abhi', True, (5+2j), 345.42]"
      ]
     },
     "execution_count": 13,
     "metadata": {},
     "output_type": "execute_result"
    }
   ],
   "source": [
    "l[3: 7]"
   ]
  },
  {
   "cell_type": "code",
   "execution_count": 14,
   "id": "0e6fddd3-8103-4693-8b11-ff5329eddf5d",
   "metadata": {},
   "outputs": [
    {
     "data": {
      "text/plain": [
       "[1, 234, 54, 'abhi', True, (5+2j), 345.42]"
      ]
     },
     "execution_count": 14,
     "metadata": {},
     "output_type": "execute_result"
    }
   ],
   "source": [
    "l[0:90]"
   ]
  },
  {
   "cell_type": "code",
   "execution_count": 15,
   "id": "f7a96cf2-dabe-482a-ba8c-ebcc5a6886b4",
   "metadata": {},
   "outputs": [
    {
     "data": {
      "text/plain": [
       "[1, 234, 54, 'abhi', True, (5+2j), 345.42]"
      ]
     },
     "execution_count": 15,
     "metadata": {},
     "output_type": "execute_result"
    }
   ],
   "source": [
    "l[::]"
   ]
  },
  {
   "cell_type": "code",
   "execution_count": 16,
   "id": "2ba3f5bc-0347-45ed-ac78-06b2cc3e537f",
   "metadata": {},
   "outputs": [
    {
     "data": {
      "text/plain": [
       "[345.42, (5+2j), True, 'abhi', 54, 234, 1]"
      ]
     },
     "execution_count": 16,
     "metadata": {},
     "output_type": "execute_result"
    }
   ],
   "source": [
    "l[::-1]"
   ]
  },
  {
   "cell_type": "code",
   "execution_count": 17,
   "id": "c8bb61c8-dabb-40df-a8be-81fdcc09ec7a",
   "metadata": {},
   "outputs": [
    {
     "data": {
      "text/plain": [
       "[1, 54, True, 345.42]"
      ]
     },
     "execution_count": 17,
     "metadata": {},
     "output_type": "execute_result"
    }
   ],
   "source": [
    "l[::2]"
   ]
  },
  {
   "cell_type": "code",
   "execution_count": 18,
   "id": "d8d2623c-a869-4a86-bbff-f914b01340b0",
   "metadata": {},
   "outputs": [
    {
     "data": {
      "text/plain": [
       "['abhi', (5+2j)]"
      ]
     },
     "execution_count": 18,
     "metadata": {},
     "output_type": "execute_result"
    }
   ],
   "source": [
    "l[3:7:2]"
   ]
  },
  {
   "cell_type": "code",
   "execution_count": 19,
   "id": "7ce660b0-6803-4c8d-9845-f58926b349be",
   "metadata": {},
   "outputs": [
    {
     "data": {
      "text/plain": [
       "[]"
      ]
     },
     "execution_count": 19,
     "metadata": {},
     "output_type": "execute_result"
    }
   ],
   "source": [
    "l[3:7:-1]"
   ]
  },
  {
   "cell_type": "code",
   "execution_count": 20,
   "id": "263748d6-5fcd-4bdc-a85d-9e56da0e46c2",
   "metadata": {},
   "outputs": [
    {
     "data": {
      "text/plain": [
       "['abhi', True, (5+2j)]"
      ]
     },
     "execution_count": 20,
     "metadata": {},
     "output_type": "execute_result"
    }
   ],
   "source": [
    "l[-4:6]"
   ]
  },
  {
   "cell_type": "code",
   "execution_count": 21,
   "id": "dfb4d8c0-b668-497c-ad70-1a1b54c023f8",
   "metadata": {},
   "outputs": [
    {
     "data": {
      "text/plain": [
       "[1, 234, 54, 'abhi', True, (5+2j), 345.42]"
      ]
     },
     "execution_count": 21,
     "metadata": {},
     "output_type": "execute_result"
    }
   ],
   "source": [
    "l"
   ]
  },
  {
   "cell_type": "code",
   "execution_count": 22,
   "id": "79e1a122-d7ea-4989-96a4-66b0edff46d5",
   "metadata": {},
   "outputs": [
    {
     "data": {
      "text/plain": [
       "[]"
      ]
     },
     "execution_count": 22,
     "metadata": {},
     "output_type": "execute_result"
    }
   ],
   "source": [
    "l[-2:-8]"
   ]
  },
  {
   "cell_type": "code",
   "execution_count": 23,
   "id": "2e7d859a-5d5c-4609-b218-101e7387d5c0",
   "metadata": {},
   "outputs": [
    {
     "data": {
      "text/plain": [
       "[]"
      ]
     },
     "execution_count": 23,
     "metadata": {},
     "output_type": "execute_result"
    }
   ],
   "source": [
    "l[-2:-6]"
   ]
  },
  {
   "cell_type": "code",
   "execution_count": 24,
   "id": "a01b9334-d531-42d1-bb09-61e9ddccc2b7",
   "metadata": {},
   "outputs": [
    {
     "data": {
      "text/plain": [
       "[(5+2j), 'abhi']"
      ]
     },
     "execution_count": 24,
     "metadata": {},
     "output_type": "execute_result"
    }
   ],
   "source": [
    "l[-2:-6:-2]"
   ]
  },
  {
   "cell_type": "code",
   "execution_count": 25,
   "id": "927e54c1-759b-4f41-a27d-44b383a24d3d",
   "metadata": {},
   "outputs": [
    {
     "data": {
      "text/plain": [
       "[]"
      ]
     },
     "execution_count": 25,
     "metadata": {},
     "output_type": "execute_result"
    }
   ],
   "source": [
    "l[-2:-7:1]"
   ]
  },
  {
   "cell_type": "code",
   "execution_count": 26,
   "id": "129eefad-71cb-439f-a32a-9b368da5dd7f",
   "metadata": {},
   "outputs": [
    {
     "data": {
      "text/plain": [
       "[(5+2j), True, 'abhi', 54]"
      ]
     },
     "execution_count": 26,
     "metadata": {},
     "output_type": "execute_result"
    }
   ],
   "source": [
    "l[-2:-6:-1]"
   ]
  },
  {
   "cell_type": "code",
   "execution_count": 27,
   "id": "389292e1-1c1b-4c9c-978f-e1018de2c15f",
   "metadata": {},
   "outputs": [
    {
     "data": {
      "text/plain": [
       "7"
      ]
     },
     "execution_count": 27,
     "metadata": {},
     "output_type": "execute_result"
    }
   ],
   "source": [
    "len(l)"
   ]
  },
  {
   "cell_type": "code",
   "execution_count": 32,
   "id": "c2c59e0b-3d03-4426-83e4-db00e957f23f",
   "metadata": {},
   "outputs": [],
   "source": [
    "l2 = [34,65,\"Tech1\",'Abhi', True, [\"Python\",324.54, 4+5j]]"
   ]
  },
  {
   "cell_type": "code",
   "execution_count": 33,
   "id": "1f562918-0713-4ecd-9420-70c2ea20b191",
   "metadata": {},
   "outputs": [
    {
     "data": {
      "text/plain": [
       "[34, 65, 'Tech1', 'Abhi', True, ['Python', 324.54, (4+5j)]]"
      ]
     },
     "execution_count": 33,
     "metadata": {},
     "output_type": "execute_result"
    }
   ],
   "source": [
    "l2"
   ]
  },
  {
   "cell_type": "code",
   "execution_count": 34,
   "id": "8be2a8bf-2f5a-415e-a414-5eff88474ae4",
   "metadata": {},
   "outputs": [
    {
     "data": {
      "text/plain": [
       "6"
      ]
     },
     "execution_count": 34,
     "metadata": {},
     "output_type": "execute_result"
    }
   ],
   "source": [
    "len(l2)"
   ]
  },
  {
   "cell_type": "code",
   "execution_count": 35,
   "id": "e1c3128f-8859-4f26-acd5-332fb785f3d2",
   "metadata": {},
   "outputs": [
    {
     "ename": "TypeError",
     "evalue": "can only concatenate list (not \"int\") to list",
     "output_type": "error",
     "traceback": [
      "\u001b[0;31m---------------------------------------------------------------------------\u001b[0m",
      "\u001b[0;31mTypeError\u001b[0m                                 Traceback (most recent call last)",
      "Cell \u001b[0;32mIn[35], line 1\u001b[0m\n\u001b[0;32m----> 1\u001b[0m \u001b[43ml\u001b[49m\u001b[43m \u001b[49m\u001b[38;5;241;43m+\u001b[39;49m\u001b[43m \u001b[49m\u001b[38;5;241;43m5\u001b[39;49m\n",
      "\u001b[0;31mTypeError\u001b[0m: can only concatenate list (not \"int\") to list"
     ]
    }
   ],
   "source": [
    "l + 5"
   ]
  },
  {
   "cell_type": "code",
   "execution_count": 36,
   "id": "6af5c70d-af34-420f-8464-03bd7f28f832",
   "metadata": {},
   "outputs": [
    {
     "data": {
      "text/plain": [
       "[1,\n",
       " 234,\n",
       " 54,\n",
       " 'abhi',\n",
       " True,\n",
       " (5+2j),\n",
       " 345.42,\n",
       " 34,\n",
       " 65,\n",
       " 'Tech1',\n",
       " 'Abhi',\n",
       " True,\n",
       " ['Python', 324.54, (4+5j)]]"
      ]
     },
     "execution_count": 36,
     "metadata": {},
     "output_type": "execute_result"
    }
   ],
   "source": [
    "l+l2"
   ]
  },
  {
   "cell_type": "code",
   "execution_count": 37,
   "id": "107e0f2e-0685-41f6-96a9-0c1b9d511678",
   "metadata": {},
   "outputs": [],
   "source": [
    "l.append(34.5)"
   ]
  },
  {
   "cell_type": "code",
   "execution_count": 38,
   "id": "f67d917e-abb7-491c-bff5-bb3bedb1b3f9",
   "metadata": {},
   "outputs": [
    {
     "data": {
      "text/plain": [
       "[1, 234, 54, 'abhi', True, (5+2j), 345.42, 34.5]"
      ]
     },
     "execution_count": 38,
     "metadata": {},
     "output_type": "execute_result"
    }
   ],
   "source": [
    "l"
   ]
  },
  {
   "cell_type": "code",
   "execution_count": 39,
   "id": "cd5bdc2e-43e2-494b-b910-d99475385516",
   "metadata": {},
   "outputs": [],
   "source": [
    "l3 = [45,75,43,7]"
   ]
  },
  {
   "cell_type": "code",
   "execution_count": 40,
   "id": "d6440540-fba7-4f2e-ad96-a4d25e5e5f75",
   "metadata": {},
   "outputs": [],
   "source": [
    "l3.append('Tech1.Abhi')"
   ]
  },
  {
   "cell_type": "code",
   "execution_count": 41,
   "id": "926abe6d-4b94-49cf-975f-f24787cda495",
   "metadata": {},
   "outputs": [
    {
     "data": {
      "text/plain": [
       "[45, 75, 43, 7, 'Tech1.Abhi']"
      ]
     },
     "execution_count": 41,
     "metadata": {},
     "output_type": "execute_result"
    }
   ],
   "source": [
    "l3"
   ]
  },
  {
   "cell_type": "code",
   "execution_count": 42,
   "id": "82786596-c62e-4ba2-b3dd-479b85d49f6e",
   "metadata": {},
   "outputs": [
    {
     "data": {
      "text/plain": [
       "5"
      ]
     },
     "execution_count": 42,
     "metadata": {},
     "output_type": "execute_result"
    }
   ],
   "source": [
    "len(l3)"
   ]
  },
  {
   "cell_type": "code",
   "execution_count": 44,
   "id": "aee77969-9c78-4854-b66f-9540f7fc067e",
   "metadata": {},
   "outputs": [],
   "source": [
    "l.insert(0,43)"
   ]
  },
  {
   "cell_type": "code",
   "execution_count": 45,
   "id": "739015b4-31ad-4048-8b10-e978acfe4bb3",
   "metadata": {},
   "outputs": [
    {
     "data": {
      "text/plain": [
       "[43, 1, 234, 54, 'abhi', True, (5+2j), 345.42, 34.5]"
      ]
     },
     "execution_count": 45,
     "metadata": {},
     "output_type": "execute_result"
    }
   ],
   "source": [
    "l"
   ]
  },
  {
   "cell_type": "code",
   "execution_count": 46,
   "id": "51177a40-28bf-4a9b-a346-8dd365cbe945",
   "metadata": {},
   "outputs": [],
   "source": [
    "l3.insert(2,'Abhi')"
   ]
  },
  {
   "cell_type": "code",
   "execution_count": 47,
   "id": "989acef5-a9f1-497e-904f-9b904c08cc6b",
   "metadata": {},
   "outputs": [
    {
     "data": {
      "text/plain": [
       "[45, 75, 'Abhi', 43, 7, 'Tech1.Abhi']"
      ]
     },
     "execution_count": 47,
     "metadata": {},
     "output_type": "execute_result"
    }
   ],
   "source": [
    "l3"
   ]
  },
  {
   "cell_type": "code",
   "execution_count": 48,
   "id": "d0d0fb95-e905-47a7-bf49-49470add516c",
   "metadata": {},
   "outputs": [],
   "source": [
    "l3.insert(-1, 54+32j)"
   ]
  },
  {
   "cell_type": "code",
   "execution_count": 49,
   "id": "9e21fa2b-3dc3-4114-914e-cc5338ba79d3",
   "metadata": {},
   "outputs": [
    {
     "data": {
      "text/plain": [
       "[45, 75, 'Abhi', 43, 7, (54+32j), 'Tech1.Abhi']"
      ]
     },
     "execution_count": 49,
     "metadata": {},
     "output_type": "execute_result"
    }
   ],
   "source": [
    "l3"
   ]
  },
  {
   "cell_type": "code",
   "execution_count": 52,
   "id": "f01cff74-ec5b-4202-9794-d508c468c1d7",
   "metadata": {},
   "outputs": [
    {
     "data": {
      "text/plain": [
       "34.5"
      ]
     },
     "execution_count": 52,
     "metadata": {},
     "output_type": "execute_result"
    }
   ],
   "source": [
    "l.pop()"
   ]
  },
  {
   "cell_type": "code",
   "execution_count": 53,
   "id": "26f871f4-d0a8-45e6-bd69-6b531a371be0",
   "metadata": {},
   "outputs": [
    {
     "data": {
      "text/plain": [
       "54"
      ]
     },
     "execution_count": 53,
     "metadata": {},
     "output_type": "execute_result"
    }
   ],
   "source": [
    "l.pop(3)"
   ]
  },
  {
   "cell_type": "code",
   "execution_count": 54,
   "id": "09ff0745-62e1-4469-8a5a-f033d7d192d3",
   "metadata": {},
   "outputs": [
    {
     "data": {
      "text/plain": [
       "[43, 1, 234, 'abhi', True, (5+2j), 345.42]"
      ]
     },
     "execution_count": 54,
     "metadata": {},
     "output_type": "execute_result"
    }
   ],
   "source": [
    "l"
   ]
  },
  {
   "cell_type": "code",
   "execution_count": 55,
   "id": "48640a7d-28ee-44b0-8b46-229b14f05b20",
   "metadata": {},
   "outputs": [
    {
     "data": {
      "text/plain": [
       "345.42"
      ]
     },
     "execution_count": 55,
     "metadata": {},
     "output_type": "execute_result"
    }
   ],
   "source": [
    "l.pop(-1)"
   ]
  },
  {
   "cell_type": "code",
   "execution_count": 56,
   "id": "dd906b69-1a41-470d-9d8d-701c69a962eb",
   "metadata": {},
   "outputs": [],
   "source": [
    "l.remove(1)"
   ]
  },
  {
   "cell_type": "code",
   "execution_count": 57,
   "id": "66aded8f-ee45-4bcc-9055-d7211148ba38",
   "metadata": {},
   "outputs": [
    {
     "data": {
      "text/plain": [
       "[43, 234, 'abhi', True, (5+2j)]"
      ]
     },
     "execution_count": 57,
     "metadata": {},
     "output_type": "execute_result"
    }
   ],
   "source": [
    "l"
   ]
  },
  {
   "cell_type": "code",
   "execution_count": 58,
   "id": "a3be0e9c-af39-4d6e-baae-1eded222199a",
   "metadata": {},
   "outputs": [
    {
     "ename": "ValueError",
     "evalue": "list.remove(x): x not in list",
     "output_type": "error",
     "traceback": [
      "\u001b[0;31m---------------------------------------------------------------------------\u001b[0m",
      "\u001b[0;31mValueError\u001b[0m                                Traceback (most recent call last)",
      "Cell \u001b[0;32mIn[58], line 1\u001b[0m\n\u001b[0;32m----> 1\u001b[0m \u001b[43ml\u001b[49m\u001b[38;5;241;43m.\u001b[39;49m\u001b[43mremove\u001b[49m\u001b[43m(\u001b[49m\u001b[38;5;241;43m54\u001b[39;49m\u001b[43m)\u001b[49m\n",
      "\u001b[0;31mValueError\u001b[0m: list.remove(x): x not in list"
     ]
    }
   ],
   "source": [
    "l.remove(54)"
   ]
  },
  {
   "cell_type": "code",
   "execution_count": 59,
   "id": "106f816a-8c56-44f5-83eb-062bc604f631",
   "metadata": {},
   "outputs": [
    {
     "data": {
      "text/plain": [
       "[43, 234, 'abhi', True, (5+2j)]"
      ]
     },
     "execution_count": 59,
     "metadata": {},
     "output_type": "execute_result"
    }
   ],
   "source": [
    "l"
   ]
  },
  {
   "cell_type": "code",
   "execution_count": 60,
   "id": "e335125f-c48c-48f0-b598-93057ccaaf01",
   "metadata": {},
   "outputs": [],
   "source": [
    "l.remove(1)"
   ]
  },
  {
   "cell_type": "code",
   "execution_count": 61,
   "id": "8d0c6ec4-c242-42fa-ae93-f18bc2491653",
   "metadata": {},
   "outputs": [
    {
     "data": {
      "text/plain": [
       "[43, 234, 'abhi', (5+2j)]"
      ]
     },
     "execution_count": 61,
     "metadata": {},
     "output_type": "execute_result"
    }
   ],
   "source": [
    "l"
   ]
  },
  {
   "cell_type": "code",
   "execution_count": 62,
   "id": "2090a812-b49a-4303-a250-2f5f28eac1d5",
   "metadata": {},
   "outputs": [
    {
     "data": {
      "text/plain": [
       "1"
      ]
     },
     "execution_count": 62,
     "metadata": {},
     "output_type": "execute_result"
    }
   ],
   "source": [
    "l.index(234)"
   ]
  },
  {
   "cell_type": "code",
   "execution_count": 63,
   "id": "8abb0cba-a5d9-47df-98d7-44e24d177312",
   "metadata": {},
   "outputs": [
    {
     "data": {
      "text/plain": [
       "2"
      ]
     },
     "execution_count": 63,
     "metadata": {},
     "output_type": "execute_result"
    }
   ],
   "source": [
    "l.index('abhi')"
   ]
  },
  {
   "cell_type": "code",
   "execution_count": 64,
   "id": "24b5a566-3d29-4992-a1ec-6924f2d44cf8",
   "metadata": {},
   "outputs": [
    {
     "data": {
      "text/plain": [
       "[43, 234, 'abhi', (5+2j)]"
      ]
     },
     "execution_count": 64,
     "metadata": {},
     "output_type": "execute_result"
    }
   ],
   "source": [
    "l"
   ]
  },
  {
   "cell_type": "code",
   "execution_count": 65,
   "id": "4a05ec33-1d41-46ae-b4f1-99535525db70",
   "metadata": {},
   "outputs": [],
   "source": [
    "l4 = [43,6,5,86,53,43,765,4]"
   ]
  },
  {
   "cell_type": "code",
   "execution_count": 66,
   "id": "01ab542a-b23b-496e-a761-67c3967c63b1",
   "metadata": {},
   "outputs": [],
   "source": [
    "l5 = [56,4,786754,87,76.5]"
   ]
  },
  {
   "cell_type": "code",
   "execution_count": 68,
   "id": "e0a37be3-cef6-40d0-9853-9ed5e1dc58ab",
   "metadata": {},
   "outputs": [],
   "source": [
    "l.append(l4)"
   ]
  },
  {
   "cell_type": "code",
   "execution_count": 69,
   "id": "112ab2b4-cdca-4525-8d5b-ed851393c5aa",
   "metadata": {},
   "outputs": [
    {
     "data": {
      "text/plain": [
       "[43, 234, 'abhi', (5+2j), [43, 6, 5, 86, 53, 43, 765, 4]]"
      ]
     },
     "execution_count": 69,
     "metadata": {},
     "output_type": "execute_result"
    }
   ],
   "source": [
    "l"
   ]
  },
  {
   "cell_type": "code",
   "execution_count": 70,
   "id": "1cd426f7-a19e-4b21-a5a4-d82992811d7a",
   "metadata": {},
   "outputs": [],
   "source": [
    "l.insert(3,l5)"
   ]
  },
  {
   "cell_type": "code",
   "execution_count": 71,
   "id": "f9d0ad0e-9b2a-40a7-b4d3-63d9eacbc75a",
   "metadata": {},
   "outputs": [
    {
     "data": {
      "text/plain": [
       "[43,\n",
       " 234,\n",
       " 'abhi',\n",
       " [56, 4, 786754, 87, 76.5],\n",
       " (5+2j),\n",
       " [43, 6, 5, 86, 53, 43, 765, 4]]"
      ]
     },
     "execution_count": 71,
     "metadata": {},
     "output_type": "execute_result"
    }
   ],
   "source": [
    "l"
   ]
  },
  {
   "cell_type": "code",
   "execution_count": 72,
   "id": "ac7a1f08-701f-4842-ad4e-203ee471e70b",
   "metadata": {},
   "outputs": [
    {
     "data": {
      "text/plain": [
       "1"
      ]
     },
     "execution_count": 72,
     "metadata": {},
     "output_type": "execute_result"
    }
   ],
   "source": [
    "l.count(43)"
   ]
  },
  {
   "cell_type": "code",
   "execution_count": 73,
   "id": "747063c4-0213-401f-a84b-7659b73bc82d",
   "metadata": {},
   "outputs": [
    {
     "data": {
      "text/plain": [
       "[43, 6, 5, 86, 53, 43, 765, 4]"
      ]
     },
     "execution_count": 73,
     "metadata": {},
     "output_type": "execute_result"
    }
   ],
   "source": [
    "l.pop()"
   ]
  },
  {
   "cell_type": "code",
   "execution_count": 74,
   "id": "75b2beda-4793-4dde-a533-cc457acf43b4",
   "metadata": {},
   "outputs": [
    {
     "data": {
      "text/plain": [
       "[43, 234, 'abhi', [56, 4, 786754, 87, 76.5], (5+2j)]"
      ]
     },
     "execution_count": 74,
     "metadata": {},
     "output_type": "execute_result"
    }
   ],
   "source": [
    "l"
   ]
  },
  {
   "cell_type": "code",
   "execution_count": 75,
   "id": "97fd5b1d-5424-4901-bdaa-e053916e9b68",
   "metadata": {},
   "outputs": [],
   "source": [
    "l.remove([56,4,786754,87,76.5])"
   ]
  },
  {
   "cell_type": "code",
   "execution_count": 76,
   "id": "df9ccb27-2d8b-461f-827e-16b35525d78e",
   "metadata": {},
   "outputs": [
    {
     "data": {
      "text/plain": [
       "[43, 234, 'abhi', (5+2j)]"
      ]
     },
     "execution_count": 76,
     "metadata": {},
     "output_type": "execute_result"
    }
   ],
   "source": [
    "l"
   ]
  },
  {
   "cell_type": "code",
   "execution_count": 77,
   "id": "c9c9cbc0-b12d-4fb9-bf78-89bd9b906ce3",
   "metadata": {},
   "outputs": [],
   "source": [
    "l.append(43)"
   ]
  },
  {
   "cell_type": "code",
   "execution_count": 78,
   "id": "f49b974b-4fdb-44a9-b10f-42aba6b5897d",
   "metadata": {},
   "outputs": [],
   "source": [
    "l.append(3)"
   ]
  },
  {
   "cell_type": "code",
   "execution_count": 79,
   "id": "adc596e9-9826-4466-b04b-7cb231ecfea5",
   "metadata": {},
   "outputs": [],
   "source": [
    "l.append(43)"
   ]
  },
  {
   "cell_type": "code",
   "execution_count": 80,
   "id": "14775b10-294b-43f3-9f49-2d6e61da047e",
   "metadata": {},
   "outputs": [],
   "source": [
    "l.append(4)"
   ]
  },
  {
   "cell_type": "code",
   "execution_count": 81,
   "id": "5e069061-0b75-482b-b0a9-c4d83e389475",
   "metadata": {},
   "outputs": [],
   "source": [
    "l.append(43)"
   ]
  },
  {
   "cell_type": "code",
   "execution_count": 82,
   "id": "c6675c88-52dd-4de6-bffd-f8acad90c923",
   "metadata": {},
   "outputs": [],
   "source": [
    "l.insert(4,43)"
   ]
  },
  {
   "cell_type": "code",
   "execution_count": 84,
   "id": "a42f105f-0312-48fd-a20e-0d67d3ecdce3",
   "metadata": {},
   "outputs": [],
   "source": [
    "l.insert(2,43)"
   ]
  },
  {
   "cell_type": "code",
   "execution_count": 85,
   "id": "3c74ea3e-3797-4cfd-af6f-bb4d1f32fffd",
   "metadata": {},
   "outputs": [
    {
     "data": {
      "text/plain": [
       "[43, 234, 43, 'abhi', (5+2j), 43, 43, 3, 43, 4, 43]"
      ]
     },
     "execution_count": 85,
     "metadata": {},
     "output_type": "execute_result"
    }
   ],
   "source": [
    "l"
   ]
  },
  {
   "cell_type": "code",
   "execution_count": 86,
   "id": "e02dd77c-2319-4bfc-80ec-1b69989d6244",
   "metadata": {},
   "outputs": [
    {
     "data": {
      "text/plain": [
       "6"
      ]
     },
     "execution_count": 86,
     "metadata": {},
     "output_type": "execute_result"
    }
   ],
   "source": [
    "l.count(43)"
   ]
  },
  {
   "cell_type": "code",
   "execution_count": 87,
   "id": "9dcd609b-486e-4298-89a7-e2756004c6ec",
   "metadata": {},
   "outputs": [
    {
     "data": {
      "text/plain": [
       "1"
      ]
     },
     "execution_count": 87,
     "metadata": {},
     "output_type": "execute_result"
    }
   ],
   "source": [
    "l.count('abhi')"
   ]
  },
  {
   "cell_type": "code",
   "execution_count": 88,
   "id": "ee273cba-8b79-4a6b-b5a3-0fbc562d8c05",
   "metadata": {},
   "outputs": [
    {
     "data": {
      "text/plain": [
       "0"
      ]
     },
     "execution_count": 88,
     "metadata": {},
     "output_type": "execute_result"
    }
   ],
   "source": [
    "l.count('tech')"
   ]
  },
  {
   "cell_type": "code",
   "execution_count": 89,
   "id": "a1186b08-fe22-4d2c-b745-d3bf0d7649ec",
   "metadata": {},
   "outputs": [
    {
     "data": {
      "text/plain": [
       "[43, 234, 43, 'abhi', (5+2j), 43, 43, 3, 43, 4, 43]"
      ]
     },
     "execution_count": 89,
     "metadata": {},
     "output_type": "execute_result"
    }
   ],
   "source": [
    "l"
   ]
  },
  {
   "cell_type": "code",
   "execution_count": 90,
   "id": "ae39b2a6-ed1e-4818-8b67-598f444d1abb",
   "metadata": {},
   "outputs": [
    {
     "data": {
      "text/plain": [
       "[43, 4, 43, 3, 43, 43, (5+2j), 'abhi', 43, 234, 43]"
      ]
     },
     "execution_count": 90,
     "metadata": {},
     "output_type": "execute_result"
    }
   ],
   "source": [
    "l[::-1]"
   ]
  },
  {
   "cell_type": "code",
   "execution_count": 91,
   "id": "11aa876e-a07e-49cb-9f6d-42903de9c110",
   "metadata": {},
   "outputs": [
    {
     "data": {
      "text/plain": [
       "[43, 234, 43, 'abhi', (5+2j), 43, 43, 3, 43, 4, 43]"
      ]
     },
     "execution_count": 91,
     "metadata": {},
     "output_type": "execute_result"
    }
   ],
   "source": [
    "l"
   ]
  },
  {
   "cell_type": "code",
   "execution_count": 92,
   "id": "0fd2b1fc-ff9d-4dcb-b3ed-b1327e226e95",
   "metadata": {},
   "outputs": [],
   "source": [
    "l.reverse()"
   ]
  },
  {
   "cell_type": "code",
   "execution_count": 93,
   "id": "d7ecbe1e-8d10-47eb-9a9c-1d7801a7c496",
   "metadata": {},
   "outputs": [
    {
     "data": {
      "text/plain": [
       "[43, 4, 43, 3, 43, 43, (5+2j), 'abhi', 43, 234, 43]"
      ]
     },
     "execution_count": 93,
     "metadata": {},
     "output_type": "execute_result"
    }
   ],
   "source": [
    "l"
   ]
  },
  {
   "cell_type": "code",
   "execution_count": 94,
   "id": "8ec30009-ae6d-4167-977c-546a1673318d",
   "metadata": {},
   "outputs": [],
   "source": [
    "l.remove(43)"
   ]
  },
  {
   "cell_type": "code",
   "execution_count": 95,
   "id": "385d0466-0662-4934-a654-92d5d09fc269",
   "metadata": {},
   "outputs": [],
   "source": [
    "l.remove(43)"
   ]
  },
  {
   "cell_type": "code",
   "execution_count": 96,
   "id": "3be91426-fde9-4f18-889a-c3fb2edd1b3f",
   "metadata": {},
   "outputs": [],
   "source": [
    "l.remove(43)"
   ]
  },
  {
   "cell_type": "code",
   "execution_count": 97,
   "id": "c7f4841f-2e02-439f-8c5e-f76a9817b637",
   "metadata": {},
   "outputs": [],
   "source": [
    "l.remove(43)"
   ]
  },
  {
   "cell_type": "code",
   "execution_count": 98,
   "id": "4166bf10-58ce-4507-b14f-e9dd4152faea",
   "metadata": {},
   "outputs": [
    {
     "data": {
      "text/plain": [
       "[4, 3, (5+2j), 'abhi', 43, 234, 43]"
      ]
     },
     "execution_count": 98,
     "metadata": {},
     "output_type": "execute_result"
    }
   ],
   "source": [
    "l"
   ]
  },
  {
   "cell_type": "code",
   "execution_count": 99,
   "id": "a305b069-5a71-4914-8c7a-ba38fce1071f",
   "metadata": {},
   "outputs": [
    {
     "ename": "TypeError",
     "evalue": "'<' not supported between instances of 'complex' and 'int'",
     "output_type": "error",
     "traceback": [
      "\u001b[0;31m---------------------------------------------------------------------------\u001b[0m",
      "\u001b[0;31mTypeError\u001b[0m                                 Traceback (most recent call last)",
      "Cell \u001b[0;32mIn[99], line 1\u001b[0m\n\u001b[0;32m----> 1\u001b[0m \u001b[43ml\u001b[49m\u001b[38;5;241;43m.\u001b[39;49m\u001b[43msort\u001b[49m\u001b[43m(\u001b[49m\u001b[43m)\u001b[49m\n",
      "\u001b[0;31mTypeError\u001b[0m: '<' not supported between instances of 'complex' and 'int'"
     ]
    }
   ],
   "source": [
    "l.sort()"
   ]
  },
  {
   "cell_type": "code",
   "execution_count": 100,
   "id": "c92642df-c94d-444e-b656-770fb63047ab",
   "metadata": {},
   "outputs": [
    {
     "data": {
      "text/plain": [
       "[34, 65, 'Tech1', 'Abhi', True, ['Python', 324.54, (4+5j)]]"
      ]
     },
     "execution_count": 100,
     "metadata": {},
     "output_type": "execute_result"
    }
   ],
   "source": [
    "l2"
   ]
  },
  {
   "cell_type": "code",
   "execution_count": 101,
   "id": "86788987-81a2-4d73-8a73-84163c881e96",
   "metadata": {},
   "outputs": [
    {
     "data": {
      "text/plain": [
       "[45, 75, 'Abhi', 43, 7, (54+32j), 'Tech1.Abhi']"
      ]
     },
     "execution_count": 101,
     "metadata": {},
     "output_type": "execute_result"
    }
   ],
   "source": [
    "l3"
   ]
  },
  {
   "cell_type": "code",
   "execution_count": 102,
   "id": "c1e4908a-51c5-428d-9db9-a063accdd1d8",
   "metadata": {},
   "outputs": [
    {
     "data": {
      "text/plain": [
       "[43, 6, 5, 86, 53, 43, 765, 4]"
      ]
     },
     "execution_count": 102,
     "metadata": {},
     "output_type": "execute_result"
    }
   ],
   "source": [
    "l4"
   ]
  },
  {
   "cell_type": "code",
   "execution_count": 103,
   "id": "a98f6518-0c03-491c-8806-29b804111ccc",
   "metadata": {},
   "outputs": [],
   "source": [
    "l4.sort()"
   ]
  },
  {
   "cell_type": "code",
   "execution_count": 104,
   "id": "ecb3f9ff-d028-435f-9c4d-7c1704370a33",
   "metadata": {},
   "outputs": [
    {
     "data": {
      "text/plain": [
       "[4, 5, 6, 43, 43, 53, 86, 765]"
      ]
     },
     "execution_count": 104,
     "metadata": {},
     "output_type": "execute_result"
    }
   ],
   "source": [
    "l4"
   ]
  },
  {
   "cell_type": "code",
   "execution_count": 105,
   "id": "bd224291-29ab-4ab6-a273-f351397b84fe",
   "metadata": {},
   "outputs": [
    {
     "data": {
      "text/plain": [
       "[34, 65, 'Tech1', 'Abhi', True, ['Python', 324.54, (4+5j)]]"
      ]
     },
     "execution_count": 105,
     "metadata": {},
     "output_type": "execute_result"
    }
   ],
   "source": [
    "l2"
   ]
  },
  {
   "cell_type": "code",
   "execution_count": 106,
   "id": "6f9b2c74-6b76-4519-8c54-d2a3af222209",
   "metadata": {},
   "outputs": [
    {
     "data": {
      "text/plain": [
       "['Python', 324.54, (4+5j)]"
      ]
     },
     "execution_count": 106,
     "metadata": {},
     "output_type": "execute_result"
    }
   ],
   "source": [
    "l2[-1]"
   ]
  },
  {
   "cell_type": "code",
   "execution_count": 107,
   "id": "41508cdd-9a37-412a-ade5-5ff732f83ea5",
   "metadata": {},
   "outputs": [
    {
     "data": {
      "text/plain": [
       "list"
      ]
     },
     "execution_count": 107,
     "metadata": {},
     "output_type": "execute_result"
    }
   ],
   "source": [
    "type(l2[-1])"
   ]
  },
  {
   "cell_type": "code",
   "execution_count": 108,
   "id": "2db4cfc9-371d-48aa-97ce-655f3cad3f2d",
   "metadata": {},
   "outputs": [
    {
     "data": {
      "text/plain": [
       "str"
      ]
     },
     "execution_count": 108,
     "metadata": {},
     "output_type": "execute_result"
    }
   ],
   "source": [
    "type(l2[-1][0])"
   ]
  },
  {
   "cell_type": "code",
   "execution_count": 109,
   "id": "859d69b9-5b80-454f-98c2-3dc17f14812f",
   "metadata": {},
   "outputs": [
    {
     "data": {
      "text/plain": [
       "complex"
      ]
     },
     "execution_count": 109,
     "metadata": {},
     "output_type": "execute_result"
    }
   ],
   "source": [
    "type(l2[-1][-1])"
   ]
  },
  {
   "cell_type": "code",
   "execution_count": 110,
   "id": "4e6c9ca3-afc2-40bf-8d5a-42a155aaacdd",
   "metadata": {},
   "outputs": [
    {
     "data": {
      "text/plain": [
       "['Python', 324.54, (4+5j)]"
      ]
     },
     "execution_count": 110,
     "metadata": {},
     "output_type": "execute_result"
    }
   ],
   "source": [
    "l2[-1][0:3]"
   ]
  },
  {
   "cell_type": "code",
   "execution_count": 111,
   "id": "9af27d53-0790-4387-ab45-5fafc35bd88e",
   "metadata": {},
   "outputs": [
    {
     "data": {
      "text/plain": [
       "'Py'"
      ]
     },
     "execution_count": 111,
     "metadata": {},
     "output_type": "execute_result"
    }
   ],
   "source": [
    "l2[-1][0][:2]"
   ]
  },
  {
   "cell_type": "code",
   "execution_count": 112,
   "id": "355722d4-2865-41e4-a77b-d1c67fa0b4fa",
   "metadata": {},
   "outputs": [
    {
     "data": {
      "text/plain": [
       "[34, 65, 'Tech1', 'Abhi', True, ['Python', 324.54, (4+5j)]]"
      ]
     },
     "execution_count": 112,
     "metadata": {},
     "output_type": "execute_result"
    }
   ],
   "source": [
    "l2"
   ]
  },
  {
   "cell_type": "code",
   "execution_count": 138,
   "id": "2fd74389-9463-4210-80c6-ab7563b11e31",
   "metadata": {},
   "outputs": [],
   "source": [
    "l2[1] = False"
   ]
  },
  {
   "cell_type": "code",
   "execution_count": 139,
   "id": "2e350bad-1d53-455b-a264-7f49da4a0582",
   "metadata": {},
   "outputs": [
    {
     "data": {
      "text/plain": [
       "[34, False, 'Tech1', 'Abhi', True, ['Python', (4+5j)], 'A', 'b', 'h', 'i']"
      ]
     },
     "execution_count": 139,
     "metadata": {},
     "output_type": "execute_result"
    }
   ],
   "source": [
    "l2"
   ]
  },
  {
   "cell_type": "code",
   "execution_count": 113,
   "id": "a256f145-4790-46e2-aa10-341eee7f0c83",
   "metadata": {},
   "outputs": [
    {
     "data": {
      "text/plain": [
       "True"
      ]
     },
     "execution_count": 113,
     "metadata": {},
     "output_type": "execute_result"
    }
   ],
   "source": [
    "l2[4]"
   ]
  },
  {
   "cell_type": "code",
   "execution_count": 114,
   "id": "84364d1b-3ac6-4fc1-9df0-77b043e70cdf",
   "metadata": {},
   "outputs": [
    {
     "ename": "TypeError",
     "evalue": "'bool' object is not subscriptable",
     "output_type": "error",
     "traceback": [
      "\u001b[0;31m---------------------------------------------------------------------------\u001b[0m",
      "\u001b[0;31mTypeError\u001b[0m                                 Traceback (most recent call last)",
      "Cell \u001b[0;32mIn[114], line 1\u001b[0m\n\u001b[0;32m----> 1\u001b[0m \u001b[43ml2\u001b[49m\u001b[43m[\u001b[49m\u001b[38;5;241;43m4\u001b[39;49m\u001b[43m]\u001b[49m\u001b[43m[\u001b[49m\u001b[43m:\u001b[49m\u001b[38;5;241;43m2\u001b[39;49m\u001b[43m]\u001b[49m\n",
      "\u001b[0;31mTypeError\u001b[0m: 'bool' object is not subscriptable"
     ]
    }
   ],
   "source": [
    "l2[4][:2]"
   ]
  },
  {
   "cell_type": "code",
   "execution_count": 115,
   "id": "b04cbdec-cccf-4c58-bdc8-a52463cb3ffe",
   "metadata": {},
   "outputs": [
    {
     "data": {
      "text/plain": [
       "'Tr'"
      ]
     },
     "execution_count": 115,
     "metadata": {},
     "output_type": "execute_result"
    }
   ],
   "source": [
    "str(l2[4])[:2]"
   ]
  },
  {
   "cell_type": "code",
   "execution_count": 117,
   "id": "97b346a3-91ab-4a0d-9090-b5782f85e9ee",
   "metadata": {},
   "outputs": [],
   "source": [
    "l1 = [2,4,23,5,3]"
   ]
  },
  {
   "cell_type": "code",
   "execution_count": 118,
   "id": "cfdd912b-1a30-4822-be6d-ef9d5f459095",
   "metadata": {},
   "outputs": [
    {
     "data": {
      "text/plain": [
       "[2, 4, 23, 5, 3, 2, 4, 23, 5, 3, 2, 4, 23, 5, 3]"
      ]
     },
     "execution_count": 118,
     "metadata": {},
     "output_type": "execute_result"
    }
   ],
   "source": [
    "l1 * 3"
   ]
  },
  {
   "cell_type": "code",
   "execution_count": 119,
   "id": "0a42392d-9b9b-450e-befe-7568ece2a3fe",
   "metadata": {},
   "outputs": [
    {
     "data": {
      "text/plain": [
       "[2, 4, 23, 5, 3]"
      ]
     },
     "execution_count": 119,
     "metadata": {},
     "output_type": "execute_result"
    }
   ],
   "source": [
    "l1"
   ]
  },
  {
   "cell_type": "code",
   "execution_count": 120,
   "id": "c04ebad1-9eac-4227-acaa-31131be86bd2",
   "metadata": {},
   "outputs": [
    {
     "data": {
      "text/plain": [
       "[34, 65, 'Tech1', 'Abhi', True, ['Python', 324.54, (4+5j)]]"
      ]
     },
     "execution_count": 120,
     "metadata": {},
     "output_type": "execute_result"
    }
   ],
   "source": [
    "l2"
   ]
  },
  {
   "cell_type": "code",
   "execution_count": 122,
   "id": "de3a05c1-7821-47da-8401-30fd9e565f4b",
   "metadata": {},
   "outputs": [],
   "source": [
    "l2[-1].remove(324.54)"
   ]
  },
  {
   "cell_type": "code",
   "execution_count": 124,
   "id": "b9c039ed-5ae4-4b26-9e1e-848daa1e7fac",
   "metadata": {},
   "outputs": [],
   "source": [
    "l1.extend('Abhi')"
   ]
  },
  {
   "cell_type": "code",
   "execution_count": 125,
   "id": "76284a37-f52c-488f-9999-1dc27641cede",
   "metadata": {},
   "outputs": [
    {
     "data": {
      "text/plain": [
       "[2, 4, 23, 5, 3, 'A', 'b', 'h', 'i']"
      ]
     },
     "execution_count": 125,
     "metadata": {},
     "output_type": "execute_result"
    }
   ],
   "source": [
    "l1"
   ]
  },
  {
   "cell_type": "code",
   "execution_count": 126,
   "id": "cb01aea2-6976-4e11-95bf-5129f9a24dc3",
   "metadata": {},
   "outputs": [],
   "source": [
    "l2.extend('Abhi')"
   ]
  },
  {
   "cell_type": "code",
   "execution_count": 127,
   "id": "341dde6e-8d7b-4350-9203-9a16183d7ef4",
   "metadata": {},
   "outputs": [
    {
     "data": {
      "text/plain": [
       "[34, 65, 'Tech1', 'Abhi', True, ['Python', (4+5j)], 'A', 'b', 'h', 'i']"
      ]
     },
     "execution_count": 127,
     "metadata": {},
     "output_type": "execute_result"
    }
   ],
   "source": [
    "l2"
   ]
  },
  {
   "cell_type": "code",
   "execution_count": 128,
   "id": "2877e9b4-986a-431f-b824-8830592724d9",
   "metadata": {},
   "outputs": [],
   "source": [
    "t = ()"
   ]
  },
  {
   "cell_type": "code",
   "execution_count": 129,
   "id": "4a51a1c6-4f12-4def-b834-54eff0bc37a7",
   "metadata": {},
   "outputs": [
    {
     "data": {
      "text/plain": [
       "tuple"
      ]
     },
     "execution_count": 129,
     "metadata": {},
     "output_type": "execute_result"
    }
   ],
   "source": [
    "type(t)"
   ]
  },
  {
   "cell_type": "code",
   "execution_count": 130,
   "id": "2e063a8b-bf6d-4335-893d-22a4e928a7f4",
   "metadata": {},
   "outputs": [],
   "source": [
    "t = (23,5.56,'Tech',43+332j, [3,56,2],(43,7.5,'Abhi'))"
   ]
  },
  {
   "cell_type": "code",
   "execution_count": 131,
   "id": "f65911df-7167-4337-aa66-22b406f09c31",
   "metadata": {},
   "outputs": [
    {
     "data": {
      "text/plain": [
       "(23, 5.56, 'Tech', (43+332j), [3, 56, 2], (43, 7.5, 'Abhi'))"
      ]
     },
     "execution_count": 131,
     "metadata": {},
     "output_type": "execute_result"
    }
   ],
   "source": [
    "t"
   ]
  },
  {
   "cell_type": "code",
   "execution_count": 132,
   "id": "71a22fd2-9675-4ac3-9ba1-21da19e6d879",
   "metadata": {},
   "outputs": [
    {
     "data": {
      "text/plain": [
       "tuple"
      ]
     },
     "execution_count": 132,
     "metadata": {},
     "output_type": "execute_result"
    }
   ],
   "source": [
    "type(t)"
   ]
  },
  {
   "cell_type": "code",
   "execution_count": 133,
   "id": "ff6c3cfd-787c-4679-87b7-4fd8e22fd8d9",
   "metadata": {},
   "outputs": [
    {
     "data": {
      "text/plain": [
       "list"
      ]
     },
     "execution_count": 133,
     "metadata": {},
     "output_type": "execute_result"
    }
   ],
   "source": [
    "type(t[-2])"
   ]
  },
  {
   "cell_type": "code",
   "execution_count": 134,
   "id": "b0ded6e7-bdad-4b2f-a786-a1476707bf89",
   "metadata": {},
   "outputs": [
    {
     "data": {
      "text/plain": [
       "tuple"
      ]
     },
     "execution_count": 134,
     "metadata": {},
     "output_type": "execute_result"
    }
   ],
   "source": [
    "type(t[-1])"
   ]
  },
  {
   "cell_type": "code",
   "execution_count": 135,
   "id": "ca615098-abc1-4193-ab9a-41c54c4b9b31",
   "metadata": {},
   "outputs": [
    {
     "data": {
      "text/plain": [
       "(43, 7.5, 'Abhi')"
      ]
     },
     "execution_count": 135,
     "metadata": {},
     "output_type": "execute_result"
    }
   ],
   "source": [
    "t[-1]"
   ]
  },
  {
   "cell_type": "code",
   "execution_count": 136,
   "id": "1b286be6-e309-40f2-8840-66d448877575",
   "metadata": {},
   "outputs": [
    {
     "data": {
      "text/plain": [
       "'Tech'"
      ]
     },
     "execution_count": 136,
     "metadata": {},
     "output_type": "execute_result"
    }
   ],
   "source": [
    "t[2]"
   ]
  },
  {
   "cell_type": "code",
   "execution_count": 137,
   "id": "46dd3e35-bb83-4acc-a393-20f0df936946",
   "metadata": {},
   "outputs": [
    {
     "ename": "IndexError",
     "evalue": "tuple index out of range",
     "output_type": "error",
     "traceback": [
      "\u001b[0;31m---------------------------------------------------------------------------\u001b[0m",
      "\u001b[0;31mIndexError\u001b[0m                                Traceback (most recent call last)",
      "Cell \u001b[0;32mIn[137], line 1\u001b[0m\n\u001b[0;32m----> 1\u001b[0m \u001b[43mt\u001b[49m\u001b[43m[\u001b[49m\u001b[38;5;241;43m32\u001b[39;49m\u001b[43m]\u001b[49m\n",
      "\u001b[0;31mIndexError\u001b[0m: tuple index out of range"
     ]
    }
   ],
   "source": [
    "t[32]"
   ]
  },
  {
   "cell_type": "code",
   "execution_count": 140,
   "id": "deb22f23-4060-4adb-9ef1-7691f7040ff9",
   "metadata": {},
   "outputs": [
    {
     "data": {
      "text/plain": [
       "(23, 5.56, 'Tech', (43+332j), [3, 56, 2], (43, 7.5, 'Abhi'))"
      ]
     },
     "execution_count": 140,
     "metadata": {},
     "output_type": "execute_result"
    }
   ],
   "source": [
    "t"
   ]
  },
  {
   "cell_type": "code",
   "execution_count": 141,
   "id": "00305b48-1d9a-4d66-b14e-8710bcd319fc",
   "metadata": {},
   "outputs": [
    {
     "ename": "TypeError",
     "evalue": "'tuple' object does not support item assignment",
     "output_type": "error",
     "traceback": [
      "\u001b[0;31m---------------------------------------------------------------------------\u001b[0m",
      "\u001b[0;31mTypeError\u001b[0m                                 Traceback (most recent call last)",
      "Cell \u001b[0;32mIn[141], line 1\u001b[0m\n\u001b[0;32m----> 1\u001b[0m \u001b[43mt\u001b[49m\u001b[43m[\u001b[49m\u001b[38;5;241;43m0\u001b[39;49m\u001b[43m]\u001b[49m \u001b[38;5;241m=\u001b[39m \u001b[38;5;28;01mFalse\u001b[39;00m\n",
      "\u001b[0;31mTypeError\u001b[0m: 'tuple' object does not support item assignment"
     ]
    }
   ],
   "source": [
    "t[0] = False"
   ]
  },
  {
   "cell_type": "code",
   "execution_count": 142,
   "id": "99cffdec-9106-4ad8-af18-eab8e02aed63",
   "metadata": {},
   "outputs": [
    {
     "data": {
      "text/plain": [
       "(23, 5.56, 'Tech', (43+332j), [3, 56, 2], (43, 7.5, 'Abhi'))"
      ]
     },
     "execution_count": 142,
     "metadata": {},
     "output_type": "execute_result"
    }
   ],
   "source": [
    "t[:]"
   ]
  },
  {
   "cell_type": "code",
   "execution_count": 143,
   "id": "74667ee0-cabf-416c-9330-a1ee06e3ae4f",
   "metadata": {},
   "outputs": [
    {
     "data": {
      "text/plain": [
       "(23, 5.56, 'Tech', (43+332j))"
      ]
     },
     "execution_count": 143,
     "metadata": {},
     "output_type": "execute_result"
    }
   ],
   "source": [
    "t[:4]"
   ]
  },
  {
   "cell_type": "code",
   "execution_count": 144,
   "id": "8a9f2df5-2a68-4a75-aed6-90b43657cd3e",
   "metadata": {},
   "outputs": [
    {
     "data": {
      "text/plain": [
       "([3, 56, 2], (43, 7.5, 'Abhi'))"
      ]
     },
     "execution_count": 144,
     "metadata": {},
     "output_type": "execute_result"
    }
   ],
   "source": [
    "t[4:]"
   ]
  },
  {
   "cell_type": "code",
   "execution_count": 145,
   "id": "5d33e966-f31f-4a94-b062-ce7a25b1b956",
   "metadata": {},
   "outputs": [
    {
     "data": {
      "text/plain": [
       "('Tech', (43+332j))"
      ]
     },
     "execution_count": 145,
     "metadata": {},
     "output_type": "execute_result"
    }
   ],
   "source": [
    "t[2:4]"
   ]
  },
  {
   "cell_type": "code",
   "execution_count": 146,
   "id": "df378688-f5b2-4d6c-94ca-03772bfc6d2a",
   "metadata": {},
   "outputs": [
    {
     "data": {
      "text/plain": [
       "((43+332j), [3, 56, 2], (43, 7.5, 'Abhi'))"
      ]
     },
     "execution_count": 146,
     "metadata": {},
     "output_type": "execute_result"
    }
   ],
   "source": [
    "t[3:54]"
   ]
  },
  {
   "cell_type": "code",
   "execution_count": 147,
   "id": "32488268-6c9e-4da4-a0db-14b454c91147",
   "metadata": {},
   "outputs": [
    {
     "data": {
      "text/plain": [
       "()"
      ]
     },
     "execution_count": 147,
     "metadata": {},
     "output_type": "execute_result"
    }
   ],
   "source": [
    "t[53:]"
   ]
  },
  {
   "cell_type": "code",
   "execution_count": 148,
   "id": "43861f31-d8cc-40b4-9f31-3ce5f312c116",
   "metadata": {},
   "outputs": [
    {
     "data": {
      "text/plain": [
       "()"
      ]
     },
     "execution_count": 148,
     "metadata": {},
     "output_type": "execute_result"
    }
   ],
   "source": [
    "t[453:3]"
   ]
  },
  {
   "cell_type": "code",
   "execution_count": 149,
   "id": "ab2e0973-5855-4987-8eac-2eec13b4b4f4",
   "metadata": {},
   "outputs": [
    {
     "data": {
      "text/plain": [
       "(23, 5.56, 'Tech', (43+332j), [3, 56, 2], (43, 7.5, 'Abhi'))"
      ]
     },
     "execution_count": 149,
     "metadata": {},
     "output_type": "execute_result"
    }
   ],
   "source": [
    "t[::]"
   ]
  },
  {
   "cell_type": "code",
   "execution_count": 150,
   "id": "233f12ff-ef88-4674-bdbf-f21dad5b2fd6",
   "metadata": {},
   "outputs": [
    {
     "data": {
      "text/plain": [
       "((43, 7.5, 'Abhi'), [3, 56, 2], (43+332j), 'Tech', 5.56, 23)"
      ]
     },
     "execution_count": 150,
     "metadata": {},
     "output_type": "execute_result"
    }
   ],
   "source": [
    "t[::-1]"
   ]
  },
  {
   "cell_type": "code",
   "execution_count": 151,
   "id": "b94e1e52-2b6f-4b35-93c8-fdc12b12fc1e",
   "metadata": {},
   "outputs": [
    {
     "data": {
      "text/plain": [
       "((43+332j), (43, 7.5, 'Abhi'))"
      ]
     },
     "execution_count": 151,
     "metadata": {},
     "output_type": "execute_result"
    }
   ],
   "source": [
    "t[3:8:2]"
   ]
  },
  {
   "cell_type": "code",
   "execution_count": 152,
   "id": "78f6af45-24e3-4058-be61-30fab7284bcd",
   "metadata": {},
   "outputs": [
    {
     "data": {
      "text/plain": [
       "((43, 7.5, 'Abhi'), [3, 56, 2], (43+332j), 'Tech', 5.56, 23)"
      ]
     },
     "execution_count": 152,
     "metadata": {},
     "output_type": "execute_result"
    }
   ],
   "source": [
    "t[534::-1]"
   ]
  },
  {
   "cell_type": "code",
   "execution_count": 153,
   "id": "3f833906-f6c8-4b00-bc4f-53b32ed11626",
   "metadata": {},
   "outputs": [
    {
     "data": {
      "text/plain": [
       "((43, 7.5, 'Abhi'), [3, 56, 2])"
      ]
     },
     "execution_count": 153,
     "metadata": {},
     "output_type": "execute_result"
    }
   ],
   "source": [
    "t[43:3:-1]"
   ]
  },
  {
   "cell_type": "code",
   "execution_count": 154,
   "id": "462c9235-c8da-4b3c-9272-250a3097fbac",
   "metadata": {},
   "outputs": [
    {
     "data": {
      "text/plain": [
       "([3, 56, 2], (43, 7.5, 'Abhi'))"
      ]
     },
     "execution_count": 154,
     "metadata": {},
     "output_type": "execute_result"
    }
   ],
   "source": [
    "t[4:43:]"
   ]
  },
  {
   "cell_type": "code",
   "execution_count": 155,
   "id": "8d7cc3f1-0187-4921-a9ce-c3b6ec0235fa",
   "metadata": {},
   "outputs": [
    {
     "data": {
      "text/plain": [
       "()"
      ]
     },
     "execution_count": 155,
     "metadata": {},
     "output_type": "execute_result"
    }
   ],
   "source": [
    "t[4:43:-1]"
   ]
  },
  {
   "cell_type": "code",
   "execution_count": 156,
   "id": "81450a39-7486-4bb7-86f9-1074b3327724",
   "metadata": {},
   "outputs": [
    {
     "data": {
      "text/plain": [
       "(23, 5.56, 'Tech', (43+332j), [3, 56, 2], (43, 7.5, 'Abhi'))"
      ]
     },
     "execution_count": 156,
     "metadata": {},
     "output_type": "execute_result"
    }
   ],
   "source": [
    "t"
   ]
  },
  {
   "cell_type": "code",
   "execution_count": 157,
   "id": "015e66b0-8667-4fe4-88e4-8e26afdf95c2",
   "metadata": {},
   "outputs": [
    {
     "data": {
      "text/plain": [
       "2"
      ]
     },
     "execution_count": 157,
     "metadata": {},
     "output_type": "execute_result"
    }
   ],
   "source": [
    "t.index('Tech')"
   ]
  },
  {
   "cell_type": "code",
   "execution_count": 158,
   "id": "88169e41-669b-4870-b09d-991c0cc4daad",
   "metadata": {},
   "outputs": [],
   "source": [
    "t3 = t + (43,54,76,54,76)"
   ]
  },
  {
   "cell_type": "code",
   "execution_count": 159,
   "id": "164231cc-2e6d-40b5-8455-82f984a87ba6",
   "metadata": {},
   "outputs": [
    {
     "data": {
      "text/plain": [
       "(23,\n",
       " 5.56,\n",
       " 'Tech',\n",
       " (43+332j),\n",
       " [3, 56, 2],\n",
       " (43, 7.5, 'Abhi'),\n",
       " 43,\n",
       " 54,\n",
       " 76,\n",
       " 54,\n",
       " 76)"
      ]
     },
     "execution_count": 159,
     "metadata": {},
     "output_type": "execute_result"
    }
   ],
   "source": [
    "t3"
   ]
  },
  {
   "cell_type": "code",
   "execution_count": 160,
   "id": "705b8c51-41f5-427e-aa56-1b9041ecd262",
   "metadata": {},
   "outputs": [],
   "source": [
    "t4 = (43,54,2.54,'Abhi',True,False)"
   ]
  },
  {
   "cell_type": "code",
   "execution_count": 161,
   "id": "e57e2cbc-dce5-451e-accf-7de5cec4b439",
   "metadata": {},
   "outputs": [
    {
     "data": {
      "text/plain": [
       "4"
      ]
     },
     "execution_count": 161,
     "metadata": {},
     "output_type": "execute_result"
    }
   ],
   "source": [
    "t4.index(True)"
   ]
  },
  {
   "cell_type": "code",
   "execution_count": 162,
   "id": "7e38c3e5-b699-4654-8c86-8369fc4a8f19",
   "metadata": {},
   "outputs": [
    {
     "data": {
      "text/plain": [
       "3"
      ]
     },
     "execution_count": 162,
     "metadata": {},
     "output_type": "execute_result"
    }
   ],
   "source": [
    "t4.index('Abhi')"
   ]
  },
  {
   "cell_type": "code",
   "execution_count": 163,
   "id": "ead8cd20-58bc-4633-9ec8-8d1977599ca3",
   "metadata": {},
   "outputs": [
    {
     "data": {
      "text/plain": [
       "4"
      ]
     },
     "execution_count": 163,
     "metadata": {},
     "output_type": "execute_result"
    }
   ],
   "source": [
    "t4.index(1)"
   ]
  },
  {
   "cell_type": "code",
   "execution_count": 164,
   "id": "d8d5cdc4-7b51-45fc-be42-1e3916f89eea",
   "metadata": {},
   "outputs": [
    {
     "data": {
      "text/plain": [
       "5"
      ]
     },
     "execution_count": 164,
     "metadata": {},
     "output_type": "execute_result"
    }
   ],
   "source": [
    "t4.index(0)"
   ]
  },
  {
   "cell_type": "code",
   "execution_count": 165,
   "id": "df741d38-e4bc-40d0-9dfe-6d58f427fa4b",
   "metadata": {},
   "outputs": [
    {
     "data": {
      "text/plain": [
       "1"
      ]
     },
     "execution_count": 165,
     "metadata": {},
     "output_type": "execute_result"
    }
   ],
   "source": [
    "t4.count(1)"
   ]
  },
  {
   "cell_type": "code",
   "execution_count": 168,
   "id": "7ab265ad-90ac-47ee-91bc-186b5f28f7e3",
   "metadata": {},
   "outputs": [],
   "source": [
    "t6 = (54,65,43,65,True,\"Abhi\")"
   ]
  },
  {
   "cell_type": "code",
   "execution_count": 169,
   "id": "28ff84e7-5492-438c-9f3f-10b47ca52afb",
   "metadata": {},
   "outputs": [
    {
     "data": {
      "text/plain": [
       "1"
      ]
     },
     "execution_count": 169,
     "metadata": {},
     "output_type": "execute_result"
    }
   ],
   "source": [
    "t6.index(65)"
   ]
  },
  {
   "cell_type": "code",
   "execution_count": 170,
   "id": "97a10a2d-4f84-46fe-bddf-fd21260ad0e2",
   "metadata": {},
   "outputs": [
    {
     "ename": "ValueError",
     "evalue": "tuple.index(x): x not in tuple",
     "output_type": "error",
     "traceback": [
      "\u001b[0;31m---------------------------------------------------------------------------\u001b[0m",
      "\u001b[0;31mValueError\u001b[0m                                Traceback (most recent call last)",
      "Cell \u001b[0;32mIn[170], line 1\u001b[0m\n\u001b[0;32m----> 1\u001b[0m \u001b[43mt6\u001b[49m\u001b[38;5;241;43m.\u001b[39;49m\u001b[43mindex\u001b[49m\u001b[43m(\u001b[49m\u001b[38;5;241;43m3545\u001b[39;49m\u001b[43m)\u001b[49m\n",
      "\u001b[0;31mValueError\u001b[0m: tuple.index(x): x not in tuple"
     ]
    }
   ],
   "source": [
    "t6.index(3545)"
   ]
  },
  {
   "cell_type": "code",
   "execution_count": 171,
   "id": "b46da1f1-1aca-4993-af20-71f91a5738f6",
   "metadata": {},
   "outputs": [
    {
     "data": {
      "text/plain": [
       "4"
      ]
     },
     "execution_count": 171,
     "metadata": {},
     "output_type": "execute_result"
    }
   ],
   "source": [
    "t6.index(1)"
   ]
  },
  {
   "cell_type": "code",
   "execution_count": null,
   "id": "98203237-b891-4387-b8d5-682a8ecf16e4",
   "metadata": {},
   "outputs": [],
   "source": []
  }
 ],
 "metadata": {
  "kernelspec": {
   "display_name": "Python 3 (ipykernel)",
   "language": "python",
   "name": "python3"
  },
  "language_info": {
   "codemirror_mode": {
    "name": "ipython",
    "version": 3
   },
   "file_extension": ".py",
   "mimetype": "text/x-python",
   "name": "python",
   "nbconvert_exporter": "python",
   "pygments_lexer": "ipython3",
   "version": "3.10.8"
  }
 },
 "nbformat": 4,
 "nbformat_minor": 5
}
