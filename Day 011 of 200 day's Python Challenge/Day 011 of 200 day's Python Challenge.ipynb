{
 "cells": [
  {
   "cell_type": "markdown",
   "id": "f7b7a83d-0406-4bc1-bd06-2bbb02d330c0",
   "metadata": {},
   "source": [
    "# Decorator"
   ]
  },
  {
   "cell_type": "code",
   "execution_count": 1,
   "id": "9c4c7b4f-747d-4220-9f14-009a6fdc7cb0",
   "metadata": {},
   "outputs": [],
   "source": [
    "def test():\n",
    "    print('This is the start of my function')\n",
    "    print('This is my function to test')\n",
    "    print(23+53)\n",
    "    print('This is the end of my function')"
   ]
  },
  {
   "cell_type": "code",
   "execution_count": 2,
   "id": "41fb80a5-0b70-4404-a49c-675fccceaf7d",
   "metadata": {},
   "outputs": [
    {
     "name": "stdout",
     "output_type": "stream",
     "text": [
      "This is the start of my function\n",
      "This is my function to test\n",
      "76\n",
      "This is the end of my function\n"
     ]
    }
   ],
   "source": [
    "test()"
   ]
  },
  {
   "cell_type": "code",
   "execution_count": 3,
   "id": "10cb22ff-ce01-4550-8048-1119abf9a982",
   "metadata": {},
   "outputs": [],
   "source": [
    "def deco(func):\n",
    "    \n",
    "    def inner_dec():\n",
    "        print('This is the start of my function')\n",
    "        func()\n",
    "        print('This is the end of my function')\n",
    "    return inner_dec"
   ]
  },
  {
   "cell_type": "code",
   "execution_count": 4,
   "id": "47c53586-555c-4d91-a007-a3b2a0b17bec",
   "metadata": {},
   "outputs": [],
   "source": [
    "@deco\n",
    "def test1():\n",
    "    print(64+39)"
   ]
  },
  {
   "cell_type": "code",
   "execution_count": 5,
   "id": "4150b5d2-f9c0-4822-95ab-1cf553a548df",
   "metadata": {},
   "outputs": [
    {
     "name": "stdout",
     "output_type": "stream",
     "text": [
      "This is the start of my function\n",
      "103\n",
      "This is the end of my function\n"
     ]
    }
   ],
   "source": [
    "test1()"
   ]
  },
  {
   "cell_type": "code",
   "execution_count": 3,
   "id": "56ed86fd-f8dd-436d-8872-e1121001676c",
   "metadata": {},
   "outputs": [],
   "source": [
    "import time"
   ]
  },
  {
   "cell_type": "code",
   "execution_count": 4,
   "id": "52ac0e91-8c42-4005-86d6-4fde3767f128",
   "metadata": {},
   "outputs": [],
   "source": [
    "def timer_test(func):\n",
    "    \n",
    "    def timer_test_inner():\n",
    "        start = time.time()\n",
    "        func()\n",
    "        end = time.time()\n",
    "        print(end - start)\n",
    "    return timer_test_inner"
   ]
  },
  {
   "cell_type": "code",
   "execution_count": 5,
   "id": "0375156d-b05e-4d94-b7a7-e64951542140",
   "metadata": {},
   "outputs": [],
   "source": [
    "def test2():\n",
    "    print(64+43)"
   ]
  },
  {
   "cell_type": "code",
   "execution_count": 6,
   "id": "f6a16ccd-4452-4b66-a8f2-754cc81dda57",
   "metadata": {},
   "outputs": [
    {
     "name": "stdout",
     "output_type": "stream",
     "text": [
      "107\n"
     ]
    }
   ],
   "source": [
    "test2()"
   ]
  },
  {
   "cell_type": "code",
   "execution_count": 7,
   "id": "a90fee71-bde0-4648-9b4d-4d6aac4caf01",
   "metadata": {},
   "outputs": [],
   "source": [
    "@timer_test\n",
    "def test3():\n",
    "    print(645 + 543)"
   ]
  },
  {
   "cell_type": "code",
   "execution_count": 8,
   "id": "5c9dcf6a-bbde-410b-9f5b-74402d9c9806",
   "metadata": {},
   "outputs": [
    {
     "name": "stdout",
     "output_type": "stream",
     "text": [
      "1188\n",
      "4.935264587402344e-05\n"
     ]
    }
   ],
   "source": [
    "test3()"
   ]
  },
  {
   "cell_type": "code",
   "execution_count": 9,
   "id": "2e8bc0fd-284c-450d-b61a-b57d407d5336",
   "metadata": {},
   "outputs": [],
   "source": [
    "@timer_test\n",
    "def test4():\n",
    "    for i in range(100000000):\n",
    "        pass"
   ]
  },
  {
   "cell_type": "code",
   "execution_count": 10,
   "id": "c917a330-d045-4622-a151-9d822909a840",
   "metadata": {},
   "outputs": [
    {
     "name": "stdout",
     "output_type": "stream",
     "text": [
      "2.4923477172851562\n"
     ]
    }
   ],
   "source": [
    "test4()"
   ]
  },
  {
   "cell_type": "code",
   "execution_count": null,
   "id": "4b8937a7-d4c4-47e2-acd6-0de94e33fc32",
   "metadata": {},
   "outputs": [],
   "source": []
  },
  {
   "cell_type": "markdown",
   "id": "dc5c309f-0fe7-4e01-846d-c4ad940dfc95",
   "metadata": {},
   "source": [
    "# Class Methods"
   ]
  },
  {
   "cell_type": "code",
   "execution_count": 16,
   "id": "085a67de-72d7-4532-8705-a9fad116929e",
   "metadata": {},
   "outputs": [],
   "source": [
    "class pwskills:\n",
    "    \n",
    "    def __init__(self, name, email):\n",
    "        self.name = name\n",
    "        self.email = email\n",
    "        \n",
    "    def student_details(self):\n",
    "        print(self.name , self.email)"
   ]
  },
  {
   "cell_type": "code",
   "execution_count": 17,
   "id": "91f5a229-3fd6-4b1e-b689-93f07126304d",
   "metadata": {},
   "outputs": [],
   "source": [
    "pw = pwskills('Mohan', \"mohan@gmail.com\")"
   ]
  },
  {
   "cell_type": "code",
   "execution_count": 18,
   "id": "0426d548-5fff-4301-8fc4-b3d7fe9d7892",
   "metadata": {},
   "outputs": [
    {
     "data": {
      "text/plain": [
       "'Mohan'"
      ]
     },
     "execution_count": 18,
     "metadata": {},
     "output_type": "execute_result"
    }
   ],
   "source": [
    "pw.name"
   ]
  },
  {
   "cell_type": "code",
   "execution_count": 19,
   "id": "2e994cb6-daa6-40dc-ab07-06694a3151fd",
   "metadata": {},
   "outputs": [
    {
     "data": {
      "text/plain": [
       "'mohan@gmail.com'"
      ]
     },
     "execution_count": 19,
     "metadata": {},
     "output_type": "execute_result"
    }
   ],
   "source": [
    "pw.email"
   ]
  },
  {
   "cell_type": "code",
   "execution_count": 20,
   "id": "0ddeae4a-1458-4e34-9ec6-d29f5a750f76",
   "metadata": {},
   "outputs": [
    {
     "name": "stdout",
     "output_type": "stream",
     "text": [
      "Mohan mohan@gmail.com\n"
     ]
    }
   ],
   "source": [
    "pw.student_details()"
   ]
  },
  {
   "cell_type": "code",
   "execution_count": 22,
   "id": "8f2c444d-fc86-4e3c-9934-c10ce7b867af",
   "metadata": {},
   "outputs": [],
   "source": [
    "class pwskills1:\n",
    "    \n",
    "    def __init__(self, name, email):\n",
    "        self.name = name\n",
    "        self.email = email\n",
    "        \n",
    "    @classmethod\n",
    "    def details(cls, name, email):\n",
    "        return cls(name,email)\n",
    "    \n",
    "    def student_details(self):\n",
    "        print(self.name , self.email)"
   ]
  },
  {
   "cell_type": "code",
   "execution_count": 25,
   "id": "facd99e2-7b50-4081-8933-fb9003f5291c",
   "metadata": {},
   "outputs": [],
   "source": [
    "pw1 = pwskills1.details('Abhi','Abhi@gmail.com')"
   ]
  },
  {
   "cell_type": "code",
   "execution_count": 27,
   "id": "db0e03e4-0c62-4aec-8938-3dc226ffd575",
   "metadata": {},
   "outputs": [
    {
     "data": {
      "text/plain": [
       "'Abhi'"
      ]
     },
     "execution_count": 27,
     "metadata": {},
     "output_type": "execute_result"
    }
   ],
   "source": [
    "pw1.name"
   ]
  },
  {
   "cell_type": "code",
   "execution_count": 28,
   "id": "3aeaeafb-482d-4378-9035-3c1cdafc1d7e",
   "metadata": {},
   "outputs": [
    {
     "data": {
      "text/plain": [
       "'Abhi@gmail.com'"
      ]
     },
     "execution_count": 28,
     "metadata": {},
     "output_type": "execute_result"
    }
   ],
   "source": [
    "pw1.email"
   ]
  },
  {
   "cell_type": "code",
   "execution_count": 31,
   "id": "2716b704-8be2-4a2b-a31a-42cb1d5d74b0",
   "metadata": {},
   "outputs": [],
   "source": [
    "class pwskills2:\n",
    "    \n",
    "    mobiel_num = 9139289393\n",
    "    \n",
    "    def __init__(self, name, email):\n",
    "        self.name = name\n",
    "        self.email = email\n",
    "        \n",
    "        \n",
    "    @classmethod\n",
    "    def change_num(self, mobile):\n",
    "        self.mobiel_num = mobile\n",
    "    @classmethod\n",
    "    def details(cls, name, email):\n",
    "        return cls(name,email)\n",
    "    \n",
    "    def student_details(self):\n",
    "        print(self.name , self.email)"
   ]
  },
  {
   "cell_type": "code",
   "execution_count": 37,
   "id": "14ab4e61-8bce-49df-96da-65d20cbf6613",
   "metadata": {},
   "outputs": [],
   "source": [
    "pwskills2.change_num(534454565)"
   ]
  },
  {
   "cell_type": "code",
   "execution_count": 33,
   "id": "2f28086c-2f68-4f00-939f-6f3892578dff",
   "metadata": {},
   "outputs": [
    {
     "data": {
      "text/plain": [
       "913253434334"
      ]
     },
     "execution_count": 33,
     "metadata": {},
     "output_type": "execute_result"
    }
   ],
   "source": [
    "pwskills2.mobiel_num"
   ]
  },
  {
   "cell_type": "code",
   "execution_count": 34,
   "id": "e544b766-b860-44d9-b157-3799a50a4dfa",
   "metadata": {},
   "outputs": [
    {
     "data": {
      "text/plain": [
       "913253434334"
      ]
     },
     "execution_count": 34,
     "metadata": {},
     "output_type": "execute_result"
    }
   ],
   "source": [
    "pwskills2.mobiel_num"
   ]
  },
  {
   "cell_type": "code",
   "execution_count": 35,
   "id": "4a594277-58e5-46b0-8325-1efd217352c8",
   "metadata": {},
   "outputs": [],
   "source": [
    "pw4 = pwskills2('Abhi','tech@gmail.com')"
   ]
  },
  {
   "cell_type": "code",
   "execution_count": 38,
   "id": "93c01919-7e97-4153-aca0-9f9cf8be48ff",
   "metadata": {},
   "outputs": [
    {
     "data": {
      "text/plain": [
       "534454565"
      ]
     },
     "execution_count": 38,
     "metadata": {},
     "output_type": "execute_result"
    }
   ],
   "source": [
    "pw4.mobiel_num"
   ]
  },
  {
   "cell_type": "code",
   "execution_count": 39,
   "id": "a130459b-1754-459f-b003-1fee78cc908b",
   "metadata": {},
   "outputs": [],
   "source": [
    "class pwskills3:\n",
    "    \n",
    "    mobiel_num = 9139289393\n",
    "    \n",
    "    def __init__(self, name, email):\n",
    "        self.name = name\n",
    "        self.email = email\n",
    "        \n",
    "        \n",
    "    @classmethod\n",
    "    def change_num(self, mobile):\n",
    "        self.mobiel_num = mobile\n",
    "    @classmethod\n",
    "    def details(cls, name, email):\n",
    "        return cls(name,email)\n",
    "    \n",
    "    def student_details(self):\n",
    "        print(self.name , self.email)"
   ]
  },
  {
   "cell_type": "code",
   "execution_count": 40,
   "id": "f8645e25-9aad-4ebd-9c8d-19438117e15a",
   "metadata": {},
   "outputs": [],
   "source": [
    "def course_details(cls, course_name):\n",
    "    print(\"course name is :\", course_name)"
   ]
  },
  {
   "cell_type": "code",
   "execution_count": 43,
   "id": "f90d0b3f-daa8-4674-8cff-9694afed4df2",
   "metadata": {},
   "outputs": [],
   "source": [
    "pwskills3.course_details = classmethod(course_details) # for adding any external function in our class "
   ]
  },
  {
   "cell_type": "code",
   "execution_count": 42,
   "id": "559d6ce8-4356-4d9d-ba2f-086db64528e4",
   "metadata": {},
   "outputs": [
    {
     "name": "stdout",
     "output_type": "stream",
     "text": [
      "course name is : Data Science\n"
     ]
    }
   ],
   "source": [
    "pwskills3.course_details(\"Data Science\")"
   ]
  },
  {
   "cell_type": "code",
   "execution_count": 49,
   "id": "0f99c197-296e-4bcb-be88-8dbf8d5f092e",
   "metadata": {},
   "outputs": [
    {
     "ename": "AttributeError",
     "evalue": "change_num",
     "output_type": "error",
     "traceback": [
      "\u001b[0;31m---------------------------------------------------------------------------\u001b[0m",
      "\u001b[0;31mAttributeError\u001b[0m                            Traceback (most recent call last)",
      "Cell \u001b[0;32mIn[49], line 1\u001b[0m\n\u001b[0;32m----> 1\u001b[0m \u001b[38;5;28;01mdel\u001b[39;00m pwskills3\u001b[38;5;241m.\u001b[39mchange_num \u001b[38;5;66;03m# delete a class memeber\u001b[39;00m\n",
      "\u001b[0;31mAttributeError\u001b[0m: change_num"
     ]
    }
   ],
   "source": [
    "del pwskills3.change_num # delete a class memeber"
   ]
  },
  {
   "cell_type": "code",
   "execution_count": 50,
   "id": "5c195a07-8f23-4a9b-8b64-901c039dc3e3",
   "metadata": {},
   "outputs": [],
   "source": [
    "# pwskills3. # and press tab key then we can see a change_num function is not a member of pwskills3 class  now if we can't change number by using change_num function\n",
    "# pwskills3.change_num(454555444635) # Show a error"
   ]
  },
  {
   "cell_type": "code",
   "execution_count": 51,
   "id": "0551d562-51ee-49ec-be98-ba936a4941c6",
   "metadata": {},
   "outputs": [
    {
     "ename": "AttributeError",
     "evalue": "course_details",
     "output_type": "error",
     "traceback": [
      "\u001b[0;31m---------------------------------------------------------------------------\u001b[0m",
      "\u001b[0;31mAttributeError\u001b[0m                            Traceback (most recent call last)",
      "Cell \u001b[0;32mIn[51], line 1\u001b[0m\n\u001b[0;32m----> 1\u001b[0m \u001b[38;5;28;43mdelattr\u001b[39;49m\u001b[43m(\u001b[49m\u001b[43mpwskills3\u001b[49m\u001b[43m,\u001b[49m\u001b[38;5;124;43m\"\u001b[39;49m\u001b[38;5;124;43mcourse_details\u001b[39;49m\u001b[38;5;124;43m\"\u001b[39;49m\u001b[43m)\u001b[49m \n",
      "\u001b[0;31mAttributeError\u001b[0m: course_details"
     ]
    }
   ],
   "source": [
    "delattr(pwskills3,\"course_details\") "
   ]
  },
  {
   "cell_type": "code",
   "execution_count": null,
   "id": "e47190f1-d52d-42e5-b98f-b30be0aaf8fa",
   "metadata": {},
   "outputs": [],
   "source": []
  },
  {
   "cell_type": "code",
   "execution_count": null,
   "id": "be981750-6828-4ef7-8244-4b711fd5a0b1",
   "metadata": {},
   "outputs": [],
   "source": []
  },
  {
   "cell_type": "code",
   "execution_count": null,
   "id": "4f61816c-ab57-4709-84a4-452ed5f995a8",
   "metadata": {},
   "outputs": [],
   "source": []
  },
  {
   "cell_type": "code",
   "execution_count": null,
   "id": "518aee4c-3879-46ae-9d06-7e2caa4b28f8",
   "metadata": {},
   "outputs": [],
   "source": []
  },
  {
   "cell_type": "code",
   "execution_count": null,
   "id": "d2bdb409-8d46-412f-afed-d8cd73203534",
   "metadata": {},
   "outputs": [],
   "source": []
  },
  {
   "cell_type": "code",
   "execution_count": null,
   "id": "1a8c74c9-c261-47a0-8429-fd6a2f88cff8",
   "metadata": {},
   "outputs": [],
   "source": []
  },
  {
   "cell_type": "code",
   "execution_count": null,
   "id": "59d09256-7c1e-4966-aaee-8be3abf7e506",
   "metadata": {},
   "outputs": [],
   "source": []
  }
 ],
 "metadata": {
  "kernelspec": {
   "display_name": "Python 3 (ipykernel)",
   "language": "python",
   "name": "python3"
  },
  "language_info": {
   "codemirror_mode": {
    "name": "ipython",
    "version": 3
   },
   "file_extension": ".py",
   "mimetype": "text/x-python",
   "name": "python",
   "nbconvert_exporter": "python",
   "pygments_lexer": "ipython3",
   "version": "3.10.8"
  }
 },
 "nbformat": 4,
 "nbformat_minor": 5
}
